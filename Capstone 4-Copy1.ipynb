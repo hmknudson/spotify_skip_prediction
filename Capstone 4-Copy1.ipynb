{
 "cells": [
  {
   "cell_type": "markdown",
   "metadata": {},
   "source": [
    "# Introduction\n",
    "\n"
   ]
  },
  {
   "cell_type": "code",
   "execution_count": 1,
   "metadata": {},
   "outputs": [
    {
     "output_type": "execute_result",
     "data": {
      "text/plain": "<Client: 'tcp://192.168.1.5:8786' processes=0 threads=0, memory=0 B>",
      "text/html": "<table style=\"border: 2px solid white;\">\n<tr>\n<td style=\"vertical-align: top; border: 0px solid white\">\n<h3 style=\"text-align: left;\">Client</h3>\n<ul style=\"text-align: left; list-style: none; margin: 0; padding: 0;\">\n  <li><b>Scheduler: </b>tcp://localhost:8786</li>\n  <li><b>Dashboard: </b><a href='http://localhost:8787/status' target='_blank'>http://localhost:8787/status</a></li>\n</ul>\n</td>\n<td style=\"vertical-align: top; border: 0px solid white\">\n<h3 style=\"text-align: left;\">Cluster</h3>\n<ul style=\"text-align: left; list-style:none; margin: 0; padding: 0;\">\n  <li><b>Workers: </b>0</li>\n  <li><b>Cores: </b>0</li>\n  <li><b>Memory: </b>0 B</li>\n</ul>\n</td>\n</tr>\n</table>"
     },
     "metadata": {},
     "execution_count": 1
    }
   ],
   "source": [
    "import warnings\n",
    "warnings.filterwarnings(\"ignore\")\n",
    "\n",
    "from dask.distributed import Client, progress\n",
    "client = Client('localhost:8786')\n",
    "client\n",
    "\n",
    "print d"
   ]
  },
  {
   "cell_type": "code",
   "execution_count": 762,
   "metadata": {},
   "outputs": [],
   "source": [
    "import pandas as pd\n",
    "import numpy as np\n",
    "import dask\n",
    "import dask.dataframe as dd\n",
    "from dask import delayed\n",
    "import dask.array as da\n",
    "import math\n",
    "from matplotlib import pyplot as plt\n",
    "import seaborn as sns\n",
    "import hdbscan \n",
    "from kmodes.kmodes import KModes\n",
    "import statsmodels.api as sm\n",
    "from sklearn.pipeline import Pipeline\n",
    "from sklearn.model_selection import train_test_split\n",
    "from sklearn.linear_model import LogisticRegression\n",
    "from sklearn.metrics import confusion_matrix\n",
    "from sklearn.preprocessing import StandardScaler"
   ]
  },
  {
   "cell_type": "code",
   "execution_count": null,
   "metadata": {},
   "outputs": [],
   "source": [
    "spotify = dd.read_csv('/Volumes/T_Drive/Data/log_0_20180715_000000000000.csv', blocksize=\"10MB\")"
   ]
  },
  {
   "cell_type": "code",
   "execution_count": null,
   "metadata": {},
   "outputs": [],
   "source": [
    "spotify.info()"
   ]
  },
  {
   "cell_type": "code",
   "execution_count": null,
   "metadata": {},
   "outputs": [],
   "source": [
    "spotify.head()"
   ]
  },
  {
   "cell_type": "code",
   "execution_count": null,
   "metadata": {},
   "outputs": [],
   "source": [
    "# see tail of this particular chunk\n",
    "spotify.tail()"
   ]
  },
  {
   "cell_type": "code",
   "execution_count": null,
   "metadata": {},
   "outputs": [],
   "source": [
    "spotify.dtypes"
   ]
  },
  {
   "cell_type": "code",
   "execution_count": null,
   "metadata": {},
   "outputs": [],
   "source": [
    "spotify.shape[0].compute()"
   ]
  },
  {
   "cell_type": "code",
   "execution_count": null,
   "metadata": {},
   "outputs": [],
   "source": [
    "print(spotify.isnull().sum().compute())"
   ]
  },
  {
   "cell_type": "code",
   "execution_count": null,
   "metadata": {},
   "outputs": [],
   "source": [
    "# How many sessions are there?\n",
    "spotify.session_id.unique().compute()"
   ]
  },
  {
   "cell_type": "code",
   "execution_count": null,
   "metadata": {},
   "outputs": [],
   "source": [
    "# Make booleans numeric\n",
    "\n",
    "def make_bool_num(df):\n",
    "    for col in df:\n",
    "        if df[col].dtype == 'bool':\n",
    "            df[col] = df[col] * 1\n",
    "    return df[col] \n",
    "\n",
    "make_bool_num(spotify).compute()"
   ]
  },
  {
   "cell_type": "code",
   "execution_count": null,
   "metadata": {
    "scrolled": true
   },
   "outputs": [],
   "source": [
    "spotify.dtypes"
   ]
  },
  {
   "cell_type": "markdown",
   "metadata": {},
   "source": [
    "session_id - unique identifier for the session that this row is a part of\n",
    "\n",
    "session_position {1-20} - position of row within session\n",
    "\n",
    "session_length {10-20} - number of rows in session\n",
    "\n",
    "track_id_clean - unique identifier for the track played. This is linked with track_id in the track features and metadata table.\n",
    "\n",
    "skip_1 - Boolean indicating if the track was only played very briefly\n",
    "\n",
    "skip_2 - Boolean indicating if the track was only played briefly\n",
    "\n",
    "skip_3 - Boolean indicating if most of the track was played\n",
    "\n",
    "not_skipped Boolean indicating that the track was played in its entirety\n",
    "\n",
    "context_switch - Boolean indicating if the user changed context between the previous row and the current row. This could for example occur if the user switched from one playlist to another.\n",
    "\n",
    "no_pause_before_play - Boolean indicating if there was no pause between playback of the previous track and this track\n",
    "\n",
    "short_pause_before_play - Boolean indicating if there was a short pause between playback of the previous track and this track\n",
    "\n",
    "long_pause_before_play - Boolean indicating if there was a long pause between playback of the previous track and this track\n",
    "\n",
    "hist_user_behavior_n_seekfwd - Number of times the user did a seek forward within track\n",
    "\n",
    "hist_user_behavior_n_seekback - Number of times the user did a seek back within track\n",
    "\n",
    "hist_user_behavior_is_shuffle - Boolean indicating if the user encountered this track while shuffle mode was activated\n",
    "\n",
    "hour_of_day {0-23} - The hour of day\n",
    "\n",
    "date - E.g. 2018-09-18 - The date\n",
    "\n",
    "premium - Boolean indicating if the user was on premium or not. This has potential implications for skipping behavior.\n",
    "\n",
    "context_type - E.g. editorial playlist - what type of context the playback occurred within\n",
    "\n",
    "hist_user_behavior_reason_start - E.g. fwdbtn - the user action which led to the current track being played\n",
    "\n",
    "hist_user_behavior_reason_end - E.g. trackdone - the user action which led to the current track playback ending"
   ]
  },
  {
   "cell_type": "code",
   "execution_count": null,
   "metadata": {},
   "outputs": [],
   "source": [
    "# Make a slice of ints for histograms\n",
    "spotify_int = spotify.select_dtypes(include='int64')"
   ]
  },
  {
   "cell_type": "code",
   "execution_count": null,
   "metadata": {},
   "outputs": [],
   "source": [
    "spotify_int.info()"
   ]
  },
  {
   "cell_type": "code",
   "execution_count": null,
   "metadata": {},
   "outputs": [],
   "source": [
    "spotify_int.head()"
   ]
  },
  {
   "cell_type": "code",
   "execution_count": null,
   "metadata": {},
   "outputs": [],
   "source": [
    "def get_dist(df, figsize, rotation, hspace, wspace):\n",
    "    plt.figure(figsize=(figsize))\n",
    "    for i, col in enumerate(df):\n",
    "        num_vals = len(df.columns)\n",
    "        num_cols = math.ceil(num_vals / 5)\n",
    "        num_rows = math.ceil(num_vals / num_cols)\n",
    "        plt.subplot(num_rows, num_cols, i+1)\n",
    "        plt.hist(df[col], bins=20)\n",
    "        plt.title('Histogram of {}'.format(col))\n",
    "        plt.xlabel('{}'.format(col))\n",
    "        plt.ylabel('Observations')\n",
    "        plt.xticks(rotation=rotation)\n",
    "        plt.subplots_adjust(hspace=hspace, wspace=wspace)\n",
    "\n",
    "get_dist(spotify_int.compute(), (22,15), 'horizontal', .5, .5)"
   ]
  },
  {
   "cell_type": "markdown",
   "metadata": {},
   "source": [
    "Okay, so we definitely have at least 10 Bernoulli distributions because of the booleans. I want to look at hist_user_behavior_n_seekfwd and hist_user_behavior_n_seekback to see exactly what values they contain."
   ]
  },
  {
   "cell_type": "code",
   "execution_count": null,
   "metadata": {},
   "outputs": [],
   "source": [
    "spotify['hist_user_behavior_n_seekfwd'].value_counts().compute()"
   ]
  },
  {
   "cell_type": "code",
   "execution_count": null,
   "metadata": {},
   "outputs": [],
   "source": [
    "spotify['hist_user_behavior_n_seekback'].value_counts().compute()"
   ]
  },
  {
   "cell_type": "markdown",
   "metadata": {},
   "source": [
    "Alright, so there's actually quite a variety of values in these columns (definitely some outliers as well). Of course, most people didn't seek backwards or forwards within a track at all, but we can see that a few people did many times.\n",
    "\n",
    "Now we'll want to see the distribution for the non-numeric variables (objects) in the user interaction df. Let's look at which ones they are first."
   ]
  },
  {
   "cell_type": "code",
   "execution_count": null,
   "metadata": {},
   "outputs": [],
   "source": [
    "spotify_obj = spotify.select_dtypes(include='object')"
   ]
  },
  {
   "cell_type": "code",
   "execution_count": null,
   "metadata": {},
   "outputs": [],
   "source": [
    "spotify_obj.head()"
   ]
  },
  {
   "cell_type": "code",
   "execution_count": null,
   "metadata": {},
   "outputs": [],
   "source": [
    "# Find number of unique dates in the dataset \n",
    "pd.set_option(\"display.max_rows\", 70)\n",
    "print(spotify.date.unique().compute())"
   ]
  },
  {
   "cell_type": "code",
   "execution_count": null,
   "metadata": {},
   "outputs": [],
   "source": [
    "# I want to pull out just the month & day from date, since that could be interesting & most years are 2018\n",
    "\n",
    "# First convert date from object to datetime\n",
    "spotify['date'] = dd.to_datetime(spotify['date'])\n",
    "\n",
    "# Extract just the day of the month from date\n",
    "spotify['day'] = spotify.date.dt.day\n",
    "\n",
    "# Check all represented days are still there\n",
    "print(spotify['day'].unique().compute())"
   ]
  },
  {
   "cell_type": "code",
   "execution_count": null,
   "metadata": {},
   "outputs": [],
   "source": [
    "# Now we'll get month\n",
    "spotify['month'] = spotify.date.dt.month\n",
    " \n",
    "# Check both months are there\n",
    "print(spotify['month'].unique().compute())"
   ]
  },
  {
   "cell_type": "code",
   "execution_count": null,
   "metadata": {},
   "outputs": [],
   "source": [
    "# Now I need to put month & day together in one int variable, since we need them both together, as some days overlap\n",
    "\n",
    "# Make a month_day column that includes both day and month as float\n",
    "spotify['month_day'] = spotify['month'] + (spotify['day'] / 100)"
   ]
  },
  {
   "cell_type": "code",
   "execution_count": null,
   "metadata": {
    "scrolled": true
   },
   "outputs": [],
   "source": [
    "# Check this was done correctly\n",
    "spotify.head()"
   ]
  },
  {
   "cell_type": "code",
   "execution_count": null,
   "metadata": {},
   "outputs": [],
   "source": [
    "print(spotify.month_day.unique().compute())"
   ]
  },
  {
   "cell_type": "code",
   "execution_count": null,
   "metadata": {},
   "outputs": [],
   "source": [
    "# Now, since there are a few different years here, we'll pull those out separately too just in case that's important\n",
    "\n",
    "# Get year variable\n",
    "spotify['year'] = spotify.date.dt.year\n",
    "\n",
    "# Check both months are there\n",
    "print(spotify['year'].unique().compute())"
   ]
  },
  {
   "cell_type": "code",
   "execution_count": null,
   "metadata": {},
   "outputs": [],
   "source": [
    "# Lets also check the value_counts for 'year,' since I think 2018 is way more represented \n",
    "print(spotify.year.value_counts().unique().compute())"
   ]
  },
  {
   "cell_type": "code",
   "execution_count": null,
   "metadata": {},
   "outputs": [],
   "source": [
    "spotify.head()"
   ]
  },
  {
   "cell_type": "code",
   "execution_count": null,
   "metadata": {},
   "outputs": [],
   "source": [
    "# Now we need to see what the unique values of the other objects are\n",
    "print(spotify.context_type.value_counts().compute())                       \n",
    "print(spotify.hist_user_behavior_reason_start.value_counts().compute())    \n",
    "print(spotify.hist_user_behavior_reason_end.value_counts().compute())"
   ]
  },
  {
   "cell_type": "code",
   "execution_count": null,
   "metadata": {},
   "outputs": [],
   "source": [
    "# Let's recode the relevant objects to make them numeric before running barplots & other EDA\n",
    "\n",
    "# Produce a dictionary associating the alphabetized values of a col with their numeric indices \n",
    "def make_numeric(df_series):\n",
    "    df_series_sorted = sorted(df_series.unique())\n",
    "    num_dict = {}\n",
    "    for index, val in enumerate(df_series_sorted):\n",
    "        num_dict[val] = index    \n",
    "    return num_dict\n",
    "\n",
    "# Recode the col using the index numbers generated from the previous make_numeric function\n",
    "def recode(df, column_name, recode_column_name, dtype):\n",
    "    value_dict = make_numeric(df[column_name])\n",
    "    df[recode_column_name] = df.apply(lambda row: value_dict[row[column_name]], axis=1, meta=dtype)\n",
    "    print(value_dict)"
   ]
  },
  {
   "cell_type": "code",
   "execution_count": null,
   "metadata": {},
   "outputs": [],
   "source": [
    "# Apply recode function to objects\n",
    "recode(spotify, \"context_type\", \"context_type_num\", \"int64\")\n",
    "recode(spotify, \"hist_user_behavior_reason_start\", \"reason_start_num\", \"int64\")\n",
    "recode(spotify, \"hist_user_behavior_reason_end\", \"reason_end_num\", \"int64\")"
   ]
  },
  {
   "cell_type": "code",
   "execution_count": null,
   "metadata": {},
   "outputs": [],
   "source": [
    "# Okay, now we're ready to make a slice without the id's & other objects so we can run barplots\n",
    "spotify_eda = spotify.drop(columns=[\n",
    "    'date', \n",
    "    'session_id', \n",
    "    'track_id_clean', \n",
    "    'context_type', \n",
    "    'hist_user_behavior_reason_start',\n",
    "    'hist_user_behavior_reason_end'\n",
    "])"
   ]
  },
  {
   "cell_type": "code",
   "execution_count": null,
   "metadata": {},
   "outputs": [],
   "source": [
    "# Double-check all are ints and floats\n",
    "spotify_eda.dtypes"
   ]
  },
  {
   "cell_type": "code",
   "execution_count": null,
   "metadata": {},
   "outputs": [],
   "source": [
    "# Check 'not_skipped' to make sure it represents whether the user skipped the track at any point\n",
    "\n",
    "print(spotify_eda.not_skipped.compute())\n",
    "print(spotify_eda.skip_1.compute())\n",
    "print(spotify_eda.skip_2.compute())\n",
    "print(spotify_eda.skip_3.compute())"
   ]
  },
  {
   "cell_type": "markdown",
   "metadata": {},
   "source": [
    "Great, so not_skipped does represent whether or not a song was skipped at any point during its play. \n",
    "\n",
    "However, I think the way not_skipped is recorded makes interpreting it a bit confusing, simply because 1 means 'not' skipped, which is a negative. I like to have 0s be negative, so I'm just going to create a variable - 'skipped' - that takes the value 1 if the song was skipped, and 0 if the song was not skipped.\n",
    "\n",
    "The following is not the most elegant solution, but I wanted to use np.where, which I could not find an appropriate counterpart for in dask, so I converted the df to pandas, used np.where to make the 'skipped' column, and then converted the df back to a dask df."
   ]
  },
  {
   "cell_type": "code",
   "execution_count": null,
   "metadata": {},
   "outputs": [],
   "source": [
    "spotify_eda_pd = spotify_eda.compute()\n",
    "\n",
    "spotify_eda_pd['skipped'] = np.where(spotify_eda_pd['not_skipped']>0, 0, 1)"
   ]
  },
  {
   "cell_type": "code",
   "execution_count": null,
   "metadata": {
    "scrolled": true
   },
   "outputs": [],
   "source": [
    "spotify_eda_pd.head()"
   ]
  },
  {
   "cell_type": "markdown",
   "metadata": {},
   "source": [
    "Great, the first 5 observations in skipped are all 0s, whereas the first 5 in not_skipped are all 1s."
   ]
  },
  {
   "cell_type": "code",
   "execution_count": null,
   "metadata": {},
   "outputs": [],
   "source": [
    "# Convert back to dask df\n",
    "spotify_eda = dd.from_pandas(spotify_eda_pd, npartitions=1)"
   ]
  },
  {
   "cell_type": "code",
   "execution_count": null,
   "metadata": {},
   "outputs": [],
   "source": [
    "spotify_eda.info()     # Making sure it's a dask df & col number is correct"
   ]
  },
  {
   "cell_type": "code",
   "execution_count": null,
   "metadata": {},
   "outputs": [],
   "source": [
    "# Show a countplot for all columns in eda dataset\n",
    "\n",
    "def countplot(df, rotation): \n",
    "    plt.figure(figsize=(15,10))\n",
    "    for col in df:\n",
    "        sns.catplot(x=col, kind='count', palette='Greens_r', data=df)\n",
    "        plt.title('Distribution of {}'.format(col))\n",
    "        plt.xlabel('{}'.format(col))\n",
    "        plt.ylabel('Count')\n",
    "        plt.xticks(rotation=rotation)\n",
    "        plt.show()       "
   ]
  },
  {
   "cell_type": "code",
   "execution_count": null,
   "metadata": {},
   "outputs": [],
   "source": [
    "# # Use countplot function for our df\n",
    "# countplot(spotify_eda.compute(), 'vertical')\n",
    "# Alright we'll do this when we have the fucking cluster synced"
   ]
  },
  {
   "cell_type": "code",
   "execution_count": null,
   "metadata": {},
   "outputs": [],
   "source": [
    "# Check what number of tracks in a listening session is most common\n",
    "print(spotify_eda.session_length.value_counts().compute())"
   ]
  },
  {
   "cell_type": "code",
   "execution_count": null,
   "metadata": {},
   "outputs": [],
   "source": [
    "# Make slice with only those listening sessions that have 20 songs in them\n",
    "spotify_20 = spotify_eda[spotify_eda['session_length'] == 20]\n",
    "\n",
    "spotify_20.info()"
   ]
  },
  {
   "cell_type": "code",
   "execution_count": null,
   "metadata": {},
   "outputs": [],
   "source": [
    "# Check length with above\n",
    "len(spotify_20)"
   ]
  },
  {
   "cell_type": "code",
   "execution_count": null,
   "metadata": {},
   "outputs": [],
   "source": [
    "# Let's now limit ourselves to the 1st, middle, and last songs in each session\n",
    "spotify20_3tracks =  spotify_20[(spotify_20[\n",
    "    'session_position'] == 1) | (spotify_20[\n",
    "    'session_position'] == 10) | (spotify_20[\n",
    "    'session_position'] == 20)]"
   ]
  },
  {
   "cell_type": "code",
   "execution_count": null,
   "metadata": {},
   "outputs": [],
   "source": [
    "spotify20_3tracks.info()"
   ]
  },
  {
   "cell_type": "code",
   "execution_count": null,
   "metadata": {},
   "outputs": [],
   "source": [
    "spotify20_3tracks.head()"
   ]
  },
  {
   "cell_type": "code",
   "execution_count": null,
   "metadata": {},
   "outputs": [],
   "source": [
    "len(spotify20_3tracks)"
   ]
  },
  {
   "cell_type": "code",
   "execution_count": null,
   "metadata": {},
   "outputs": [],
   "source": [
    "# ~Split spotify20_3tracks into 3 slices~\n",
    "\n",
    "# A slice with all of the 1st tracks in each listening session:\n",
    "spotify_track1 = spotify20_3tracks[spotify20_3tracks['session_position'] == 1]\n",
    "\n",
    "# A slice with all of the 10th tracks in each listening session:\n",
    "spotify_track10 = spotify20_3tracks[spotify20_3tracks['session_position'] == 10]\n",
    "\n",
    "# A slice with all of the last (20th) track in each listening session:\n",
    "spotify_track20 = spotify20_3tracks[spotify20_3tracks['session_position'] == 20]"
   ]
  },
  {
   "cell_type": "code",
   "execution_count": null,
   "metadata": {},
   "outputs": [],
   "source": [
    "len(spotify_track1)"
   ]
  },
  {
   "cell_type": "code",
   "execution_count": null,
   "metadata": {},
   "outputs": [],
   "source": [
    "len(spotify_track10)"
   ]
  },
  {
   "cell_type": "code",
   "execution_count": null,
   "metadata": {},
   "outputs": [],
   "source": [
    "len(spotify_track20)"
   ]
  },
  {
   "cell_type": "markdown",
   "metadata": {},
   "source": [
    "Great, they're all equal, as expected.\n",
    "\n",
    "First let's do some EDA for these slices, one at a time. Then perhaps we can compare the slices to each other, to tease out how they might diverge (if they do at all)."
   ]
  },
  {
   "cell_type": "code",
   "execution_count": null,
   "metadata": {},
   "outputs": [],
   "source": [
    "# First, let's persist these datasets to memory, since they're smaller in scope than the original\n",
    "spotify_track1 = client.persist(spotify_track1)\n",
    "spotify_track10 = client.persist(spotify_track10)\n",
    "spotify_track20 = client.persist(spotify_track20)"
   ]
  },
  {
   "cell_type": "code",
   "execution_count": null,
   "metadata": {},
   "outputs": [],
   "source": [
    "countplot(spotify_track1.compute(), 'vertical')"
   ]
  },
  {
   "cell_type": "code",
   "execution_count": null,
   "metadata": {
    "scrolled": true
   },
   "outputs": [],
   "source": [
    "countplot(spotify_track10.compute(), 'vertical')"
   ]
  },
  {
   "cell_type": "code",
   "execution_count": null,
   "metadata": {},
   "outputs": [],
   "source": [
    "countplot(spotify_track20.compute(), 'vertical')"
   ]
  },
  {
   "cell_type": "markdown",
   "metadata": {},
   "source": [
    "Okay let's do a bivariate analysis with 'skipped' and the other variables in the dataset, for each of the 3 slices"
   ]
  },
  {
   "cell_type": "code",
   "execution_count": null,
   "metadata": {},
   "outputs": [],
   "source": [
    "# Show a barplot for all columns in eda dataset with the given y (passed in as string)\n",
    "\n",
    "def barplot(df, rotation, y): \n",
    "    for col in df:\n",
    "        plt.figure(figsize=(15,10))\n",
    "        sns.barplot(x=col, y=y, palette='Greens_r', data=df)\n",
    "        plt.title('Relationship between {} & {}'.format(col, y))\n",
    "        plt.xlabel('{}'.format(col))\n",
    "        plt.ylabel('{}'.format(y))\n",
    "        plt.xticks(rotation=rotation)\n",
    "        plt.show()"
   ]
  },
  {
   "cell_type": "code",
   "execution_count": null,
   "metadata": {},
   "outputs": [],
   "source": [
    "barplot(spotify_track1.compute(), 'vertical', 'skipped')"
   ]
  },
  {
   "cell_type": "code",
   "execution_count": null,
   "metadata": {},
   "outputs": [],
   "source": [
    "barplot(spotify_track10.compute(), 'vertical', 'skipped')"
   ]
  },
  {
   "cell_type": "code",
   "execution_count": null,
   "metadata": {},
   "outputs": [],
   "source": [
    "barplot(spotify_track20.compute(), 'vertical', 'skipped')"
   ]
  },
  {
   "cell_type": "markdown",
   "metadata": {},
   "source": [
    "Okay, some boxplots would be fun - they'll give better measures of central tendency."
   ]
  },
  {
   "cell_type": "code",
   "execution_count": null,
   "metadata": {},
   "outputs": [],
   "source": [
    "# Show a boxplot for all columns in eda dataset with the given y (passed in as string) - in case I need to use this\n",
    "\n",
    "def boxplot(df, rotation, y): \n",
    "    for col in df:\n",
    "        plt.figure(figsize=(20,25))\n",
    "        sns.boxplot(x=col, y=y, palette='Greens_r', data=df)\n",
    "        plt.title('Relationship between {} & {}'.format(col, y))\n",
    "        plt.xlabel('{}'.format(col))\n",
    "        plt.ylabel('{}'.format(y))\n",
    "        plt.xticks(rotation=rotation)\n",
    "        plt.show()"
   ]
  },
  {
   "cell_type": "code",
   "execution_count": null,
   "metadata": {},
   "outputs": [],
   "source": [
    "print(spotify_track1['premium'].name)"
   ]
  },
  {
   "cell_type": "code",
   "execution_count": null,
   "metadata": {
    "scrolled": true
   },
   "outputs": [],
   "source": [
    "# I think it would be good to compare the 3 slices to each other also for some vars; I'll make a function for that\n",
    "\n",
    "def plot_side_by_side(series_list, y1, y2, y3, suptitle):\n",
    "    plt.figure(figsize=(20,15))\n",
    "    plt.suptitle('{}'.format(suptitle))\n",
    "    \n",
    "    plt.subplot(1, 3, 1)\n",
    "    sns.barplot(x=series_list[0], y=y1, palette='Greens_r')\n",
    "\n",
    "    plt.subplot(1, 3, 2)\n",
    "    sns.barplot(x=series_list[1], y=y2, palette='Greens_r')\n",
    "\n",
    "    \n",
    "    plt.subplot(1, 3, 3)\n",
    "    sns.barplot(x=series_list[2], y=y3, palette='Greens_r')  "
   ]
  },
  {
   "cell_type": "code",
   "execution_count": null,
   "metadata": {
    "scrolled": false
   },
   "outputs": [],
   "source": [
    "# Call function to look at relationship between premium & skipped across 3 slices\n",
    "plot_side_by_side(\n",
    "    [\n",
    "    spotify_track1['premium'].compute(), \n",
    "    spotify_track10['premium'].compute(), \n",
    "    spotify_track20['premium'].compute()\n",
    "], \n",
    "    spotify_track1['skipped'].compute(), \n",
    "    spotify_track10['skipped'].compute(), \n",
    "    spotify_track20['skipped'].compute(),\n",
    "    'Comparing premium & skipped for 1st, 10th, and 20th tracks'\n",
    ")"
   ]
  },
  {
   "cell_type": "code",
   "execution_count": null,
   "metadata": {
    "scrolled": false
   },
   "outputs": [],
   "source": [
    "# Call function to look at relationship between context_type & skipped across 3 slices\n",
    "plot_side_by_side(\n",
    "    [\n",
    "    spotify_track1['context_type_num'].compute(), \n",
    "    spotify_track10['context_type_num'].compute(), \n",
    "    spotify_track20['context_type_num'].compute()\n",
    "], \n",
    "    spotify_track1['skipped'].compute(), \n",
    "    spotify_track10['skipped'].compute(), \n",
    "    spotify_track20['skipped'].compute(),\n",
    "    'Comparing context_type & skipped for 1st, 10th, and 20th tracks'\n",
    ")"
   ]
  },
  {
   "cell_type": "markdown",
   "metadata": {},
   "source": [
    "That's interesting - so for the 1st track in a listening session, it was most common for a track to be skipped if it was spotify radio; however, for both the 10th and 20th tracks in a listening session, it was most common for tracks to be skipped if they were in Spotify's top charts."
   ]
  },
  {
   "cell_type": "code",
   "execution_count": null,
   "metadata": {},
   "outputs": [],
   "source": [
    "# Call function to look at relationship between context_switch & skipped across 3 slices\n",
    "plot_side_by_side(\n",
    "    [\n",
    "    spotify_track1['context_switch'].compute(), \n",
    "    spotify_track10['context_switch'].compute(), \n",
    "    spotify_track20['context_switch'].compute()\n",
    "], \n",
    "    spotify_track1['skipped'].compute(), \n",
    "    spotify_track10['skipped'].compute(), \n",
    "    spotify_track20['skipped'].compute(),\n",
    "    'Comparing context_switch & skipped for 1st, 10th, and 20th tracks'\n",
    ")"
   ]
  },
  {
   "cell_type": "code",
   "execution_count": null,
   "metadata": {},
   "outputs": [],
   "source": [
    "# Call function to look at relationship between hist_user_behavior_is_shuffle & skipped across 3 slices\n",
    "plot_side_by_side(\n",
    "    [\n",
    "    spotify_track1['hist_user_behavior_is_shuffle'].compute(), \n",
    "    spotify_track10['hist_user_behavior_is_shuffle'].compute(), \n",
    "    spotify_track20['hist_user_behavior_is_shuffle'].compute()\n",
    "], \n",
    "    spotify_track1['skipped'].compute(), \n",
    "    spotify_track10['skipped'].compute(), \n",
    "    spotify_track20['skipped'].compute(),\n",
    "    'Comparing hist_user_behavior_is_shuffle & skipped for 1st, 10th, and 20th tracks'\n",
    ")"
   ]
  },
  {
   "cell_type": "markdown",
   "metadata": {},
   "source": [
    "More users skipped a song if they were in shuffle mode at the time."
   ]
  },
  {
   "cell_type": "code",
   "execution_count": null,
   "metadata": {},
   "outputs": [],
   "source": [
    "# Call function to look at relationship between month & skipped across 3 slices\n",
    "plot_side_by_side(\n",
    "    [\n",
    "    spotify_track1['month'].compute(), \n",
    "    spotify_track10['month'].compute(), \n",
    "    spotify_track20['month'].compute()\n",
    "], \n",
    "    spotify_track1['skipped'].compute(), \n",
    "    spotify_track10['skipped'].compute(), \n",
    "    spotify_track20['skipped'].compute(),\n",
    "    'Comparing month & skipped for 1st, 10th, and 20th tracks'\n",
    ")"
   ]
  },
  {
   "cell_type": "code",
   "execution_count": null,
   "metadata": {
    "scrolled": true
   },
   "outputs": [],
   "source": [
    "# Call function to look at relationship between hour_of_day & skipped across 3 slices\n",
    "plot_side_by_side(\n",
    "    [\n",
    "    spotify_track1['hour_of_day'].compute(), \n",
    "    spotify_track10['hour_of_day'].compute(), \n",
    "    spotify_track20['hour_of_day'].compute()\n",
    "], \n",
    "    spotify_track1['skipped'].compute(), \n",
    "    spotify_track10['skipped'].compute(), \n",
    "    spotify_track20['skipped'].compute(),\n",
    "    'Comparing hour_of_day & skipped for 1st, 10th, and 20th tracks'\n",
    ")"
   ]
  },
  {
   "cell_type": "code",
   "execution_count": null,
   "metadata": {
    "scrolled": true
   },
   "outputs": [],
   "source": [
    "# Call function to look at relationship between reason_start_num  & skipped across 3 slices\n",
    "plot_side_by_side(\n",
    "    [\n",
    "    spotify_track1['reason_start_num'].compute(), \n",
    "    spotify_track10['reason_start_num'].compute(), \n",
    "    spotify_track20['reason_start_num'].compute()\n",
    "], \n",
    "    spotify_track1['skipped'].compute(), \n",
    "    spotify_track10['skipped'].compute(), \n",
    "    spotify_track20['skipped'].compute(),\n",
    "    'Comparing reason_start_num & skipped for 1st, 10th, and 20th tracks'\n",
    ")"
   ]
  },
  {
   "cell_type": "code",
   "execution_count": null,
   "metadata": {},
   "outputs": [],
   "source": [
    "# Call function to look at relationship between reason_end_num & skipped across 3 slices\n",
    "plot_side_by_side(\n",
    "    [\n",
    "    spotify_track1['reason_end_num'].compute(), \n",
    "    spotify_track10['reason_end_num'].compute(), \n",
    "    spotify_track20['reason_end_num'].compute()\n",
    "], \n",
    "    spotify_track1['skipped'].compute(), \n",
    "    spotify_track10['skipped'].compute(), \n",
    "    spotify_track20['skipped'].compute(),\n",
    "    'Comparing reason_end_num & skipped for 1st, 10th, and 20th tracks'\n",
    ")"
   ]
  },
  {
   "cell_type": "markdown",
   "metadata": {},
   "source": [
    "Well, that was interesting.\n",
    "\n",
    "Now we need to do some feature engineering before getting into machine learning. The first thing I'm going to do is run spearman correlations & find out if any of the features are highly multicollinear with each other. To do this, I'm going to have to use the pandas version of the df, because dask is currently not supporting the spearman method of correlation, only pearson. I'm not going to run pearson correlations, because those are more for continuous data, and this data is not continuous."
   ]
  },
  {
   "cell_type": "code",
   "execution_count": null,
   "metadata": {},
   "outputs": [],
   "source": [
    "spotify_eda_pd.head()"
   ]
  },
  {
   "cell_type": "code",
   "execution_count": null,
   "metadata": {
    "scrolled": false
   },
   "outputs": [],
   "source": [
    "spotify_eda_pd.corr(method='spearman')"
   ]
  },
  {
   "cell_type": "markdown",
   "metadata": {},
   "source": [
    "Great, now let's look at this in a heatmap"
   ]
  },
  {
   "cell_type": "code",
   "execution_count": null,
   "metadata": {},
   "outputs": [],
   "source": [
    "# Assign correlation matrix to a variable\n",
    "corrmat = spotify_eda_pd.corr(method='spearman')\n",
    "\n",
    "# Set dimensions of heatmap\n",
    "hm_dims = (30, 22)\n",
    "\n",
    "# Create heatmap\n",
    "fig, ax = plt.subplots(figsize=hm_dims)\n",
    "sns.heatmap(corrmat, square=False, annot=True, linewidths=.4, ax=ax)\n",
    "ax.set_ylim(len(corrmat)-0.5, -0.5)      #using this line b/c workaround for a bug that cuts off top & bottom\n",
    "plt.show()"
   ]
  },
  {
   "cell_type": "code",
   "execution_count": null,
   "metadata": {},
   "outputs": [],
   "source": [
    "# Alright, now a VIF to check the magnitude of the multicollinearity\n",
    "def vif_cal(input_data, dependent_col):\n",
    "    x_vars=input_data.drop([dependent_col], axis=1)\n",
    "    xvar_names=x_vars.columns\n",
    "    for i in range(0,xvar_names.shape[0]):\n",
    "        y=x_vars[xvar_names[i]]\n",
    "        x=x_vars[xvar_names.drop(xvar_names[i])]\n",
    "        rsq=sm.OLS(endog=y, exog=x.astype(float), data=x_vars).fit().rsquared\n",
    "        vif=round(1/(1-rsq),2)\n",
    "        print (xvar_names[i], \" VIF = \" , vif)\n",
    "        \n",
    "#Call function, using sleptim1 as dependent var\n",
    "vif_cal(input_data=spotify_eda_pd, dependent_col=\"skipped\")"
   ]
  },
  {
   "cell_type": "markdown",
   "metadata": {},
   "source": [
    "Okay this will help figure out which variables should be removed before clustering. I'll examine the variables that have a VIF > 10 (the threshold) one by one here, to make sure it makes sense to remove them, then I'll remove them, and I'll check to make sure all VIFs are now lower than 10. Then I'll remove these variables from each of the slices we're going to use.\n",
    "\n",
    "**session_length** - This should be fine to remove, as all of the slices of the dataset are 20, so we will know what that is regardless. Ditto with **session_position** for each of the specific tracks' datasets\n",
    "\n",
    "**skip_3** - I'll remove this, as well as **not_skipped**, because not_skipped would be redundant, as skipped is exactly the same thing.\n",
    "\n",
    "**no_pause_before_play** - Keep this in for now; see if removing no_pause_before_play fixes the high VIF; however, I'm not quite so interested in the granularity offered by long_pause and short_pause\n",
    "\n",
    "**long_pause_before play** - Fine with removing this\n",
    "\n",
    "**day** - For some reason, this is infinity.. We'll remove it for sure. Also, I would have removed it regardless of VIF, since I don't need that level of granularity here\n",
    "\n",
    "**month** - I'll try and keep month, because it will probably be the only real useful measure of time \n",
    "\n",
    "**month_day** - Same as day, too granular anyway\n",
    "\n",
    "**year** - Remove - most are 2018 anyway, so it shouldn't really factor into the analysis\n",
    "\n",
    "**reason_end_num** - It makes sense this would be highly multicollinear with reason_start_num; we'll remove it. "
   ]
  },
  {
   "cell_type": "code",
   "execution_count": null,
   "metadata": {},
   "outputs": [],
   "source": [
    "drop_list = [\n",
    "    'session_length',\n",
    "    'session_position',\n",
    "    'skip_3', \n",
    "    'not_skipped',  \n",
    "    'long_pause_before_play',\n",
    "    'day',\n",
    "    'month_day',\n",
    "    'year',\n",
    "    'reason_end_num'\n",
    "]\n",
    "\n",
    "spotify_eda_pd = spotify_eda_pd.drop(columns=drop_list)"
   ]
  },
  {
   "cell_type": "code",
   "execution_count": null,
   "metadata": {},
   "outputs": [],
   "source": [
    "# Check out df with dropped stuff\n",
    "spotify_eda_pd.info()"
   ]
  },
  {
   "cell_type": "code",
   "execution_count": null,
   "metadata": {},
   "outputs": [],
   "source": [
    "# Re-run correlation matrix now, see how correlated vars are now\n",
    "corrmat = spotify_eda_pd.corr(method='spearman')\n",
    "\n",
    "# Set dimensions of heatmap\n",
    "hm_dims = (30, 22)\n",
    "\n",
    "# Create heatmap\n",
    "fig, ax = plt.subplots(figsize=hm_dims)\n",
    "sns.heatmap(corrmat, square=False, annot=True, linewidths=.4, ax=ax)\n",
    "ax.set_ylim(len(corrmat)-0.5, -0.5)      #using this line b/c workaround for a bug that cuts off top & bottom\n",
    "plt.show()"
   ]
  },
  {
   "cell_type": "markdown",
   "metadata": {},
   "source": [
    "Okay, it's a lot better already. I can see that no_pause_before_play, and short_pause_before are of course still correlated, but we won't remove one until we check the VIF. Ditto with skipped and sip_1 & skip_2"
   ]
  },
  {
   "cell_type": "code",
   "execution_count": null,
   "metadata": {},
   "outputs": [],
   "source": [
    "# Re-run VIF now to check magnitude of correlations\n",
    "vif_cal(input_data=spotify_eda_pd, dependent_col=\"skipped\")"
   ]
  },
  {
   "cell_type": "markdown",
   "metadata": {},
   "source": [
    "Alright, looking good. I'd rather keep **no_pause_before_play** than **short_pause_before_play**. I believe no_pause's VIF will decrease once I remove short_pause. As to dealing with **month**, I'm going to go ahead and keep it despite the high VIF, because the correlation matrix/heatmap shows that it is not actually highly correlated with any of the variables that are left. "
   ]
  },
  {
   "cell_type": "code",
   "execution_count": null,
   "metadata": {},
   "outputs": [],
   "source": [
    "# Remove short_pause_before_play\n",
    "spotify_eda_pd = spotify_eda_pd.drop(columns='short_pause_before_play')"
   ]
  },
  {
   "cell_type": "code",
   "execution_count": null,
   "metadata": {},
   "outputs": [],
   "source": [
    "# Check correlations for what should be the final time\n",
    "corrmat = spotify_eda_pd.corr(method='spearman')\n",
    "\n",
    "# Set dimensions of heatmap\n",
    "hm_dims = (30, 22)\n",
    "\n",
    "# Create heatmap\n",
    "fig, ax = plt.subplots(figsize=hm_dims)\n",
    "sns.heatmap(corrmat, square=False, annot=True, linewidths=.4, ax=ax)\n",
    "ax.set_ylim(len(corrmat)-0.5, -0.5)      #using this line b/c workaround for a bug that cuts off top & bottom\n",
    "plt.show()"
   ]
  },
  {
   "cell_type": "code",
   "execution_count": null,
   "metadata": {},
   "outputs": [],
   "source": [
    "# Now run VIF for what I hope to be the last time\n",
    "vif_cal(input_data=spotify_eda_pd, dependent_col=\"skipped\")"
   ]
  },
  {
   "cell_type": "markdown",
   "metadata": {},
   "source": [
    "Hooray, we're all set now. I know the month's VIF looks scary, but again, it's not actually correlated with anything. I see no problem with keeping both of skip_1 and skip_2, because their VIFs are fine, despite their sort of high correlation.\n",
    "\n",
    "Now it's time to drop all these variables from our 3 slices."
   ]
  },
  {
   "cell_type": "code",
   "execution_count": null,
   "metadata": {},
   "outputs": [],
   "source": [
    "# Set up a list of vars to drop\n",
    "drop_list2 = [\n",
    "    'session_length',\n",
    "    'session_position',\n",
    "    'skip_3', \n",
    "    'not_skipped',  \n",
    "    'long_pause_before_play',\n",
    "    'short_pause_before_play',\n",
    "    'day',\n",
    "    'month_day',\n",
    "    'year',\n",
    "    'reason_end_num'\n",
    "]\n",
    "\n",
    "# Drop them!\n",
    "Xclusters_track1 = spotify_track1.drop(columns=drop_list2)\n",
    "Xclusters_track10 = spotify_track10.drop(columns=drop_list2)\n",
    "Xclusters_track20 = spotify_track20.drop(columns=drop_list2)"
   ]
  },
  {
   "cell_type": "code",
   "execution_count": null,
   "metadata": {},
   "outputs": [],
   "source": [
    "# Check out a slice to see if it's all good\n",
    "Xclusters_track1.info()"
   ]
  },
  {
   "cell_type": "code",
   "execution_count": null,
   "metadata": {
    "scrolled": true
   },
   "outputs": [],
   "source": [
    "Xclusters_track1.head()"
   ]
  },
  {
   "cell_type": "code",
   "execution_count": null,
   "metadata": {},
   "outputs": [],
   "source": [
    "# Just to be extra double sure, I'm going to run VIF again, this time with a slice, to make sure it mirrors the df's\n",
    "vif_cal(input_data=Xclusters_track1.compute(), dependent_col=\"skipped\")"
   ]
  },
  {
   "cell_type": "markdown",
   "metadata": {},
   "source": [
    "Well great, month's VIF is even lower here. I'd say we're all set."
   ]
  },
  {
   "cell_type": "markdown",
   "metadata": {},
   "source": [
    "Now we need to get dummies for all of these. Because dask is not great for converting to dummies (in my opinion at least), we are going to use the pandas version of the dataframe to get dummies.\n",
    "\n",
    "However, before we get the dummies, we'll need to do a bit more feature engineering to make the dummies better suited to the clusters we'll create."
   ]
  },
  {
   "cell_type": "code",
   "execution_count": null,
   "metadata": {},
   "outputs": [],
   "source": [
    "# Make hist_user_behavior_n_seekfwd ordinal buckets so there's not quite as many unique values to deal with\n",
    "\n",
    "# First, check their unique values in each of the slices\n",
    "slice_list = [Xclusters_track1, Xclusters_track10, Xclusters_track20]\n",
    "\n",
    "# Set up function to easily be able to print out name of df being viewed\n",
    "def get_df_name(df):\n",
    "    name =[x for x in globals() if globals()[x] is df][0]\n",
    "    return name\n",
    "\n",
    "for df_slice in slice_list:\n",
    "    print('Unique values of hist_user_behavior_n_seekfwd in {}:\\n'.format(get_df_name(df_slice)), \n",
    "          df_slice['hist_user_behavior_n_seekfwd'].value_counts().compute())"
   ]
  },
  {
   "cell_type": "markdown",
   "metadata": {},
   "source": [
    "Alright, this information tells us how we'll want to split up this variable into chunks, specific to each df slice.\n",
    "I actually think that for all of them, it would be wisest to simply make them 0 times, 1-2 times, and 3+ times. We really don't need any more granularity than that."
   ]
  },
  {
   "cell_type": "code",
   "execution_count": null,
   "metadata": {},
   "outputs": [],
   "source": [
    "# Divide up hist_user_behavior_n_seekfwd in all 3 df slices at once\n",
    "\n",
    "Xclusters_track1 = Xclusters_track1.compute()\n",
    "Xclusters_track10 = Xclusters_track10.compute()\n",
    "Xclusters_track20 = Xclusters_track20.compute()\n",
    "\n",
    "slice_list = [Xclusters_track1, Xclusters_track10, Xclusters_track20]\n",
    "\n",
    "for df_slice in slice_list:\n",
    "    df_slice.loc[df_slice['hist_user_behavior_n_seekfwd'] >= 3, 'hist_user_behavior_n_seekfwd'] = '3+'\n",
    "    df_slice.loc[(df_slice['hist_user_behavior_n_seekfwd'] == 1) | (\n",
    "        df_slice['hist_user_behavior_n_seekfwd'] == 2), 'hist_user_behavior_n_seekfwd'] = '1 to 2'\n",
    "    "
   ]
  },
  {
   "cell_type": "code",
   "execution_count": null,
   "metadata": {},
   "outputs": [],
   "source": [
    "# See if that worked\n",
    "for df_slice in slice_list:\n",
    "    print('Unique values of hist_user_behavior_n_seekfwd in {}:\\n'.format(get_df_name(df_slice)), \n",
    "          df_slice['hist_user_behavior_n_seekfwd'].value_counts())"
   ]
  },
  {
   "cell_type": "markdown",
   "metadata": {},
   "source": [
    "Great, now when we're ready to get dummies, we'll be able to get them for each of these 3 values.\n",
    "\n",
    "Now we'll easily do the same with hist_user_behavior_n_seekback"
   ]
  },
  {
   "cell_type": "code",
   "execution_count": null,
   "metadata": {},
   "outputs": [],
   "source": [
    "# Check we still want the same intervals for seekback\n",
    "\n",
    "for df_slice in slice_list:\n",
    "    print('Unique values of hist_user_behavior_n_seekback in {}:\\n'.format(get_df_name(df_slice)), \n",
    "          df_slice['hist_user_behavior_n_seekback'].value_counts())"
   ]
  },
  {
   "cell_type": "code",
   "execution_count": null,
   "metadata": {},
   "outputs": [],
   "source": [
    "# Yep, those intervals still make the most sense to me.\n",
    "\n",
    "#Recode seekback\n",
    "for df_slice in slice_list:\n",
    "    df_slice.loc[df_slice['hist_user_behavior_n_seekback'] >= 3, 'hist_user_behavior_n_seekback'] = '3+'\n",
    "    df_slice.loc[(df_slice['hist_user_behavior_n_seekback'] == 1) | (\n",
    "        df_slice['hist_user_behavior_n_seekback'] == 2), 'hist_user_behavior_n_seekback'] = '1 to 2'\n",
    "\n",
    "# Check it worked\n",
    "for df_slice in slice_list:\n",
    "    print('Unique values of hist_user_behavior_n_seekback in {}:\\n'.format(get_df_name(df_slice)), \n",
    "          df_slice['hist_user_behavior_n_seekback'].value_counts())"
   ]
  },
  {
   "cell_type": "markdown",
   "metadata": {},
   "source": [
    "Nice, now what we need to do is deal with hour_of_day, and we should be set. Similarly, we don't need the granularity of having every single hour in the day, so we're going to find some meaningful buckets for that and get dummies for those."
   ]
  },
  {
   "cell_type": "code",
   "execution_count": null,
   "metadata": {},
   "outputs": [],
   "source": [
    "# Print hour of day unique values to think about how we want to divide it up\n",
    "for df_slice in slice_list:\n",
    "    print('Unique values of hour_of_day in {}:\\n'.format(get_df_name(df_slice)), \n",
    "          df_slice['hour_of_day'].value_counts())"
   ]
  },
  {
   "cell_type": "markdown",
   "metadata": {},
   "source": [
    "I think it makes the most sense to just have buckets of morning, afternoon, night, and, early hours of the morning. Let's see what that would look like.\n",
    "early = 1-5\n",
    "morning = 6-11\n",
    "afternoon = 12-18\n",
    "night = 19-23, 0\n",
    "\n",
    "I think this covers it and is a division that will be more meaningful than looking at every individual hour, and this will allow getting dummy variables to go a lot more smoothly as well."
   ]
  },
  {
   "cell_type": "code",
   "execution_count": null,
   "metadata": {},
   "outputs": [],
   "source": [
    "# For this variable, it will be more efficient to apply a recoding function, rather than use .loc a bunch of times\n",
    "\n",
    "def recode_value(row, col_name, recode_dict):\n",
    "    return recode_dict[row[col_name]]\n",
    "\n",
    "def recode_var(df, col_name, recode_dict):\n",
    "    df[col_name] = df.apply(lambda row: recode_value(row, col_name, recode_dict), axis=1)\n",
    "    \n",
    "for df_slice in slice_list:     \n",
    "    recode_var(df_slice, 'hour_of_day', {\n",
    "        1: 'early', \n",
    "        2: 'early', \n",
    "        3: 'early', \n",
    "        4: 'early', \n",
    "        5: 'early',\n",
    "        6: 'morning',\n",
    "        7: 'morning',\n",
    "        8: 'morning',\n",
    "        9: 'morning',\n",
    "        10: 'morning',\n",
    "        11: 'morning',\n",
    "        12: 'afternoon',\n",
    "        13: 'afternoon',\n",
    "        14: 'afternoon',\n",
    "        15: 'afternoon',\n",
    "        16: 'afternoon',\n",
    "        17: 'afternoon',\n",
    "        18: 'afternoon',\n",
    "        19: 'night',\n",
    "        20: 'night',\n",
    "        21: 'night',\n",
    "        22: 'night',\n",
    "        23: 'night',\n",
    "        0: 'night'\n",
    "    })\n"
   ]
  },
  {
   "cell_type": "code",
   "execution_count": null,
   "metadata": {},
   "outputs": [],
   "source": [
    "# Check to make sure it worked like I meant it to\n",
    "for df_slice in slice_list:\n",
    "    print('Unique values of hour_of_day in {}:\\n'.format(get_df_name(df_slice)), \n",
    "          df_slice['hour_of_day'].value_counts())"
   ]
  },
  {
   "cell_type": "code",
   "execution_count": null,
   "metadata": {},
   "outputs": [],
   "source": [
    "# I believe all columns are now ready to become dummies, but I'll double-check by looking at the variables\n",
    "Xclusters_track10.info()"
   ]
  },
  {
   "cell_type": "markdown",
   "metadata": {},
   "source": [
    "Yes, everything is either binary or in a form that I'm comfortable with for getting dummies."
   ]
  },
  {
   "cell_type": "code",
   "execution_count": null,
   "metadata": {},
   "outputs": [],
   "source": [
    "# List of columns that need to become dummies (specifying because if I don't, it will only dummify objects)\n",
    "dummies_list = [\n",
    "    'hist_user_behavior_n_seekfwd',\n",
    "    'hist_user_behavior_n_seekback',\n",
    "    'month',\n",
    "    'hour_of_day',\n",
    "    'skip_1', \n",
    "    'skip_2',\n",
    "    'context_switch',\n",
    "    'no_pause_before_play',\n",
    "    'hist_user_behavior_is_shuffle',\n",
    "    'premium',\n",
    "    'context_type_num',\n",
    "    'reason_start_num',\n",
    "    'skipped'\n",
    "]\n",
    "\n",
    "\n",
    "# Get the dummies in a separate df; I won't drop_first, because I want to see everything for right now\n",
    "Xclusters_track1_dummies = pd.get_dummies(Xclusters_track1, columns=dummies_list)"
   ]
  },
  {
   "cell_type": "code",
   "execution_count": null,
   "metadata": {},
   "outputs": [],
   "source": [
    "Xclusters_track1_dummies.info()"
   ]
  },
  {
   "cell_type": "code",
   "execution_count": null,
   "metadata": {},
   "outputs": [],
   "source": [
    "Xclusters_track1.context_switch.value_counts()"
   ]
  },
  {
   "cell_type": "code",
   "execution_count": null,
   "metadata": {},
   "outputs": [],
   "source": [
    "Xclusters_track1.no_pause_before_play.value_counts()"
   ]
  },
  {
   "cell_type": "markdown",
   "metadata": {},
   "source": [
    "Excellent. Now we'll go ahead and get dummies for the other 2 slices (tracks 10 and 20) and then rename columns so they're more meaningful/easier to interpret. It's important to note that there is only a context_switch_0 for context_switch. Since this df is the first track in the listening session only, *no one* context switched to get to the current track, because that would be impossible, as they weren't listening to music prior to this point. Also notable, no_pause_before_play displays almost the same phenomenon, as most people wouldn't pause when they're just starting their listening session."
   ]
  },
  {
   "cell_type": "code",
   "execution_count": null,
   "metadata": {},
   "outputs": [],
   "source": [
    "# Make sure track10 df matches\n",
    "Xclusters_track10.info()"
   ]
  },
  {
   "cell_type": "code",
   "execution_count": null,
   "metadata": {},
   "outputs": [],
   "source": [
    "# Now get its dummies in a separate df\n",
    "Xclusters_track10_dummies = pd.get_dummies(Xclusters_track10, columns=dummies_list)"
   ]
  },
  {
   "cell_type": "code",
   "execution_count": null,
   "metadata": {},
   "outputs": [],
   "source": [
    "Xclusters_track10_dummies.info()"
   ]
  },
  {
   "cell_type": "code",
   "execution_count": null,
   "metadata": {},
   "outputs": [],
   "source": [
    "Xclusters_track10.reason_start_num.value_counts()"
   ]
  },
  {
   "cell_type": "markdown",
   "metadata": {},
   "source": [
    "Great, that worked. It's important to note here that the Xclusters_track10 slice did not have any incidences of a code 6 in reason_start_num, even before getting dummies, as evidenced by the above value_counts cell. Just wanted to double-check."
   ]
  },
  {
   "cell_type": "code",
   "execution_count": null,
   "metadata": {},
   "outputs": [],
   "source": [
    "# Check track20 slice\n",
    "Xclusters_track20.info()"
   ]
  },
  {
   "cell_type": "code",
   "execution_count": null,
   "metadata": {},
   "outputs": [],
   "source": [
    "# Get its dummies in a separate df\n",
    "Xclusters_track20_dummies = pd.get_dummies(Xclusters_track20, columns=dummies_list)"
   ]
  },
  {
   "cell_type": "code",
   "execution_count": null,
   "metadata": {},
   "outputs": [],
   "source": [
    "Xclusters_track20_dummies.info()"
   ]
  },
  {
   "cell_type": "code",
   "execution_count": null,
   "metadata": {},
   "outputs": [],
   "source": [
    "Xclusters_track20.reason_start_num.value_counts()"
   ]
  },
  {
   "cell_type": "markdown",
   "metadata": {},
   "source": [
    "Again, with the 20th track, there were no incidences of code 6 (popup) in the reason_start_num variable. That code only exists in the track 1 dataset, which makes sense, as people might begin their session from a spotify pop-up window, but while they're currently in a listening session, that wouldn't be the reason a track starts.\n",
    "\n",
    "Now there are a few dummy columns I believe I genuinely don't need, but I want to check what's in them before I drop them."
   ]
  },
  {
   "cell_type": "code",
   "execution_count": null,
   "metadata": {},
   "outputs": [],
   "source": [
    "print(Xclusters_track20_dummies.skip_1_0.value_counts)\n",
    "print(Xclusters_track20_dummies.skip_1_1.value_counts)"
   ]
  },
  {
   "cell_type": "markdown",
   "metadata": {},
   "source": [
    "Right so for these, since they're just binary, we only need one (in the spirit of drop_first, though I didn't want to use the drop_first param, since I got dummies for the enire df). I've checked that they exactly mirror each other, so I can get rid of the **skip_1_0** var."
   ]
  },
  {
   "cell_type": "code",
   "execution_count": null,
   "metadata": {},
   "outputs": [],
   "source": [
    "print(Xclusters_track20_dummies.skip_2_0)\n",
    "print(Xclusters_track20_dummies.skip_2_1)"
   ]
  },
  {
   "cell_type": "code",
   "execution_count": null,
   "metadata": {},
   "outputs": [],
   "source": [
    "print(Xclusters_track20.skip_2)"
   ]
  },
  {
   "cell_type": "markdown",
   "metadata": {},
   "source": [
    "Ditto the skip_1 var. I'll remove the **skip_2_0** var here as well. Skip_2_1 is the original variable. I'm realizing we didn't actually need to get dummies for these, but oh well. Now we know for sure."
   ]
  },
  {
   "cell_type": "code",
   "execution_count": null,
   "metadata": {},
   "outputs": [],
   "source": [
    "# Let's do the same checking for context_switch\n",
    "print(Xclusters_track20_dummies.context_switch_0)\n",
    "print(Xclusters_track20_dummies.context_switch_1)"
   ]
  },
  {
   "cell_type": "markdown",
   "metadata": {},
   "source": [
    "Great, I feel fine about removing **context_switch_0** also."
   ]
  },
  {
   "cell_type": "code",
   "execution_count": null,
   "metadata": {},
   "outputs": [],
   "source": [
    "#no_pause_before_play will likely be the same, but let's look at it\n",
    "print(Xclusters_track20_dummies.no_pause_before_play_0)\n",
    "print(Xclusters_track20_dummies.no_pause_before_play_1)"
   ]
  },
  {
   "cell_type": "code",
   "execution_count": null,
   "metadata": {},
   "outputs": [],
   "source": [
    "print(Xclusters_track20.no_pause_before_play)"
   ]
  },
  {
   "cell_type": "markdown",
   "metadata": {},
   "source": [
    "Alright, so for this one, I'm actually going to remove **no_pause_before_play_1**, even though it's the original variable, because the way this one was originally encoded by spotify is sort of reversed, as the 1s in no_pause_1 actually mean there was **no** pause. That's confusing, because it's sort of reversed logic. However, in no_pause_0, the 0s mean the no, the user didn't pause, which **does** make sense. That's why we'll keep no_pause_0. Later we'll rename it so it tells us exactly what it is."
   ]
  },
  {
   "cell_type": "code",
   "execution_count": null,
   "metadata": {},
   "outputs": [],
   "source": [
    "# I think hist_user_behavior_is_shuffle will be more straightforward, but we'll still check\n",
    "print(Xclusters_track20_dummies.hist_user_behavior_is_shuffle_0)\n",
    "print(Xclusters_track20_dummies.hist_user_behavior_is_shuffle_1)"
   ]
  },
  {
   "cell_type": "code",
   "execution_count": null,
   "metadata": {},
   "outputs": [],
   "source": [
    "print(Xclusters_track20.hist_user_behavior_is_shuffle)"
   ]
  },
  {
   "cell_type": "markdown",
   "metadata": {},
   "source": [
    "Here, we'll drop **hist_user_behavior_is_shuffle_0**, because that's the reversed variable. shuffle_1 is the original var."
   ]
  },
  {
   "cell_type": "code",
   "execution_count": null,
   "metadata": {},
   "outputs": [],
   "source": [
    "# Check premium\n",
    "print(Xclusters_track20_dummies.premium_0)\n",
    "print(Xclusters_track20_dummies.premium_1)"
   ]
  },
  {
   "cell_type": "code",
   "execution_count": null,
   "metadata": {},
   "outputs": [],
   "source": [
    "print(Xclusters_track20.premium)"
   ]
  },
  {
   "cell_type": "markdown",
   "metadata": {},
   "source": [
    "Remove **premium_0**. 1 is the original variable."
   ]
  },
  {
   "cell_type": "code",
   "execution_count": null,
   "metadata": {},
   "outputs": [],
   "source": [
    "# Last one: skipped\n",
    "print(Xclusters_track20_dummies.skipped_0)\n",
    "print(Xclusters_track20_dummies.skipped_1)"
   ]
  },
  {
   "cell_type": "code",
   "execution_count": null,
   "metadata": {},
   "outputs": [],
   "source": [
    "print(Xclusters_track20.skipped)"
   ]
  },
  {
   "cell_type": "markdown",
   "metadata": {},
   "source": [
    "Remove **skipped_0**. 1 is the correct/original variable."
   ]
  },
  {
   "cell_type": "code",
   "execution_count": null,
   "metadata": {},
   "outputs": [],
   "source": [
    "# Remove dummies we don't want\n",
    "dummy_drop = [\n",
    "    'skipped_0',\n",
    "    'premium_0',\n",
    "    'hist_user_behavior_is_shuffle_0',\n",
    "    'no_pause_before_play_1',\n",
    "    'context_switch_0',\n",
    "    'skip_2_0',\n",
    "    'skip_1_0'\n",
    "]\n",
    "\n",
    "Xclusters_track1_dummies = Xclusters_track1_dummies.drop(columns=dummy_drop)\n",
    "Xclusters_track10_dummies = Xclusters_track10_dummies.drop(columns=dummy_drop)\n",
    "Xclusters_track20_dummies = Xclusters_track20_dummies.drop(columns=dummy_drop)"
   ]
  },
  {
   "cell_type": "code",
   "execution_count": null,
   "metadata": {},
   "outputs": [],
   "source": [
    "# Check to see correct cols dropped\n",
    "Xclusters_track1_dummies.info()"
   ]
  },
  {
   "cell_type": "markdown",
   "metadata": {},
   "source": [
    "Now it's time to rename the dummy columns so we can see what values they actually stand for. I'm going to have to do these separately becuase the first one has some differences from the other 2, as discussed earlier."
   ]
  },
  {
   "cell_type": "code",
   "execution_count": null,
   "metadata": {},
   "outputs": [],
   "source": [
    "# Rename track 1 dummies df\n",
    "rename_dict = {\n",
    "    \"hist_user_behavior_n_seekfwd_0\": \"no_seekfwd\",\n",
    "    \"hist_user_behavior_n_seekfwd_1 to 2\": \"seekfwd_1to2\",\n",
    "    \"hist_user_behavior_n_seekfwd_3+\": \"seekfwd_3+\",\n",
    "    \"hist_user_behavior_n_seekback_0\": \"no_seekback\",\n",
    "    \"hist_user_behavior_n_seekback_1 to 2\": \"seekback_1to2\",\n",
    "    \"hist_user_behavior_n_seekback_3+\": \"seekback_3+\",\n",
    "    \"month_1\": \"jan\",\n",
    "    \"month_2\": \"feb\",\n",
    "    \"month_3\": \"march\",\n",
    "    \"month_4\": \"april\",\n",
    "    \"month_5\": \"may\",\n",
    "    \"month_6\": \"june\",\n",
    "    \"month_7\": \"july\",\n",
    "    \"month_8\": \"aug\",\n",
    "    \"month_9\": \"sept\",\n",
    "    \"month_11\": \"nov\",    # there is no october in the datatsets\n",
    "    \"month_12\": \"dec\",\n",
    "    \"hour_of_day_afternoon\": \"afternoon\",\n",
    "    \"hour_of_day_early\": \"early_morn\",\n",
    "    \"hour_of_day_morning\": \"morning\",\n",
    "    \"hour_of_day_night\": \"night\",\n",
    "    \"skip_1_1\": \"skip_v_soon\", \n",
    "    \"skip_2_1\": \"skip_fairly_soon\",\n",
    "    \"no_pause_before_play_0\": \"paused_before_play\",\n",
    "    \"hist_user_behavior_is_shuffle_1\": \"on_shuffle\",\n",
    "    \"premium_1\": \"premium\",\n",
    "    \"context_type_num_0\": \"context_catalog\",\n",
    "    \"context_type_num_1\": \"context_charts\",\n",
    "    \"context_type_num_2\": \"context_editorial_playlist\",\n",
    "    \"context_type_num_3\": \"context_personal_playlist\",\n",
    "    \"context_type_num_4\": \"context_radio\",\n",
    "    \"context_type_num_5\": \"context_user_collec\",\n",
    "    \"reason_start_num_0\": \"appload\",\n",
    "    \"reason_start_num_1\": \"start_backbutton\",\n",
    "    \"reason_start_num_2\": \"start_clickrow\",\n",
    "    \"reason_start_num_3\": \"start_endplay\",\n",
    "    \"reason_start_num_4\": \"start_fwdbutton\",\n",
    "    \"reason_start_num_5\": \"start_playbutton\",\n",
    "    \"reason_start_num_6\": \"popup\",\n",
    "    \"reason_start_num_7\": \"start_remote\",\n",
    "    \"reason_start_num_8\": \"start_trackdone\",\n",
    "    \"reason_start_num_9\": \"start_uriopen\",\n",
    "    \"skipped_1\": \"skipped\"\n",
    "}\n",
    "\n",
    "Xclusters_track1_dummies = Xclusters_track1_dummies.rename(columns=rename_dict)"
   ]
  },
  {
   "cell_type": "code",
   "execution_count": null,
   "metadata": {},
   "outputs": [],
   "source": [
    "Xclusters_track1_dummies.info()"
   ]
  },
  {
   "cell_type": "code",
   "execution_count": null,
   "metadata": {},
   "outputs": [],
   "source": [
    "# Rename columns in track10 and track20 dummies df\n",
    "\n",
    "rename_dict = {\n",
    "    \"hist_user_behavior_n_seekfwd_0\": \"no_seekfwd\",\n",
    "    \"hist_user_behavior_n_seekfwd_1 to 2\": \"seekfwd_1to2\",\n",
    "    \"hist_user_behavior_n_seekfwd_3+\": \"seekfwd_3+\",\n",
    "    \"hist_user_behavior_n_seekback_0\": \"no_seekback\",\n",
    "    \"hist_user_behavior_n_seekback_1 to 2\": \"seekback_1to2\",\n",
    "    \"hist_user_behavior_n_seekback_3+\": \"seekback_3+\",\n",
    "    \"month_1\": \"jan\",\n",
    "    \"month_2\": \"feb\",\n",
    "    \"month_3\": \"march\",\n",
    "    \"month_4\": \"april\",\n",
    "    \"month_5\": \"may\",\n",
    "    \"month_6\": \"june\",\n",
    "    \"month_7\": \"july\",\n",
    "    \"month_8\": \"aug\",\n",
    "    \"month_9\": \"sept\",\n",
    "    \"month_11\": \"nov\",    # there is no october in the datatsets\n",
    "    \"month_12\": \"dec\",\n",
    "    \"hour_of_day_afternoon\": \"afternoon\",\n",
    "    \"hour_of_day_early\": \"early_morn\",\n",
    "    \"hour_of_day_morning\": \"morning\",\n",
    "    \"hour_of_day_night\": \"night\",\n",
    "    \"skip_1_1\": \"skip_v_soon\", \n",
    "    \"skip_2_1\": \"skip_fairly_soon\",\n",
    "    \"context_switch_1\": \"switched_context\",\n",
    "    \"no_pause_before_play_0\": \"paused_before_play\",\n",
    "    \"hist_user_behavior_is_shuffle_1\": \"on_shuffle\",\n",
    "    \"premium_1\": \"premium\",\n",
    "    \"context_type_num_0\": \"context_catalog\",\n",
    "    \"context_type_num_1\": \"context_charts\",\n",
    "    \"context_type_num_2\": \"context_editorial_playlist\",\n",
    "    \"context_type_num_3\": \"context_personal_playlist\",\n",
    "    \"context_type_num_4\": \"context_radio\",\n",
    "    \"context_type_num_5\": \"context_user_collec\",\n",
    "    \"reason_start_num_0\": \"appload\",\n",
    "    \"reason_start_num_1\": \"start_backbutton\",\n",
    "    \"reason_start_num_2\": \"start_clickrow\",\n",
    "    \"reason_start_num_3\": \"start_endplay\",\n",
    "    \"reason_start_num_4\": \"start_fwdbutton\",\n",
    "    \"reason_start_num_5\": \"start_playbutton\",\n",
    "    \"reason_start_num_7\": \"start_remote\",\n",
    "    \"reason_start_num_8\": \"start_trackdone\",\n",
    "    \"reason_start_num_9\": \"start_uriopen\",\n",
    "    \"skipped_1\": \"skipped\"\n",
    "}\n",
    "\n",
    "Xclusters_track10_dummies = Xclusters_track10_dummies.rename(columns=rename_dict)\n",
    "Xclusters_track20_dummies = Xclusters_track20_dummies.rename(columns=rename_dict)"
   ]
  },
  {
   "cell_type": "code",
   "execution_count": null,
   "metadata": {},
   "outputs": [],
   "source": [
    "# Check renamed correctly\n",
    "print(Xclusters_track10_dummies.info())\n",
    "print(Xclusters_track20_dummies.info())"
   ]
  },
  {
   "cell_type": "markdown",
   "metadata": {},
   "source": [
    "Now let's make some clusters! I want to start with HDBSCAN and see where that gets us. This is nice, because it will determine the optimal number for eps for us. \n",
    "\n",
    "We will cluster the 3 slices separately and see what the clusters can tell us about each one. "
   ]
  },
  {
   "cell_type": "code",
   "execution_count": null,
   "metadata": {},
   "outputs": [],
   "source": [
    "# First, we'll just do track1\n",
    "\n",
    "# Turn the df into an array\n",
    "track1_array = np.array(Xclusters_track1_dummies.values)"
   ]
  },
  {
   "cell_type": "code",
   "execution_count": null,
   "metadata": {},
   "outputs": [],
   "source": [
    "print(track1_array)"
   ]
  },
  {
   "cell_type": "code",
   "execution_count": null,
   "metadata": {},
   "outputs": [],
   "source": [
    "# Standardize track1\n",
    "scaler = StandardScaler()\n",
    "track1_array_std = scaler.fit_transform(track1_array)"
   ]
  },
  {
   "cell_type": "code",
   "execution_count": null,
   "metadata": {},
   "outputs": [],
   "source": [
    "# Check it out\n",
    "track1_array_std"
   ]
  },
  {
   "cell_type": "code",
   "execution_count": null,
   "metadata": {},
   "outputs": [],
   "source": [
    "# Make it a dask array to clusters run faster\n",
    "track1_darray = da.from_array(track1_array_std, chunks=(10000,10000))"
   ]
  },
  {
   "cell_type": "code",
   "execution_count": null,
   "metadata": {},
   "outputs": [],
   "source": [
    "hd_clusters = hdbscan.HDBSCAN(min_samples=23)"
   ]
  },
  {
   "cell_type": "code",
   "execution_count": null,
   "metadata": {},
   "outputs": [],
   "source": [
    "# Get cluster predictions\n",
    "hd_preds = hd_clusters.fit_predict(track1_darray)"
   ]
  },
  {
   "cell_type": "code",
   "execution_count": null,
   "metadata": {},
   "outputs": [],
   "source": [
    "# Check cluster labels\n",
    "hd_labels = hd_clusters.labels_\n",
    "print(hd_labels)"
   ]
  },
  {
   "cell_type": "code",
   "execution_count": null,
   "metadata": {},
   "outputs": [],
   "source": [
    "# How many clusters are there?\n",
    "hd_labels.max()"
   ]
  },
  {
   "cell_type": "markdown",
   "metadata": {},
   "source": [
    "Okay, so 1032 clusters is obviously way too many. We need to increase the min_samples and try again. We'll go to 100 and see if we can find a good window."
   ]
  },
  {
   "cell_type": "code",
   "execution_count": null,
   "metadata": {},
   "outputs": [],
   "source": [
    "# hdbscan with 50 min_samples\n",
    "hd_clusters = hdbscan.HDBSCAN(min_samples=50)"
   ]
  },
  {
   "cell_type": "code",
   "execution_count": null,
   "metadata": {},
   "outputs": [],
   "source": [
    "# Get cluster predictions with 50 min_samples\n",
    "hd_preds = hd_clusters.fit_predict(track1_darray)"
   ]
  },
  {
   "cell_type": "code",
   "execution_count": null,
   "metadata": {},
   "outputs": [],
   "source": [
    "# Check cluster labels for 50 min_samples\n",
    "hd_labels = hd_clusters.labels_\n",
    "print(hd_labels)\n",
    "\n",
    "# How many clusters are there?\n",
    "hd_labels.max()"
   ]
  },
  {
   "cell_type": "markdown",
   "metadata": {},
   "source": [
    "Okay, still far too many clusters. We'll try with 100 min_samples. That may be closer to what we'd need."
   ]
  },
  {
   "cell_type": "code",
   "execution_count": null,
   "metadata": {},
   "outputs": [],
   "source": [
    "# hdbscan with 100 min_samples\n",
    "hd_clusters = hdbscan.HDBSCAN(min_samples=100)"
   ]
  },
  {
   "cell_type": "code",
   "execution_count": null,
   "metadata": {},
   "outputs": [],
   "source": [
    "# Get cluster preds with 100 min_samples\n",
    "hd_preds = hd_clusters.fit_predict(track1_darray)"
   ]
  },
  {
   "cell_type": "code",
   "execution_count": null,
   "metadata": {},
   "outputs": [],
   "source": [
    "# Check cluster labels for 100 min_samples\n",
    "hd_labels = hd_clusters.labels_\n",
    "print(hd_labels)\n",
    "\n",
    "# How many clusters are there?\n",
    "hd_labels.max()"
   ]
  },
  {
   "cell_type": "code",
   "execution_count": null,
   "metadata": {},
   "outputs": [],
   "source": [
    "# hdbsan with 75 min_samples\n",
    "hd_clusters = hdbscan.HDBSCAN(min_samples=75)"
   ]
  },
  {
   "cell_type": "code",
   "execution_count": null,
   "metadata": {},
   "outputs": [],
   "source": [
    "# Get cluster preds with 75 min_samples\n",
    "hd_preds = hd_clusters.fit_predict(track1_darray)"
   ]
  },
  {
   "cell_type": "code",
   "execution_count": null,
   "metadata": {},
   "outputs": [],
   "source": [
    "# Check cluster labels for 75 min_samples\n",
    "hd_labels = hd_clusters.labels_\n",
    "print(hd_labels)\n",
    "\n",
    "# How many clusters are there?\n",
    "hd_labels.max()"
   ]
  },
  {
   "cell_type": "code",
   "execution_count": null,
   "metadata": {},
   "outputs": [],
   "source": [
    "# hdbscan with manhattan distance\n",
    "hd_clusters = hdbscan.HDBSCAN(metric='manhattan')"
   ]
  },
  {
   "cell_type": "code",
   "execution_count": null,
   "metadata": {},
   "outputs": [],
   "source": [
    "# Get cluster preds with manhattan distance\n",
    "hd_preds = hd_clusters.fit_predict(track1_darray)"
   ]
  },
  {
   "cell_type": "code",
   "execution_count": null,
   "metadata": {},
   "outputs": [],
   "source": [
    "# Check cluster labels for manhattan\n",
    "hd_labels = hd_clusters.labels_\n",
    "print(hd_labels)\n",
    "\n",
    "# How many clusters are there?\n",
    "hd_labels.max()"
   ]
  },
  {
   "cell_type": "code",
   "execution_count": null,
   "metadata": {},
   "outputs": [],
   "source": [
    "# Okay let's make this manhattan distance version better with more params\n",
    "hd_clusters = hdbscan.HDBSCAN(min_samples=43, min_cluster_size=10, metric='manhattan')"
   ]
  },
  {
   "cell_type": "code",
   "execution_count": null,
   "metadata": {},
   "outputs": [],
   "source": [
    "# Get cluster preds with manhattan + min_samples 43 + min_clust_size 10\n",
    "hd_preds = hd_clusters.fit_predict(track1_darray)"
   ]
  },
  {
   "cell_type": "code",
   "execution_count": null,
   "metadata": {},
   "outputs": [],
   "source": [
    "# Check cluster labels for manhattan + min_samples 43 + min_clust_size 10\n",
    "hd_labels = hd_clusters.labels_\n",
    "print(hd_labels)\n",
    "\n",
    "# How many clusters are there?\n",
    "hd_labels.max()"
   ]
  },
  {
   "cell_type": "code",
   "execution_count": null,
   "metadata": {},
   "outputs": [],
   "source": [
    "# Manhattan again, reducing min_clust_size & increasing min_samples slightly\n",
    "hd_clusters = hdbscan.HDBSCAN(min_samples=50, min_cluster_size=8, metric='manhattan')"
   ]
  },
  {
   "cell_type": "code",
   "execution_count": null,
   "metadata": {},
   "outputs": [],
   "source": [
    "# Get cluster preds with manhattan + min_samples 50 + min_clust_size 8\n",
    "hd_preds = hd_clusters.fit_predict(track1_darray)"
   ]
  },
  {
   "cell_type": "code",
   "execution_count": null,
   "metadata": {},
   "outputs": [],
   "source": [
    "# Check cluster labels for manhattan + min_samples 50 + min_clust_size 8\n",
    "hd_labels = hd_clusters.labels_\n",
    "print(hd_labels)\n",
    "\n",
    "# How many clusters are there?\n",
    "hd_labels.max()"
   ]
  },
  {
   "cell_type": "code",
   "execution_count": null,
   "metadata": {},
   "outputs": [],
   "source": [
    "# Manhattan again, reducing min_clust_size 10 & min_samples 50\n",
    "hd_clusters = hdbscan.HDBSCAN(min_samples=50, min_cluster_size=10, metric='manhattan')"
   ]
  },
  {
   "cell_type": "code",
   "execution_count": null,
   "metadata": {},
   "outputs": [],
   "source": [
    "# Get cluster preds with manhattan + min_samples 50 + min_clust_size 10\n",
    "hd_preds = hd_clusters.fit_predict(track1_darray)"
   ]
  },
  {
   "cell_type": "code",
   "execution_count": null,
   "metadata": {},
   "outputs": [],
   "source": [
    "# Check cluster labels for manhattan + min_samples 50 + min_clust_size 10\n",
    "hd_labels = hd_clusters.labels_\n",
    "print(hd_labels)\n",
    "\n",
    "# How many clusters are there?\n",
    "hd_labels.max()"
   ]
  },
  {
   "cell_type": "code",
   "execution_count": null,
   "metadata": {},
   "outputs": [],
   "source": [
    "# Increasing min_clust_size to 15 & min_samples at 50\n",
    "hd_clusters = hdbscan.HDBSCAN(min_samples=50, min_cluster_size=15, metric='manhattan')"
   ]
  },
  {
   "cell_type": "code",
   "execution_count": null,
   "metadata": {},
   "outputs": [],
   "source": [
    "# Get cluster preds with manhattan + min_samples 50 + min_clust_size 15\n",
    "hd_preds = hd_clusters.fit_predict(track1_darray)"
   ]
  },
  {
   "cell_type": "code",
   "execution_count": null,
   "metadata": {},
   "outputs": [],
   "source": [
    "# Check cluster labels for manhattan + min_samples 50 + min_clust_size 15\n",
    "hd_labels = hd_clusters.labels_\n",
    "print(hd_labels)\n",
    "\n",
    "# How many clusters are there?\n",
    "hd_labels.max()"
   ]
  },
  {
   "cell_type": "code",
   "execution_count": null,
   "metadata": {},
   "outputs": [],
   "source": [
    "# Increasing min_clust_size to 25 & min_samples at 50\n",
    "hd_clusters = hdbscan.HDBSCAN(min_samples=50, min_cluster_size=25, metric='manhattan')"
   ]
  },
  {
   "cell_type": "code",
   "execution_count": null,
   "metadata": {},
   "outputs": [],
   "source": [
    "# Get cluster preds with manhattan + min_samples 50 + min_clust_size 25\n",
    "hd_preds = hd_clusters.fit_predict(track1_darray)"
   ]
  },
  {
   "cell_type": "code",
   "execution_count": null,
   "metadata": {},
   "outputs": [],
   "source": [
    "# Check cluster labels for manhattan + min_samples 50 + min_clust_size 15\n",
    "hd_labels = hd_clusters.labels_\n",
    "print(hd_labels)\n",
    "\n",
    "# How many clusters are there?\n",
    "hd_labels.max()"
   ]
  },
  {
   "cell_type": "code",
   "execution_count": null,
   "metadata": {},
   "outputs": [],
   "source": [
    "# Increasing min_clust_size to 30 & min_samples to 65\n",
    "hd_clusters = hdbscan.HDBSCAN(min_samples=65, min_cluster_size=30, metric='manhattan')"
   ]
  },
  {
   "cell_type": "code",
   "execution_count": null,
   "metadata": {},
   "outputs": [],
   "source": [
    "# Get cluster preds with manhattan + min_samples 65 + min_clust_size 30\n",
    "hd_preds = hd_clusters.fit_predict(track1_darray)"
   ]
  },
  {
   "cell_type": "code",
   "execution_count": null,
   "metadata": {},
   "outputs": [],
   "source": [
    "# Check cluster labels for manhattan + min_samples 65 + min_clust_size 30\n",
    "hd_labels = hd_clusters.labels_\n",
    "print(hd_labels)\n",
    "\n",
    "# How many clusters are there?\n",
    "hd_labels.max()"
   ]
  },
  {
   "cell_type": "code",
   "execution_count": null,
   "metadata": {},
   "outputs": [],
   "source": [
    "# Increasing min_clust_size to 35 & min_samples to 75\n",
    "hd_clusters = hdbscan.HDBSCAN(min_samples=75, min_cluster_size=35, metric='manhattan')"
   ]
  },
  {
   "cell_type": "code",
   "execution_count": null,
   "metadata": {},
   "outputs": [],
   "source": [
    "# Get cluster preds with manhattan + min_samples 75 + min_clust_size 35\n",
    "hd_preds = hd_clusters.fit_predict(track1_darray)"
   ]
  },
  {
   "cell_type": "code",
   "execution_count": null,
   "metadata": {},
   "outputs": [],
   "source": [
    "# Check cluster labels for manhattan + min_samples 75 + min_clust_size 35\n",
    "hd_labels = hd_clusters.labels_\n",
    "print(hd_labels)\n",
    "\n",
    "# How many clusters are there?\n",
    "hd_labels.max()"
   ]
  },
  {
   "cell_type": "code",
   "execution_count": null,
   "metadata": {},
   "outputs": [],
   "source": [
    "# Increasing min_clust_size to 50 & min_samples to 85\n",
    "hd_clusters = hdbscan.HDBSCAN(min_samples=85, min_cluster_size=50, metric='manhattan')"
   ]
  },
  {
   "cell_type": "code",
   "execution_count": null,
   "metadata": {},
   "outputs": [],
   "source": [
    "# Get cluster preds with manhattan + min_samples 85 + min_clust_size 50\n",
    "hd_preds = hd_clusters.fit_predict(track1_darray)"
   ]
  },
  {
   "cell_type": "code",
   "execution_count": null,
   "metadata": {},
   "outputs": [],
   "source": [
    "# Check cluster labels for manhattan + min_samples 85 + min_clust_size 50\n",
    "hd_labels = hd_clusters.labels_\n",
    "print(hd_labels)\n",
    "\n",
    "# How many clusters are there?\n",
    "hd_labels.max()"
   ]
  },
  {
   "cell_type": "code",
   "execution_count": null,
   "metadata": {},
   "outputs": [],
   "source": [
    "# Increasing min_clust_size to 60 & leaving min_samples at 85\n",
    "hd_clusters = hdbscan.HDBSCAN(min_samples=85, min_cluster_size=60, metric='manhattan')"
   ]
  },
  {
   "cell_type": "code",
   "execution_count": null,
   "metadata": {},
   "outputs": [],
   "source": [
    "# Get cluster preds with manhattan + min_samples 85 + min_clust_size 60\n",
    "hd_preds = hd_clusters.fit_predict(track1_darray)"
   ]
  },
  {
   "cell_type": "code",
   "execution_count": null,
   "metadata": {},
   "outputs": [],
   "source": [
    "# Check cluster labels for manhattan + min_samples 85 + min_clust_size 60\n",
    "hd_labels = hd_clusters.labels_\n",
    "print(hd_labels)\n",
    "\n",
    "# How many clusters are there?\n",
    "hd_labels.max()"
   ]
  },
  {
   "cell_type": "code",
   "execution_count": null,
   "metadata": {},
   "outputs": [],
   "source": [
    "# Increasing min_clust_size to 65 & reducing min_samples to 75\n",
    "hd_clusters = hdbscan.HDBSCAN(min_samples=75, min_cluster_size=65, metric='manhattan')"
   ]
  },
  {
   "cell_type": "code",
   "execution_count": null,
   "metadata": {},
   "outputs": [],
   "source": [
    "#  Increasing min_clust_size to 65 & reducing min_samples to 75\n",
    "hd_preds = hd_clusters.fit_predict(track1_darray)"
   ]
  },
  {
   "cell_type": "code",
   "execution_count": null,
   "metadata": {},
   "outputs": [],
   "source": [
    "# Check cluster labels for manhattan + min_samples 75 + min_clust_size 65\n",
    "hd_labels = hd_clusters.labels_\n",
    "print(hd_labels)\n",
    "\n",
    "# How many clusters are there?\n",
    "hd_labels.max()"
   ]
  },
  {
   "cell_type": "code",
   "execution_count": null,
   "metadata": {},
   "outputs": [],
   "source": [
    "# Increasing min_clust_size to 50 & min_samples to 90\n",
    "hd_clusters = hdbscan.HDBSCAN(min_samples=90, min_cluster_size=50, metric='manhattan')"
   ]
  },
  {
   "cell_type": "code",
   "execution_count": null,
   "metadata": {},
   "outputs": [],
   "source": [
    "# Get cluster preds with manhattan + min_samples 90 + min_clust_size 50\n",
    "hd_preds = hd_clusters.fit_predict(track1_darray)"
   ]
  },
  {
   "cell_type": "code",
   "execution_count": null,
   "metadata": {},
   "outputs": [],
   "source": [
    "# Check cluster labels for manhattan + min_samples 90 + min_clust_size 50\n",
    "hd_labels = hd_clusters.labels_\n",
    "print(hd_labels)\n",
    "\n",
    "# How many clusters are there?\n",
    "hd_labels.max()"
   ]
  },
  {
   "cell_type": "code",
   "execution_count": null,
   "metadata": {},
   "outputs": [],
   "source": [
    "# Increasing min_clust_size to 100 & leave min_samples at 90\n",
    "hd_clusters = hdbscan.HDBSCAN(min_samples=90, min_cluster_size=100, metric='manhattan')"
   ]
  },
  {
   "cell_type": "code",
   "execution_count": null,
   "metadata": {},
   "outputs": [],
   "source": [
    "# Get preds with manhattan + min_samples 90 & clust_size 100\n",
    "hd_preds = hd_clusters.fit_predict(track1_darray)"
   ]
  },
  {
   "cell_type": "code",
   "execution_count": null,
   "metadata": {},
   "outputs": [],
   "source": [
    "# Check cluster labels for manhattan + min_samples 90 + min_clust_size 100\n",
    "hd_labels = hd_clusters.labels_\n",
    "print(hd_labels)\n",
    "\n",
    "# How many clusters are there?\n",
    "hd_labels.max()"
   ]
  },
  {
   "cell_type": "code",
   "execution_count": null,
   "metadata": {},
   "outputs": [],
   "source": [
    "# Increasing min_clust_size to 150 & increasing min_samples to 100\n",
    "hd_clusters = hdbscan.HDBSCAN(min_samples=100, min_cluster_size=150, metric='manhattan')"
   ]
  },
  {
   "cell_type": "code",
   "execution_count": null,
   "metadata": {},
   "outputs": [],
   "source": [
    "# Get preds with manhattan + min_samples 100 & clust_size 150\n",
    "hd_preds = hd_clusters.fit_predict(track1_darray)"
   ]
  },
  {
   "cell_type": "code",
   "execution_count": null,
   "metadata": {},
   "outputs": [],
   "source": [
    "# Check cluster labels for manhattan + min_samples 100 + min_clust_size 150\n",
    "hd_labels = hd_clusters.labels_\n",
    "print(hd_labels)\n",
    "\n",
    "# How many clusters are there?\n",
    "hd_labels.max()"
   ]
  },
  {
   "cell_type": "code",
   "execution_count": null,
   "metadata": {},
   "outputs": [],
   "source": [
    "# Increasing min_clust_size to 175 & keeping min_samples at 100\n",
    "hd_clusters = hdbscan.HDBSCAN(min_samples=100, min_cluster_size=175, metric='manhattan')"
   ]
  },
  {
   "cell_type": "code",
   "execution_count": null,
   "metadata": {},
   "outputs": [],
   "source": [
    "# Get preds with manhattan + min_samples 100 & clust_size 175\n",
    "hd_preds = hd_clusters.fit_predict(track1_darray)"
   ]
  },
  {
   "cell_type": "code",
   "execution_count": null,
   "metadata": {},
   "outputs": [],
   "source": [
    "# Check cluster labels for manhattan + min_samples 100 + min_clust_size 150\n",
    "hd_labels = hd_clusters.labels_\n",
    "print(hd_labels)\n",
    "\n",
    "# How many clusters are there?\n",
    "hd_labels.max()"
   ]
  },
  {
   "cell_type": "code",
   "execution_count": null,
   "metadata": {},
   "outputs": [],
   "source": [
    "# Increasing min_clust_size to 200 & keeping min_samples at 100\n",
    "hd_clusters = hdbscan.HDBSCAN(min_samples=100, min_cluster_size=200, metric='manhattan')"
   ]
  },
  {
   "cell_type": "code",
   "execution_count": null,
   "metadata": {},
   "outputs": [],
   "source": [
    "# Get preds with manhattan + min_samples 100 & clust_size 200\n",
    "hd_preds = hd_clusters.fit_predict(track1_darray)"
   ]
  },
  {
   "cell_type": "code",
   "execution_count": null,
   "metadata": {},
   "outputs": [],
   "source": [
    "# Check cluster labels for manhattan + min_samples 100 + min_clust_size 200\n",
    "hd_labels = hd_clusters.labels_\n",
    "print(hd_labels)\n",
    "\n",
    "# How many clusters are there?\n",
    "hd_labels.max()"
   ]
  },
  {
   "cell_type": "code",
   "execution_count": null,
   "metadata": {},
   "outputs": [],
   "source": [
    "# Keeping min_clust_size at 200 & increasing min_samples to 125\n",
    "hd_clusters = hdbscan.HDBSCAN(min_samples=125, min_cluster_size=200, metric='manhattan')"
   ]
  },
  {
   "cell_type": "code",
   "execution_count": null,
   "metadata": {},
   "outputs": [],
   "source": [
    "# Get preds with manhattan + min_samples 125 & clust_size 200\n",
    "hd_preds = hd_clusters.fit_predict(track1_darray)"
   ]
  },
  {
   "cell_type": "code",
   "execution_count": null,
   "metadata": {},
   "outputs": [],
   "source": [
    "# Check cluster labels for manhattan + min_samples 100 + min_clust_size 200\n",
    "hd_labels = hd_clusters.labels_\n",
    "print(hd_labels)\n",
    "\n",
    "# How many clusters are there?\n",
    "hd_labels.max()"
   ]
  },
  {
   "cell_type": "code",
   "execution_count": null,
   "metadata": {},
   "outputs": [],
   "source": [
    "# Increasing min_clust_size to 225 & increasing min_samples to 125\n",
    "hd_clusters = hdbscan.HDBSCAN(min_samples=125, min_cluster_size=225, metric='manhattan')"
   ]
  },
  {
   "cell_type": "code",
   "execution_count": null,
   "metadata": {},
   "outputs": [],
   "source": [
    "# Get preds with manhattan + min_samples 125 & clust_size 225\n",
    "hd_preds = hd_clusters.fit_predict(track1_darray)"
   ]
  },
  {
   "cell_type": "code",
   "execution_count": null,
   "metadata": {},
   "outputs": [],
   "source": [
    "# Check cluster labels for manhattan + min_samples 125 + min_clust_size 225\n",
    "hd_labels = hd_clusters.labels_\n",
    "print(hd_labels)\n",
    "\n",
    "# How many clusters are there?\n",
    "hd_labels.max()"
   ]
  },
  {
   "cell_type": "code",
   "execution_count": null,
   "metadata": {},
   "outputs": [],
   "source": [
    "# Increasing min_clust_size to 275 & keeping min_samples at 125\n",
    "hd_clusters = hdbscan.HDBSCAN(min_samples=125, min_cluster_size=275, metric='manhattan')"
   ]
  },
  {
   "cell_type": "code",
   "execution_count": null,
   "metadata": {},
   "outputs": [],
   "source": [
    "# Get preds with manhattan + min_samples 125 & clust_size 275\n",
    "hd_preds = hd_clusters.fit_predict(track1_darray)"
   ]
  },
  {
   "cell_type": "code",
   "execution_count": null,
   "metadata": {},
   "outputs": [],
   "source": [
    "# Check cluster labels for manhattan + min_samples 125 + min_clust_size 275\n",
    "hd_labels = hd_clusters.labels_\n",
    "print(hd_labels)\n",
    "\n",
    "# How many clusters are there?\n",
    "hd_labels.max()"
   ]
  },
  {
   "cell_type": "code",
   "execution_count": null,
   "metadata": {},
   "outputs": [],
   "source": [
    "# Increasing min_clust_size to 350 & keeping min_samples at 125\n",
    "hd_clusters = hdbscan.HDBSCAN(min_samples=125, min_cluster_size=350, metric='manhattan')"
   ]
  },
  {
   "cell_type": "code",
   "execution_count": null,
   "metadata": {},
   "outputs": [],
   "source": [
    "# Get preds with manhattan + min_samples 125 & clust_size 350\n",
    "hd_preds = hd_clusters.fit_predict(track1_darray)"
   ]
  },
  {
   "cell_type": "code",
   "execution_count": null,
   "metadata": {},
   "outputs": [],
   "source": [
    "# Check cluster labels for manhattan + min_samples 125 + min_clust_size 350\n",
    "hd_labels = hd_clusters.labels_\n",
    "print(hd_labels)\n",
    "\n",
    "# How many clusters are there?\n",
    "hd_labels.max()"
   ]
  },
  {
   "cell_type": "code",
   "execution_count": null,
   "metadata": {},
   "outputs": [],
   "source": [
    "# Increasing min_clust_size to 450 & increasing min_samples at 175\n",
    "hd_clusters = hdbscan.HDBSCAN(min_samples=175, min_cluster_size=450, metric='manhattan')"
   ]
  },
  {
   "cell_type": "code",
   "execution_count": null,
   "metadata": {},
   "outputs": [],
   "source": [
    "# Get preds with manhattan + min_samples 175 & clust_size 450\n",
    "hd_preds = hd_clusters.fit_predict(track1_darray)"
   ]
  },
  {
   "cell_type": "code",
   "execution_count": null,
   "metadata": {},
   "outputs": [],
   "source": [
    "# Check cluster labels for manhattan + min_samples 175 + min_clust_size 450\n",
    "hd_labels = hd_clusters.labels_\n",
    "print(hd_labels)\n",
    "\n",
    "# How many clusters are there?\n",
    "hd_labels.max()"
   ]
  },
  {
   "cell_type": "code",
   "execution_count": null,
   "metadata": {},
   "outputs": [],
   "source": [
    "# Increasing min_clust_size to 500 & increasing min_samples at 200\n",
    "hd_clusters = hdbscan.HDBSCAN(min_samples=200, min_cluster_size=500, metric='manhattan')"
   ]
  },
  {
   "cell_type": "code",
   "execution_count": null,
   "metadata": {},
   "outputs": [],
   "source": [
    "# Get preds with manhattan + min_samples 200 & clust_size 500\n",
    "hd_preds = hd_clusters.fit_predict(track1_darray)"
   ]
  },
  {
   "cell_type": "code",
   "execution_count": null,
   "metadata": {},
   "outputs": [],
   "source": [
    "# Check cluster labels for manhattan + min_samples 200 + min_clust_size 500\n",
    "hd_labels = hd_clusters.labels_\n",
    "print(hd_labels)\n",
    "\n",
    "# How many clusters are there?\n",
    "hd_labels.max()"
   ]
  },
  {
   "cell_type": "code",
   "execution_count": null,
   "metadata": {},
   "outputs": [],
   "source": [
    "# Keeping min_clust_size at 500 & increasing min_samples to 300\n",
    "hd_clusters = hdbscan.HDBSCAN(min_samples=300, min_cluster_size=500, metric='manhattan')"
   ]
  },
  {
   "cell_type": "code",
   "execution_count": null,
   "metadata": {},
   "outputs": [],
   "source": [
    "# Get preds with manhattan + min_samples 300 & clust_size 500\n",
    "hd_preds = hd_clusters.fit_predict(track1_darray)"
   ]
  },
  {
   "cell_type": "code",
   "execution_count": null,
   "metadata": {},
   "outputs": [],
   "source": [
    "# Check cluster labels for manhattan + min_samples 300 + min_clust_size 500\n",
    "hd_labels = hd_clusters.labels_\n",
    "print(hd_labels)\n",
    "\n",
    "# How many clusters are there?\n",
    "hd_labels.max()"
   ]
  },
  {
   "cell_type": "code",
   "execution_count": null,
   "metadata": {},
   "outputs": [],
   "source": [
    "# Increasing min_clust_size to 550 & increasing min_samples at 350\n",
    "hd_clusters = hdbscan.HDBSCAN(min_samples=350, min_cluster_size=550, metric='manhattan')"
   ]
  },
  {
   "cell_type": "code",
   "execution_count": null,
   "metadata": {},
   "outputs": [],
   "source": [
    "# Get preds with manhattan + min_samples 350 & clust_size 550\n",
    "hd_preds = hd_clusters.fit_predict(track1_darray)"
   ]
  },
  {
   "cell_type": "code",
   "execution_count": null,
   "metadata": {},
   "outputs": [],
   "source": [
    "# Check cluster labels for manhattan + min_samples 350 + min_clust_size 550\n",
    "hd_labels = hd_clusters.labels_\n",
    "print(hd_labels)\n",
    "\n",
    "# How many clusters are there?\n",
    "hd_labels.max()"
   ]
  },
  {
   "cell_type": "code",
   "execution_count": null,
   "metadata": {},
   "outputs": [],
   "source": [
    "# Increasing min_clust_size to 600 & increasing min_samples at 375\n",
    "hd_clusters = hdbscan.HDBSCAN(min_samples=375, min_cluster_size=600, metric='manhattan')"
   ]
  },
  {
   "cell_type": "code",
   "execution_count": null,
   "metadata": {},
   "outputs": [],
   "source": [
    "# Get preds with manhattan + min_samples 375 & clust_size 600\n",
    "hd_preds = hd_clusters.fit_predict(track1_darray)"
   ]
  },
  {
   "cell_type": "code",
   "execution_count": null,
   "metadata": {},
   "outputs": [],
   "source": [
    "# Check cluster labels for manhattan + min_samples 375 + min_clust_size 600\n",
    "hd_labels = hd_clusters.labels_\n",
    "print(hd_labels)\n",
    "\n",
    "# How many clusters are there?\n",
    "hd_labels.max()"
   ]
  },
  {
   "cell_type": "code",
   "execution_count": null,
   "metadata": {},
   "outputs": [],
   "source": [
    "# Increasing min_clust_size to 625 & keeping min_samples at 375\n",
    "hd_clusters = hdbscan.HDBSCAN(min_samples=375, min_cluster_size=625, metric='manhattan')"
   ]
  },
  {
   "cell_type": "code",
   "execution_count": null,
   "metadata": {},
   "outputs": [],
   "source": [
    "# Get preds with manhattan + min_samples 375 & clust_size 625\n",
    "hd_preds = hd_clusters.fit_predict(track1_darray)"
   ]
  },
  {
   "cell_type": "code",
   "execution_count": null,
   "metadata": {},
   "outputs": [],
   "source": [
    "# Check cluster labels for manhattan + min_samples 375 + min_clust_size 625\n",
    "hd_labels = hd_clusters.labels_\n",
    "print(hd_labels)\n",
    "\n",
    "# How many clusters are there?\n",
    "hd_labels.max()"
   ]
  },
  {
   "cell_type": "code",
   "execution_count": null,
   "metadata": {},
   "outputs": [],
   "source": [
    "# Keeping min_clust_size at 625 & increasing min_samples to 425\n",
    "hd_clusters = hdbscan.HDBSCAN(min_samples=425, min_cluster_size=625, metric='manhattan')"
   ]
  },
  {
   "cell_type": "code",
   "execution_count": null,
   "metadata": {},
   "outputs": [],
   "source": [
    "# Get preds with manhattan + min_samples 425 & clust_size 625\n",
    "hd_preds = hd_clusters.fit_predict(track1_darray)"
   ]
  },
  {
   "cell_type": "code",
   "execution_count": null,
   "metadata": {},
   "outputs": [],
   "source": [
    "# Check cluster labels for manhattan + min_samples 425 + min_clust_size 625\n",
    "hd_labels = hd_clusters.labels_\n",
    "print(hd_labels)\n",
    "\n",
    "# How many clusters are there?\n",
    "hd_labels.max()"
   ]
  },
  {
   "cell_type": "code",
   "execution_count": null,
   "metadata": {},
   "outputs": [],
   "source": [
    "# Increasing min_clust_size to 650 & keeping min_samples at 425\n",
    "hd_clusters = hdbscan.HDBSCAN(min_samples=425, min_cluster_size=650, metric='manhattan')"
   ]
  },
  {
   "cell_type": "code",
   "execution_count": null,
   "metadata": {},
   "outputs": [],
   "source": [
    "# Get preds with manhattan + min_samples 425 & clust_size 650\n",
    "hd_preds = hd_clusters.fit_predict(track1_darray)"
   ]
  },
  {
   "cell_type": "code",
   "execution_count": null,
   "metadata": {},
   "outputs": [],
   "source": [
    "# Check cluster labels for manhattan + min_samples 425 + min_clust_size 650\n",
    "hd_labels = hd_clusters.labels_\n",
    "print(hd_labels)\n",
    "\n",
    "# How many clusters are there?\n",
    "hd_labels.max()"
   ]
  },
  {
   "cell_type": "code",
   "execution_count": null,
   "metadata": {},
   "outputs": [],
   "source": [
    "# Increasing min_clust_size to 700 & increasing min_samples to 475\n",
    "hd_clusters = hdbscan.HDBSCAN(min_samples=475, min_cluster_size=700, metric='manhattan')"
   ]
  },
  {
   "cell_type": "code",
   "execution_count": null,
   "metadata": {},
   "outputs": [],
   "source": [
    "# Get preds with manhattan + min_samples 475 & clust_size 700\n",
    "hd_preds = hd_clusters.fit_predict(track1_darray)"
   ]
  },
  {
   "cell_type": "code",
   "execution_count": null,
   "metadata": {},
   "outputs": [],
   "source": [
    "# Check cluster labels for manhattan + min_samples 475 + min_clust_size 700\n",
    "hd_labels = hd_clusters.labels_\n",
    "print(hd_labels)\n",
    "\n",
    "# How many clusters are there?\n",
    "hd_labels.max()"
   ]
  },
  {
   "cell_type": "code",
   "execution_count": null,
   "metadata": {},
   "outputs": [],
   "source": [
    "# Increasing min_clust_size to 900 & increasing min_samples to 500\n",
    "hd_clusters = hdbscan.HDBSCAN(min_samples=500, min_cluster_size=900, metric='manhattan')"
   ]
  },
  {
   "cell_type": "code",
   "execution_count": null,
   "metadata": {},
   "outputs": [],
   "source": [
    "# Get preds with manhattan + min_samples 500 & clust_size 900\n",
    "hd_preds = hd_clusters.fit_predict(track1_darray)"
   ]
  },
  {
   "cell_type": "code",
   "execution_count": null,
   "metadata": {},
   "outputs": [],
   "source": [
    "# Check cluster labels for manhattan + min_samples 500 + min_clust_size 900\n",
    "hd_labels = hd_clusters.labels_\n",
    "print(hd_labels)\n",
    "\n",
    "# How many clusters are there?\n",
    "hd_labels.max()"
   ]
  },
  {
   "cell_type": "code",
   "execution_count": null,
   "metadata": {},
   "outputs": [],
   "source": [
    "# Increasing min_clust_size to 950 & increasing min_samples to 550\n",
    "hd_clusters = hdbscan.HDBSCAN(min_samples=550, min_cluster_size=950, metric='manhattan')"
   ]
  },
  {
   "cell_type": "code",
   "execution_count": null,
   "metadata": {},
   "outputs": [],
   "source": [
    "# Get preds with manhattan + min_samples 550 & clust_size 950\n",
    "hd_preds = hd_clusters.fit_predict(track1_darray)"
   ]
  },
  {
   "cell_type": "code",
   "execution_count": null,
   "metadata": {},
   "outputs": [],
   "source": [
    "# Check cluster labels for manhattan + min_samples 550 + min_clust_size 950\n",
    "hd_labels = hd_clusters.labels_\n",
    "print(hd_labels)\n",
    "\n",
    "# How many clusters are there?\n",
    "hd_labels.max()"
   ]
  },
  {
   "cell_type": "code",
   "execution_count": null,
   "metadata": {},
   "outputs": [],
   "source": [
    "# Increasing min_clust_size to 1000 & increasing min_samples to 650\n",
    "hd_clusters = hdbscan.HDBSCAN(min_samples=650, min_cluster_size=1000, metric='manhattan')"
   ]
  },
  {
   "cell_type": "code",
   "execution_count": null,
   "metadata": {},
   "outputs": [],
   "source": [
    "# Get preds with manhattan + min_samples 650 & clust_size 1000\n",
    "hd_preds = hd_clusters.fit_predict(track1_darray)"
   ]
  },
  {
   "cell_type": "code",
   "execution_count": null,
   "metadata": {},
   "outputs": [],
   "source": [
    "# Cluster labels for manhattan + min_samples 650 + min_clust_size 1000\n",
    "hd_labels = hd_clusters.labels_\n",
    "print(hd_labels)\n",
    "\n",
    "# How many clusters are there?\n",
    "hd_labels.max()"
   ]
  },
  {
   "cell_type": "code",
   "execution_count": null,
   "metadata": {},
   "outputs": [],
   "source": [
    "# Increasing min_clust_size to 1050 & increasing min_samples to 800\n",
    "hd_clusters = hdbscan.HDBSCAN(min_samples=800, min_cluster_size=1050, metric='manhattan')"
   ]
  },
  {
   "cell_type": "code",
   "execution_count": null,
   "metadata": {},
   "outputs": [],
   "source": [
    "# Get preds with manhattan + min_samples 800 & clust_size 1050\n",
    "hd_preds = hd_clusters.fit_predict(track1_darray)"
   ]
  },
  {
   "cell_type": "code",
   "execution_count": null,
   "metadata": {},
   "outputs": [],
   "source": [
    "# Cluster labels for manhattan + min_samples 800 + min_clust_size 1050\n",
    "hd_labels = hd_clusters.labels_\n",
    "print(hd_labels)\n",
    "\n",
    "# How many clusters are there?\n",
    "hd_labels.max()"
   ]
  },
  {
   "cell_type": "code",
   "execution_count": null,
   "metadata": {},
   "outputs": [],
   "source": [
    "# Increasing min_clust_size to 1150 & increasing min_samples to 950\n",
    "hd_clusters = hdbscan.HDBSCAN(min_samples=950, min_cluster_size=1150, metric='manhattan')"
   ]
  },
  {
   "cell_type": "code",
   "execution_count": null,
   "metadata": {},
   "outputs": [],
   "source": [
    "# Get preds with manhattan + min_samples 950 & clust_size 1150\n",
    "hd_preds = hd_clusters.fit_predict(track1_darray)"
   ]
  },
  {
   "cell_type": "code",
   "execution_count": null,
   "metadata": {},
   "outputs": [],
   "source": [
    "# Cluster labels for manhattan + min_samples 950 + min_clust_size 1150\n",
    "hd_labels = hd_clusters.labels_\n",
    "print(hd_labels)\n",
    "\n",
    "# How many clusters are there?\n",
    "hd_labels.max()"
   ]
  },
  {
   "cell_type": "code",
   "execution_count": null,
   "metadata": {},
   "outputs": [],
   "source": [
    "# Increasing min_clust_size to 1200 & keeping min_samples at 950\n",
    "hd_clusters = hdbscan.HDBSCAN(min_samples=950, min_cluster_size=1200, metric='manhattan')"
   ]
  },
  {
   "cell_type": "code",
   "execution_count": null,
   "metadata": {},
   "outputs": [],
   "source": [
    "# Get preds with manhattan + min_samples 950 & clust_size 1200\n",
    "hd_preds = hd_clusters.fit_predict(track1_darray)"
   ]
  },
  {
   "cell_type": "code",
   "execution_count": null,
   "metadata": {},
   "outputs": [],
   "source": [
    "# Cluster labels for manhattan + min_samples 950 + min_clust_size 1200\n",
    "hd_labels = hd_clusters.labels_\n",
    "print(hd_labels)\n",
    "\n",
    "# How many clusters are there?\n",
    "hd_labels.max()"
   ]
  },
  {
   "cell_type": "code",
   "execution_count": null,
   "metadata": {},
   "outputs": [],
   "source": [
    "# Increasing min_clust_size to 1400 & keeping min_samples at 1000\n",
    "hd_clusters = hdbscan.HDBSCAN(min_samples=1000, min_cluster_size=1400, metric='manhattan')"
   ]
  },
  {
   "cell_type": "code",
   "execution_count": null,
   "metadata": {},
   "outputs": [],
   "source": [
    "# Get preds with manhattan + min_samples 1000 & clust_size 1400\n",
    "hd_preds = hd_clusters.fit_predict(track1_darray)"
   ]
  },
  {
   "cell_type": "code",
   "execution_count": null,
   "metadata": {},
   "outputs": [],
   "source": [
    "# Cluster labels for manhattan + min_samples 1000 + min_clust_size 1400\n",
    "hd_labels = hd_clusters.labels_\n",
    "print(hd_labels)\n",
    "\n",
    "# How many clusters are there?\n",
    "hd_labels.max()"
   ]
  },
  {
   "cell_type": "code",
   "execution_count": null,
   "metadata": {},
   "outputs": [],
   "source": [
    "# Increasing min_clust_size to 1500 & increasing min_samples to 1100\n",
    "hd_clusters = hdbscan.HDBSCAN(min_samples=1100, min_cluster_size=1500, metric='manhattan')"
   ]
  },
  {
   "cell_type": "code",
   "execution_count": null,
   "metadata": {},
   "outputs": [],
   "source": [
    "# Get preds with manhattan + min_samples 1100 & clust_size 1500\n",
    "hd_preds = hd_clusters.fit_predict(track1_darray)"
   ]
  },
  {
   "cell_type": "code",
   "execution_count": null,
   "metadata": {},
   "outputs": [],
   "source": [
    "# Cluster labels for manhattan + min_samples 1100 + min_clust_size 1500\n",
    "hd_labels = hd_clusters.labels_\n",
    "print(hd_labels)\n",
    "\n",
    "# How many clusters are there?\n",
    "hd_labels.max()"
   ]
  },
  {
   "cell_type": "code",
   "execution_count": null,
   "metadata": {},
   "outputs": [],
   "source": [
    "# Increasing min_clust_size to 1600 & increasing min_samples to 1200\n",
    "hd_clusters = hdbscan.HDBSCAN(min_samples=1200, min_cluster_size=1600, metric='manhattan')"
   ]
  },
  {
   "cell_type": "code",
   "execution_count": null,
   "metadata": {},
   "outputs": [],
   "source": [
    "# Get preds with manhattan + min_samples 1200 & clust_size 1600\n",
    "hd_preds = hd_clusters.fit_predict(track1_darray)"
   ]
  },
  {
   "cell_type": "code",
   "execution_count": null,
   "metadata": {},
   "outputs": [],
   "source": [
    "# Cluster labels for manhattan + min_samples 1200 + min_clust_size 1600\n",
    "hd_labels = hd_clusters.labels_\n",
    "print(hd_labels)\n",
    "\n",
    "# How many clusters are there?\n",
    "hd_labels.max()"
   ]
  },
  {
   "cell_type": "code",
   "execution_count": null,
   "metadata": {},
   "outputs": [],
   "source": [
    "# Figure out how much noise there is in this 11-cluster solution\n",
    "no_noise_labels = []\n",
    "for label in hd_labels:\n",
    "    if label != -1:\n",
    "        no_noise_labels.append(label)\n",
    "print(len(no_noise_labels))\n",
    "\n",
    "print('{}% of the data is not considered noise: '.format((len(no_noise_labels) / len(track1_darray))*100))"
   ]
  },
  {
   "cell_type": "markdown",
   "metadata": {},
   "source": [
    "Okay, half and half is not too bad!"
   ]
  },
  {
   "cell_type": "code",
   "execution_count": null,
   "metadata": {},
   "outputs": [],
   "source": [
    "# Set up vectorizer with colors for plotting\n",
    "colors = [\n",
    "    'royalblue', \n",
    "    'maroon', \n",
    "    'forestgreen', \n",
    "    'mediumorchid', \n",
    "    'tan', \n",
    "    'deeppink', \n",
    "    'olive', \n",
    "    'goldenrod', \n",
    "    'lightcyan', \n",
    "    'navy',\n",
    "    'chartreuse'\n",
    "]\n",
    "\n",
    "vectorizer = np.vectorize(lambda x: colors[x % len(colors)])"
   ]
  },
  {
   "cell_type": "code",
   "execution_count": null,
   "metadata": {},
   "outputs": [],
   "source": [
    "# Plot clusters\n",
    "plt.scatter(track1_darray[:,0], track1_darray[:,1], c=vectorizer(hd_labels))"
   ]
  },
  {
   "cell_type": "code",
   "execution_count": null,
   "metadata": {},
   "outputs": [],
   "source": [
    "def plot_clusters(data, labels, args, kwds):\n",
    "    labels = labels   \n",
    "    palette = sns.color_palette('deep', np.unique(labels).max() + 1)\n",
    "    colors = [palette[x] if x >= 0 else (0.0,0.0,0.0) for x in labels]\n",
    "    plot_kwds={'alpha':0.25, 's':60, 'linewidths':0}\n",
    "    plt.scatter(data.T[0], data.T[1], c=colors, **plot_kwds)\n",
    "    frame = plt.gca()\n",
    "    frame.axes.get_xaxis().set_visible(False)\n",
    "    frame.axes.get_yaxis().set_visible(False)\n",
    "    plt.title('Clusters found by HDBSCAN', fontsize=24)\n",
    "\n",
    "    \n",
    "plot_clusters(track1_darray, hd_labels, (), {'n_clusters':11}) "
   ]
  },
  {
   "cell_type": "code",
   "execution_count": null,
   "metadata": {},
   "outputs": [],
   "source": [
    "# Hm, it looks like there may be too many points to view properly? \n",
    "#I'll take a random sample & see if it plots better\n",
    "\n",
    "# data_tup_list = []\n",
    "# label_tup_list = []\n",
    "\n",
    "# for index1, val in enumerate(track1_darray.compute()):\n",
    "#     data_tup = (val, index1)\n",
    "#     data_tup_list.append(data_tup)\n",
    "\n",
    "# for index2, label in enumerate(hd_labels):\n",
    "#     label_tup = (label, index2)\n",
    "#     label_tup_list.append(label_tup)\n"
   ]
  },
  {
   "cell_type": "code",
   "execution_count": null,
   "metadata": {
    "scrolled": true
   },
   "outputs": [],
   "source": [
    "# print(data_tup_list[0:10])\n",
    "# print(label_tup_list[0:10])"
   ]
  },
  {
   "cell_type": "code",
   "execution_count": null,
   "metadata": {},
   "outputs": [],
   "source": [
    "# Need to maintain context of random sample of track1 data, so this sample can be plotted with correct cluster labels\n",
    "\n",
    "# 1. create list of the dataset's indices, then randomly sample from that\n",
    "# 2. loop through the random sample to get each index and save it in a variable\n",
    "# 3. save the corresponding cluster label indices in another variable \n",
    "# 4. append each randomly sampled datapoint (in order of indices) to a list \n",
    "# 5. append each corresponding cluster label to its own list (also in same order)\n",
    "# 6. return the data and its correct label\n",
    "\n",
    "data_index_list = np.arange(0, len(track1_darray), 1)\n",
    "rsample = np.random.choice(data_index_list, 500, replace=False)\n",
    " \n",
    "plotting_data = []\n",
    "plotting_data_labels = []\n",
    "\n",
    "for index in rsample:\n",
    "    data = track1_darray[index].compute()\n",
    "    label = hd_labels[index]\n",
    "    plotting_data.append(data)\n",
    "    plotting_data_labels.append(label)\n",
    "    print(label, data)\n"
   ]
  },
  {
   "cell_type": "code",
   "execution_count": null,
   "metadata": {
    "scrolled": true
   },
   "outputs": [],
   "source": [
    "print(plotting_data)\n",
    "print(plotting_data_labels)"
   ]
  },
  {
   "cell_type": "code",
   "execution_count": null,
   "metadata": {},
   "outputs": [],
   "source": [
    "# plotting_data is currently multiple arrays; we need to make it one\n",
    "plotting_data_array = np.array(plotting_data)\n",
    "plotting_data_array"
   ]
  },
  {
   "cell_type": "code",
   "execution_count": null,
   "metadata": {
    "scrolled": true
   },
   "outputs": [],
   "source": [
    "# Now plot the random sample using the vectorizer \n",
    "plt.figure(figsize=(15, 10))\n",
    "plt.scatter(plotting_data_array[:,0], plotting_data_array[:,1], c=vectorizer(plotting_data_labels))"
   ]
  },
  {
   "cell_type": "markdown",
   "metadata": {},
   "source": [
    "Okay, now that we've got our solution for the track 1 dataset, we'll repeat this clustering solution on the track 10 and track 20 datasets. However, it will be a lot faster this time, since we already know (more or less) the best parameters to use."
   ]
  },
  {
   "cell_type": "code",
   "execution_count": null,
   "metadata": {},
   "outputs": [],
   "source": [
    "# we'll just do track10 now\n",
    "\n",
    "# Turn the df into an array\n",
    "track10_array = np.array(Xclusters_track10_dummies.values)"
   ]
  },
  {
   "cell_type": "code",
   "execution_count": null,
   "metadata": {},
   "outputs": [],
   "source": [
    "# Standardize track10\n",
    "scaler = StandardScaler()\n",
    "track10_array_std = scaler.fit_transform(track10_array)"
   ]
  },
  {
   "cell_type": "code",
   "execution_count": null,
   "metadata": {},
   "outputs": [],
   "source": [
    "# Check out the new array\n",
    "track10_array_std"
   ]
  },
  {
   "cell_type": "code",
   "execution_count": null,
   "metadata": {},
   "outputs": [],
   "source": [
    "# Make it a dask array to clusters run faster\n",
    "track10_darray = da.from_array(track10_array_std, chunks=(10000,10000))"
   ]
  },
  {
   "cell_type": "code",
   "execution_count": null,
   "metadata": {},
   "outputs": [],
   "source": [
    "# Alright, let's try with the params that gave us our 11 cluster solution on track1:\n",
    "hd_clusters = hdbscan.HDBSCAN(min_samples=1200, min_cluster_size=1600, metric='manhattan')"
   ]
  },
  {
   "cell_type": "code",
   "execution_count": null,
   "metadata": {},
   "outputs": [],
   "source": [
    "hd_preds = hd_clusters.fit_predict(track10_darray)"
   ]
  },
  {
   "cell_type": "code",
   "execution_count": null,
   "metadata": {},
   "outputs": [],
   "source": [
    "# Cluster labels for track10 manhattan + min_samples 1200 + min_clust_size 1600\n",
    "hd_labels = hd_clusters.labels_\n",
    "print(hd_labels)\n",
    "\n",
    "# How many clusters are there?\n",
    "hd_labels.max()"
   ]
  },
  {
   "cell_type": "markdown",
   "metadata": {},
   "source": [
    "Okay, this gives us 14. Suppose we make it a bit smaller."
   ]
  },
  {
   "cell_type": "code",
   "execution_count": null,
   "metadata": {},
   "outputs": [],
   "source": [
    "hd_clusters = hdbscan.HDBSCAN(min_samples=1250, min_cluster_size=1650, metric='manhattan')"
   ]
  },
  {
   "cell_type": "code",
   "execution_count": null,
   "metadata": {},
   "outputs": [],
   "source": [
    "hd_preds = hd_clusters.fit_predict(track10_darray)"
   ]
  },
  {
   "cell_type": "code",
   "execution_count": null,
   "metadata": {},
   "outputs": [],
   "source": [
    "# Cluster labels for track10 manhattan + min_samples 1250 + min_clust_size 1650\n",
    "hd_labels = hd_clusters.labels_\n",
    "print(hd_labels)\n",
    "\n",
    "# How many clusters are there?\n",
    "hd_labels.max()"
   ]
  },
  {
   "cell_type": "code",
   "execution_count": null,
   "metadata": {},
   "outputs": [],
   "source": [
    "# Continue trying to make fewer clusters\n",
    "hd_clusters = hdbscan.HDBSCAN(min_samples=1350, min_cluster_size=1650, metric='manhattan')"
   ]
  },
  {
   "cell_type": "code",
   "execution_count": null,
   "metadata": {},
   "outputs": [],
   "source": [
    "hd_preds = hd_clusters.fit_predict(track10_darray)"
   ]
  },
  {
   "cell_type": "code",
   "execution_count": null,
   "metadata": {},
   "outputs": [],
   "source": [
    "# Cluster labels for track10 manhattan + min_samples 1350 + min_clust_size 1650\n",
    "hd_labels = hd_clusters.labels_\n",
    "print(hd_labels)\n",
    "\n",
    "# How many clusters are there?\n",
    "hd_labels.max()"
   ]
  },
  {
   "cell_type": "code",
   "execution_count": null,
   "metadata": {},
   "outputs": [],
   "source": [
    "hd_clusters = hdbscan.HDBSCAN(min_samples=1375, min_cluster_size=1675)"
   ]
  },
  {
   "cell_type": "code",
   "execution_count": null,
   "metadata": {},
   "outputs": [],
   "source": [
    "hd_preds = hd_clusters.fit_predict(track10_darray)"
   ]
  },
  {
   "cell_type": "code",
   "execution_count": null,
   "metadata": {},
   "outputs": [],
   "source": [
    "# Cluster labels for track10 manhattan + min_samples 1375 + min_clust_size 1675\n",
    "hd_labels = hd_clusters.labels_\n",
    "print(hd_labels)\n",
    "\n",
    "# How many clusters are there?\n",
    "hd_labels.max()"
   ]
  },
  {
   "cell_type": "code",
   "execution_count": null,
   "metadata": {},
   "outputs": [],
   "source": [
    "hd_clusters = hdbscan.HDBSCAN(min_samples=1300, min_cluster_size=1650)"
   ]
  },
  {
   "cell_type": "code",
   "execution_count": null,
   "metadata": {},
   "outputs": [],
   "source": [
    "hd_preds = hd_clusters.fit_predict(track10_darray)"
   ]
  },
  {
   "cell_type": "code",
   "execution_count": null,
   "metadata": {},
   "outputs": [],
   "source": [
    "# Cluster labels for track10 manhattan + min_samples 1300 + min_clust_size 1650\n",
    "hd_labels = hd_clusters.labels_\n",
    "print(hd_labels)\n",
    "\n",
    "# How many clusters are there?\n",
    "hd_labels.max()"
   ]
  },
  {
   "cell_type": "code",
   "execution_count": null,
   "metadata": {},
   "outputs": [],
   "source": [
    "hd_clusters = hdbscan.HDBSCAN(min_samples=1400, min_cluster_size=1650)"
   ]
  },
  {
   "cell_type": "code",
   "execution_count": null,
   "metadata": {},
   "outputs": [],
   "source": [
    "hd_preds = hd_clusters.fit_predict(track10_darray)"
   ]
  },
  {
   "cell_type": "code",
   "execution_count": null,
   "metadata": {},
   "outputs": [],
   "source": [
    "# Cluster labels for track10 manhattan + min_samples 1400 + min_clust_size 1650\n",
    "hd_labels = hd_clusters.labels_\n",
    "print(hd_labels)\n",
    "\n",
    "# How many clusters are there?\n",
    "hd_labels.max()"
   ]
  },
  {
   "cell_type": "code",
   "execution_count": null,
   "metadata": {},
   "outputs": [],
   "source": [
    "# Cluster labels for track10 manhattan + min_samples 1400 + min_clust_size 1650\n",
    "hd_labels = hd_clusters.labels_\n",
    "print(hd_labels)\n",
    "\n",
    "# How many clusters are there?\n",
    "hd_labels.max()\n",
    "hd_labels.max()"
   ]
  },
  {
   "cell_type": "markdown",
   "metadata": {},
   "source": [
    "Alright, well I guess I am just going to keep this one with the 12 cluster solution, since it reallly did not want to fit into an 11 cluster solution, no matter how I modified the parameters."
   ]
  },
  {
   "cell_type": "code",
   "execution_count": null,
   "metadata": {},
   "outputs": [],
   "source": [
    "# So right now let's make variables for each of the chosen solutions \n",
    "# Here are the final variables for the track1 HDBSCAN solution:\n",
    "\n",
    "track1_hdbscan = hdbscan.HDBSCAN(min_samples=1450, min_cluster_size=1700)\n",
    "track1_preds = track1_hdbscan.fit_predict(track1_darray)\n",
    "track1_hd_labels = track1_hdbscan.labels_\n",
    "\n",
    "# How many clusters are there?\n",
    "track1_hd_labels.max()"
   ]
  },
  {
   "cell_type": "code",
   "execution_count": null,
   "metadata": {},
   "outputs": [],
   "source": [
    "# Here are the final variables for the track10 HDBSCAN solution:\n",
    "\n",
    "track10_hdbscan = hdbscan.HDBSCAN(min_samples=1450, min_cluster_size=1750)\n",
    "track10_preds = track10_hdbscan.fit_predict(track10_darray)\n",
    "track10_hd_labels = track10_hdbscan.labels_\n",
    "\n",
    "# How many clusters are there?\n",
    "track10_hd_labels.max()"
   ]
  },
  {
   "cell_type": "code",
   "execution_count": null,
   "metadata": {},
   "outputs": [],
   "source": [
    "# Okay how about we visualize the track10 clusters\n",
    "\n",
    "plot_clusters(track10_darray, track10_hd_labels, (), {'n_clusters':12}) "
   ]
  },
  {
   "cell_type": "code",
   "execution_count": null,
   "metadata": {},
   "outputs": [],
   "source": [
    "# Make track20 dataset into array\n",
    "track20_array = np.array(Xclusters_track20_dummies.values)"
   ]
  },
  {
   "cell_type": "code",
   "execution_count": null,
   "metadata": {},
   "outputs": [],
   "source": [
    "# Standardize the track20 array\n",
    "scaler = StandardScaler()\n",
    "track20_array_std = scaler.fit_transform(track20_array)"
   ]
  },
  {
   "cell_type": "code",
   "execution_count": null,
   "metadata": {},
   "outputs": [],
   "source": [
    "track20_array_std"
   ]
  },
  {
   "cell_type": "code",
   "execution_count": null,
   "metadata": {},
   "outputs": [],
   "source": [
    "# Make it a dask array to clusters run faster\n",
    "track20_darray = da.from_array(track20_array_std, chunks=(10000,10000))"
   ]
  },
  {
   "cell_type": "code",
   "execution_count": null,
   "metadata": {},
   "outputs": [],
   "source": [
    "# Now let's try with track20\n",
    "\n",
    "track20_hdbscan = hdbscan.HDBSCAN(min_samples=1600, min_cluster_size=1700)\n",
    "track20_preds = track20_hdbscan.fit_predict(track20_darray)\n",
    "track20_hd_labels = track20_hdbscan.labels_\n",
    "\n",
    "#How many clusters are there?\n",
    "track20_hd_labels.max()"
   ]
  },
  {
   "cell_type": "code",
   "execution_count": null,
   "metadata": {},
   "outputs": [],
   "source": [
    "# Okay how about we visualize the track20 clusters\n",
    "\n",
    "plot_clusters(track20_darray, track20_hd_labels, (), {'n_clusters':11}) "
   ]
  },
  {
   "cell_type": "markdown",
   "metadata": {},
   "source": [
    "Okay well the cluster plots all look the same, which was to be expected, since they all contain very similar data.\n",
    "\n",
    "The next thing to do is run a multivariate linear regression so we can look at the coefficients for each of the clusters and determine which are most influential. Then we'll also do some barplots and such and see how the clusters play out across different variables."
   ]
  },
  {
   "cell_type": "code",
   "execution_count": null,
   "metadata": {},
   "outputs": [],
   "source": [
    "# We'll use train test split to divide up dataset just for these cluster regressions\n",
    "\n",
    "# First is the track1 clusters \n",
    "X = track1_darray\n",
    "y = track1_hd_labels\n",
    "\n",
    "X_train, X_test, y_train, y_test = train_test_split(X, y, test_size=.2, random_state=60)"
   ]
  },
  {
   "cell_type": "code",
   "execution_count": null,
   "metadata": {},
   "outputs": [],
   "source": [
    "cluster_clf1 = LogisticRegression(multi_class ='multinomial', solver ='newton-cg')\n",
    "cluster_clf1_fit = cluster_clf.fit(X_train, y_train)"
   ]
  },
  {
   "cell_type": "code",
   "execution_count": null,
   "metadata": {},
   "outputs": [],
   "source": [
    "y_pred = cluster_clf1_fit.predict(X_test)"
   ]
  },
  {
   "cell_type": "code",
   "execution_count": null,
   "metadata": {},
   "outputs": [],
   "source": [
    "# Now a confusion matrix for the track1 clusters' logistic regression\n",
    "cm1 = confusion_matrix(y_test, y_pred)\n",
    "print(cm1)"
   ]
  },
  {
   "cell_type": "code",
   "execution_count": null,
   "metadata": {},
   "outputs": [],
   "source": [
    "print(cluster_clf1_fit.coef_)\n",
    "print(cluster_clf1_fit.classes_)"
   ]
  },
  {
   "cell_type": "code",
   "execution_count": 822,
   "metadata": {},
   "outputs": [],
   "source": [
    "#Okay, actually I think I want to do this regression with the df, not the array\n",
    "\n",
    "# First is the track1 clusters - we need to standardize the df first\n",
    "\n",
    "scaler = StandardScaler()\n",
    "X1 = scaler.fit_transform(Xclusters_track1_dummies)\n",
    "y1 = track1_hd_labels\n",
    "\n",
    "X1_train, X1_test, y1_train, y1_test = train_test_split(X1, y1, test_size=.2, random_state=60)"
   ]
  },
  {
   "cell_type": "code",
   "execution_count": 823,
   "metadata": {},
   "outputs": [],
   "source": [
    "cluster_clf1 = LogisticRegression(multi_class ='multinomial', solver ='newton-cg')\n",
    "cluster_clf1_fit = cluster_clf1.fit(X1_train, y1_train)"
   ]
  },
  {
   "cell_type": "code",
   "execution_count": 824,
   "metadata": {},
   "outputs": [],
   "source": [
    "y1_pred = cluster_clf1_fit.predict(X1_test)"
   ]
  },
  {
   "cell_type": "code",
   "execution_count": 825,
   "metadata": {},
   "outputs": [
    {
     "name": "stdout",
     "output_type": "stream",
     "text": [
      "[[7281   24    6    6   60  144  180    0    0    0    0    1    0]\n",
      " [  30  688    0    0    0    0    0    0    0    0    0    0    0]\n",
      " [   0    0  589    0    0    0    0    0    0    0    0    0    0]\n",
      " [   0    0    0 1024    0    0    0    0    0    0    0    0    0]\n",
      " [  20    0    0    0 1210    0    0    0    0    0    0    0    0]\n",
      " [   8    0    0    0    0  999    0    0    0    0    0    0    0]\n",
      " [  64    0    0    0    0    0 1187    0    0    0    0    0    0]\n",
      " [   4    0    0    0    0    0    0  860    0    0    0    0    0]\n",
      " [   0    0    0    0    0    0    0    0  732    0    0    0    0]\n",
      " [   2    0    0    0    0    0    0    0    0  487    0    0    0]\n",
      " [   0    0    0    0    0    0    0    0    0    0 1251    0    0]\n",
      " [   6    0    0    0    0    0    0    0    0    0    0  634    0]\n",
      " [   0    0    0    0    0    0    0    0    0    0    0    0  438]]\n"
     ]
    }
   ],
   "source": [
    "# Now a confusion matrix for the track1 clusters' logistic regression\n",
    "cm1 = confusion_matrix(y1_test, y1_pred)\n",
    "print(cm1)"
   ]
  },
  {
   "cell_type": "code",
   "execution_count": 752,
   "metadata": {},
   "outputs": [],
   "source": [
    "# Check loss function for track1\n",
    "# log_loss(X_test, y_pred)"
   ]
  },
  {
   "cell_type": "code",
   "execution_count": 826,
   "metadata": {
    "scrolled": true
   },
   "outputs": [
    {
     "name": "stdout",
     "output_type": "stream",
     "text": [
      "[[-1.88336859e+00  1.82063773e+00  5.21517175e-01 -1.70521913e+00\n",
      "   1.40973889e+00  1.10128542e+00 -5.34213526e-08 -8.16604353e-08\n",
      "   1.85997396e-07  1.75659156e-07  4.88381480e-02  3.11384177e-01\n",
      "  -2.96000063e-01  6.39938147e-03 -8.16604353e-08 -8.16604358e-08\n",
      "  -2.67484995e+00  4.27468365e+00  1.87423574e+00 -1.18817088e+00\n",
      "   1.07651579e+00  5.69494967e-01 -1.27214354e-01  1.39169103e+00\n",
      "  -4.28726520e+00  2.69735508e-03  1.60243980e+00  1.29637345e+00\n",
      "   1.69231829e+00  1.86322777e+00 -3.11109579e+00  5.11663334e-01\n",
      "   3.16567029e-01 -3.67531828e-01  2.39752745e-01  3.50437825e-01\n",
      "   9.48400689e-01  3.36975618e-02  4.22184202e-01 -8.30653496e-01\n",
      "   2.21432707e-01 -4.29441843e-01]\n",
      " [-5.98957951e-01  6.19007070e-01 -1.01372333e-01 -3.80409963e+00\n",
      "   3.99266348e+00 -3.04092975e-03  6.26271097e-09  7.54225368e-09\n",
      "   6.79446353e-09  8.83371788e-09  1.30565666e-08  5.05342332e-08\n",
      "   9.93738653e-04 -6.39917267e-03  7.54225368e-09  7.54225371e-09\n",
      "  -8.91087033e-01 -2.45506898e-02  1.31335219e+00 -1.35407580e-01\n",
      "  -1.98883626e+00 -1.46143425e+00 -1.61194367e-08 -4.98363545e-01\n",
      "  -1.68629273e+00  1.15244711e+00 -3.07767001e-02  7.55310550e-01\n",
      "  -2.45488000e-02 -9.73110217e-01 -9.34378765e-01  2.57737837e+00\n",
      "  -2.55892890e+00 -1.15102081e-01 -5.95152311e-02 -5.73431668e-01\n",
      "  -7.83914758e-02 -7.26952510e-06 -1.66788924e-01  7.92899080e-02\n",
      "  -3.72069669e-03 -7.19923797e-01]\n",
      " [ 1.79754264e+00 -1.78417079e+00 -1.87089823e-01  1.46493422e+00\n",
      "  -1.48523734e+00 -1.50619677e-01  4.46165044e-09  6.62751708e-09\n",
      "   4.04135207e-09  7.39757533e-09  1.35817059e-08 -1.20721496e-01\n",
      "   1.09278906e-01  9.06000852e-09  6.62751708e-09  6.62751709e-09\n",
      "  -6.72024666e-03 -1.73012511e+00  9.47926476e-01  2.12868349e-01\n",
      "   2.61469113e+00  1.16034629e+00  1.20176166e-01 -1.12466053e+00\n",
      "  -6.50408641e-01  3.90165322e-01 -5.56133152e-01  2.93025974e-01\n",
      "  -6.79807542e-01 -1.50141041e+00  7.38179827e-01 -6.59751285e-03\n",
      "   5.90816917e+00 -9.98736823e-01  4.30749069e-08 -2.27688504e-01\n",
      "  -5.95774849e-04  2.28089970e-09 -7.89522354e-04 -1.65425968e+00\n",
      "  -1.87178460e-05  1.17480831e+00]\n",
      " [-5.37722928e+00  5.43867534e+00 -1.18085331e-01  1.72020970e+00\n",
      "  -1.77871533e+00 -7.62813845e-02 -1.52230478e-08 -1.55168123e-08\n",
      "  -1.59698145e-08 -2.10716817e-08 -3.94168926e-08 -4.86877511e-02\n",
      "   4.40729115e-02 -2.66428209e-08 -1.55168123e-08 -1.55168123e-08\n",
      "   1.37699491e+00 -1.47178723e+00  4.56910698e-01 -1.00947845e+00\n",
      "  -1.87123345e+00  1.81528183e-01  4.09119915e-08 -2.79772442e-01\n",
      "   2.97234963e+00  2.42348060e-01 -8.55919033e-01  5.35583959e-01\n",
      "  -8.58069705e-01 -2.14135184e+00  1.21389596e+00  8.31585756e+00\n",
      "  -4.28499347e-01 -2.34791238e+00 -5.21582273e-02 -1.48401306e+00\n",
      "  -7.83512716e-05 -2.38718023e-08 -5.65233778e-02 -2.10220054e+00\n",
      "  -1.33923807e-06  6.88137770e+00]\n",
      " [ 7.39012096e-01 -7.42185249e-01 -1.89898602e-02  4.71617314e-01\n",
      "  -4.94686144e-01 -5.18377182e-04  9.37121932e-09  7.60619649e-09\n",
      "   7.10146561e-09  9.93057054e-09  1.71723069e-08  5.44825376e-08\n",
      "  -6.18095065e-08  1.29754112e-08  7.60619649e-09  7.60619653e-09\n",
      "   1.65169594e-01 -2.00794611e-02  5.73209473e-01 -6.48751873e-01\n",
      "   2.99047785e+00  4.77776600e-01  2.48122560e-07 -1.43984062e+00\n",
      "  -9.26304549e-01 -1.23009421e+00 -1.19830834e-05 -2.61056889e-02\n",
      "  -5.01184882e-06  6.78415776e+00 -3.49100677e+00 -1.92008023e+00\n",
      "  -1.63908538e+00 -1.90939194e+00 -4.20815144e-02  2.56560532e+00\n",
      "  -2.04263401e-01 -2.76918316e-07 -5.73665153e-06  1.57160865e+00\n",
      "  -3.99459248e-07 -1.49698648e+00]\n",
      " [ 6.50350907e-02 -6.54234250e-02 -9.42358680e-04  6.07744227e-02\n",
      "  -6.34254123e-02 -1.00040659e-03  1.14715562e-08  1.40014331e-08\n",
      "   1.26862201e-08  1.66206285e-08 -3.72964854e-08 -2.05376927e-05\n",
      "   1.86362142e-05 -2.89763736e-07  1.40014331e-08  1.40014333e-08\n",
      "  -3.15623578e+00 -2.71661975e-07  6.12045556e+00 -1.76757565e+00\n",
      "   1.62727373e+00 -1.13732678e+00 -2.66460457e-08  3.16539593e-01\n",
      "   6.08137914e-01  2.89853784e-01 -7.38543909e-04  8.44482339e-01\n",
      "  -1.02822771e-03 -6.97174664e-01 -4.65828431e-01 -1.09556267e+00\n",
      "  -8.61079409e-01  5.35453081e-01 -6.20472265e-06  1.28606943e+00\n",
      "  -1.31558303e-01 -9.45920147e-07 -2.71025161e-04 -5.78185071e-01\n",
      "  -3.36532570e-02 -1.08918304e+00]\n",
      " [ 6.02422008e-02 -6.06796984e-02 -3.53257634e-04  2.24169838e-02\n",
      "  -2.35029560e-02 -5.52198181e-05  4.05802076e-09  4.08010013e-09\n",
      "   2.90542820e-09  3.27739423e-09 -3.76848707e-09 -1.13823591e-06\n",
      "   1.02734215e-06  9.02730987e-09  4.08010013e-09  4.08010017e-09\n",
      "   1.26804130e-01 -2.13171943e-05 -6.10196023e-01  3.78005404e-01\n",
      "   2.26194433e+00 -4.14185849e-01  6.39759694e-08  4.74193370e-01\n",
      "   3.56807872e-01 -9.20934302e-01 -7.66419330e-06  5.05845384e+00\n",
      "  -5.22221076e-06 -2.65391446e-03 -3.32356106e+00 -1.84643997e+00\n",
      "  -6.21279291e-01  1.87485377e-01 -3.30888348e-02  1.18523225e+00\n",
      "  -1.08412348e-01 -1.00856806e-05 -5.43968861e-02  3.18315637e-01\n",
      "  -4.95162186e-02 -5.59250132e-01]\n",
      " [ 1.49385187e+00 -1.49614027e+00 -6.59507453e-02  8.56642590e-01\n",
      "  -7.34756718e-01 -4.76199221e-01 -1.13837617e-09  6.89579709e-09\n",
      "   4.29045358e-09  6.41141921e-09 -3.46803427e-02 -8.83355806e-02\n",
      "   8.92910777e-02  1.02518942e-08  6.89579709e-09  6.89579710e-09\n",
      "   2.04548872e+00 -6.09181768e-01 -2.46524119e+00  2.34120815e-01\n",
      "  -2.23010184e+00 -1.99715063e+00  1.66706280e-03 -1.62761860e+00\n",
      "   2.44282225e+00 -9.00897679e-01 -9.88125562e-02 -2.50548407e+00\n",
      "  -7.65184680e-02 -1.72820748e+00  4.01688476e+00 -1.95871960e+00\n",
      "  -6.92045679e-03  6.29910683e+00 -3.83569777e-07 -4.48895632e+00\n",
      "  -2.34357435e-01 -4.32700914e-06 -1.58483126e-06 -2.03419943e-01\n",
      "  -1.07453147e-02 -3.07041336e+00]\n",
      " [ 7.65956472e-01 -7.67906875e-01 -2.86241648e-02  1.43975325e-01\n",
      "  -1.21901311e-01 -8.46444619e-02  7.65555441e-09  1.21773593e-08\n",
      "   1.18572473e-08  1.50940734e-08 -2.24558957e-04 -2.23747538e-05\n",
      "   8.06449762e-05  1.79938402e-08  1.21773593e-08  1.21773593e-08\n",
      "   9.32828016e-01 -7.87463026e-03 -1.85815253e+00  5.68478035e-01\n",
      "  -4.02579283e+00 -1.67748169e+00 -1.09575449e-09 -6.21754496e-01\n",
      "   1.38769247e+00  3.90592991e+00 -6.22224619e-03 -1.39363262e+00\n",
      "  -4.35592819e-03 -9.02848824e-01 -1.60588257e+00 -1.16360629e+00\n",
      "  -6.16118787e-02  4.47810841e+00 -2.59523841e-02 -2.44815146e+00\n",
      "  -3.29548393e-02 -1.66364735e-02 -6.84202413e-02 -1.06401192e+00\n",
      "  -1.99627595e-02 -9.07746556e-01]\n",
      " [ 7.68223308e-01 -7.74475886e-01 -5.26804005e-06  5.48857548e-02\n",
      "  -4.23668618e-02 -4.41760471e-02  6.20943709e-09  7.72590861e-09\n",
      "   4.80237334e-09 -2.48901060e-07 -4.41374607e-05 -1.48834728e-04\n",
      "   1.46633155e-04  8.75693867e-09  7.72590861e-09  7.72590862e-09\n",
      "   1.67361143e+00 -1.73133246e-03 -1.58636175e+00 -4.59721781e-01\n",
      "  -2.39126863e+00 -3.46724112e+00  5.68235685e-07 -2.25623729e+00\n",
      "   2.10727096e+00  3.04324799e+00 -3.63718994e-02 -1.61457705e+00\n",
      "  -3.38411563e-02 -1.62116772e-01 -1.17044921e+00 -1.25055961e+00\n",
      "  -4.31576648e-02 -1.53810512e-01 -2.69502308e-02 -2.66622872e+00\n",
      "  -4.44586341e-02 -1.70381758e-02 -7.48399935e-02  3.84647688e+00\n",
      "  -2.12400296e-02 -3.70677276e-01]\n",
      " [ 1.42394222e+00 -1.43553212e+00 -7.02404514e-06  4.25753739e-01\n",
      "  -3.55519099e-01 -2.64693774e-01  9.50083630e-09  1.39076701e-08\n",
      "  -2.26465320e-07  8.69708337e-09 -1.38891062e-02 -4.91823566e-02\n",
      "   4.82565431e-02  1.85456362e-08  1.39076701e-08  1.39076701e-08\n",
      "   6.48301564e-01 -4.08650765e-01 -2.80040096e+00  1.90071822e+00\n",
      "  -5.05126522e+00 -2.71006507e+00  9.70779076e-05 -1.74548415e+00\n",
      "   4.90357835e-01 -2.15757343e+00 -1.70128997e-02 -1.73722632e+00\n",
      "  -1.39202503e-02 -5.38449128e-01  3.63378038e+00 -1.34933776e+00\n",
      "  -4.14226156e-03 -6.55058540e-01  9.88462283e-08 -3.65186677e+00\n",
      "  -7.88413128e-02 -6.40342556e-09  2.04013665e-07  5.40448799e+00\n",
      "  -4.62070739e-02 -6.34835652e-01]\n",
      " [ 4.14774048e-01 -4.18150335e-01  6.67623570e-08  5.52128312e-02\n",
      "  -5.79151065e-02 -5.61072007e-05  6.67715655e-09  8.55291372e-09\n",
      "  -3.00479525e-09  9.23097008e-09  1.74631433e-08 -2.26897591e-03\n",
      "   2.05390000e-03  1.15248229e-08  8.55291372e-09  8.55291371e-09\n",
      "   1.83824594e+00 -2.53925915e-04 -9.09462286e-01 -1.20778819e+00\n",
      "   2.65081561e+00  6.01081180e+00  5.27203346e-03  3.12924163e+00\n",
      "  -1.50564766e+00 -1.90600383e+00 -2.36726716e-04 -5.79197772e-01\n",
      "  -1.28229419e-04 -5.25469765e-05  2.10605560e+00 -4.19403042e-01\n",
      "  -6.64587007e-06 -2.46633836e+00  6.65344266e-08  5.03709961e+00\n",
      "  -1.41092186e-02  1.02563177e-08 -1.47129792e-04 -2.35511044e+00\n",
      "  -1.66260602e-02  6.35841265e-01]\n",
      " [ 3.30975873e-01 -3.33655499e-01 -9.70763469e-05  2.32895880e-01\n",
      "  -2.44376102e-01  1.81558374e-07  4.11327451e-09  8.06010228e-09\n",
      "   4.96435941e-09  8.81917250e-09  1.64849677e-08 -1.99523556e-03\n",
      "   1.80610633e-03  9.46515888e-09  8.06010228e-09  8.06010228e-09\n",
      "  -2.07855130e+00 -4.27150589e-04 -1.05627542e+00  3.12270358e+00\n",
      "   4.33677979e+00  4.46492756e+00  1.13698206e-06  4.28206605e+00\n",
      "  -1.30952017e+00 -1.91118609e+00 -1.96392114e-04 -9.27006595e-01\n",
      "  -8.97489559e-05 -9.74566575e-06  2.39340606e+00 -3.94592576e-01\n",
      "  -2.49705795e-05 -2.48627123e+00  5.77492455e-08  5.11589206e+00\n",
      "  -2.03795950e-02  1.01929889e-08  1.55669182e-08 -2.43233797e+00\n",
      "  -1.97408406e-02  5.86430873e-01]]\n",
      "[-1  0  1  2  3  4  5  6  7  8  9 10 11]\n"
     ]
    }
   ],
   "source": [
    "# Look at coefficients for each cluster class. The cluster classes themselves are also shown at the bottom\n",
    "print(cluster_clf1_fit.coef_)\n",
    "print(cluster_clf1_fit.classes_)"
   ]
  },
  {
   "cell_type": "code",
   "execution_count": 827,
   "metadata": {
    "scrolled": true
   },
   "outputs": [
    {
     "name": "stdout",
     "output_type": "stream",
     "text": [
      "For cluster -1: \n",
      "    no_seekfwd = -1.883368594611479\n",
      "    seekfwd_1to2 = 1.820637731109978\n",
      "    seekfwd_3+ = 0.5215171751326356\n",
      "    no_seekback = -1.7052191261259755\n",
      "    seekback_1to2 = 1.4097388925315477\n",
      "    seekback_3+ = 1.1012854249493866\n",
      "    jan = -5.342135256998413e-08\n",
      "    feb = -8.166043531598256e-08\n",
      "    march = 1.8599739618378646e-07\n",
      "    april = 1.756591556720329e-07\n",
      "    may = 0.04883814804667897\n",
      "    june = 0.3113841766024214\n",
      "    july = -0.2960000627185701\n",
      "    aug = 0.006399381473804537\n",
      "    sept = -8.166043531598256e-08\n",
      "    nov = -8.166043577111878e-08\n",
      "    afternoon = -2.6748499458001564\n",
      "    early_morn = 4.274683651433285\n",
      "    morning = 1.8742357432931056\n",
      "    night = -1.1881708804585434\n",
      "    skip_v_soon = 1.0765157907600862\n",
      "    skip_fairly_soon = 0.5694949672127005\n",
      "    paused_before_play = -0.12721435446938606\n",
      "    on_shuffle = 1.3916910334984784\n",
      "    premium = -4.287265195858187\n",
      "    context_catalog = 0.002697355082030879\n",
      "    context_charts = 1.6024397965617736\n",
      "    context_editorial_playlist = 1.296373452359137\n",
      "    context_personal_playlist = 1.6923182900509428\n",
      "    context_radio = 1.8632277700021556\n",
      "    context_user_collec = -3.111095787167533\n",
      "    appload = 0.5116633344297542\n",
      "    start_backbutton = 0.3165670293773066\n",
      "    start_clickrow = -0.3675318278567337\n",
      "    start_endplay = 0.23975274462681168\n",
      "    start_fwdbutton = 0.3504378249002727\n",
      "    start_playbutton = 0.9484006891745176\n",
      "    popup = 0.0336975618494546\n",
      "    start_remote = 0.4221842022989917\n",
      "    start_trackdone = -0.8306534960678834\n",
      "    start_uriopen = 0.22143270742809965\n",
      "    skipped = -0.4294418426627183\n",
      "For cluster 0: \n",
      "    no_seekfwd = -0.59895795071779\n",
      "    seekfwd_1to2 = 0.6190070700963206\n",
      "    seekfwd_3+ = -0.10137233265905615\n",
      "    no_seekback = -3.8040996339328217\n",
      "    seekback_1to2 = 3.9926634830353347\n",
      "    seekback_3+ = -0.0030409297521727823\n",
      "    jan = 6.262710969412048e-09\n",
      "    feb = 7.542253676873508e-09\n",
      "    march = 6.7944635326175844e-09\n",
      "    april = 8.833717881895568e-09\n",
      "    may = 1.3056566622867507e-08\n",
      "    june = 5.05342331989396e-08\n",
      "    july = 0.0009937386533675843\n",
      "    aug = -0.006399172667832896\n",
      "    sept = 7.542253676873508e-09\n",
      "    nov = 7.542253713153967e-09\n",
      "    afternoon = -0.8910870326601388\n",
      "    early_morn = -0.02455068984020046\n",
      "    morning = 1.31335219354796\n",
      "    night = -0.1354075804678367\n",
      "    skip_v_soon = -1.9888362587956325\n",
      "    skip_fairly_soon = -1.4614342524934927\n",
      "    paused_before_play = -1.611943665373237e-08\n",
      "    on_shuffle = -0.49836354537432004\n",
      "    premium = -1.6862927259809148\n",
      "    context_catalog = 1.1524471115187334\n",
      "    context_charts = -0.030776700061479718\n",
      "    context_editorial_playlist = 0.7553105495018988\n",
      "    context_personal_playlist = -0.02454880000633269\n",
      "    context_radio = -0.9731102174530314\n",
      "    context_user_collec = -0.934378764866423\n",
      "    appload = 2.577378365986487\n",
      "    start_backbutton = -2.5589289027368123\n",
      "    start_clickrow = -0.11510208130830518\n",
      "    start_endplay = -0.05951523110473549\n",
      "    start_fwdbutton = -0.5734316680110548\n",
      "    start_playbutton = -0.07839147584467387\n",
      "    popup = -7.269525097510161e-06\n",
      "    start_remote = -0.16678892442338866\n",
      "    start_trackdone = 0.07928990795279937\n",
      "    start_uriopen = -0.0037206966944706163\n",
      "    skipped = -0.7199237971883233\n",
      "For cluster 1: \n",
      "    no_seekfwd = 1.7975426369653316\n",
      "    seekfwd_1to2 = -1.7841707874805532\n",
      "    seekfwd_3+ = -0.18708982332943633\n",
      "    no_seekback = 1.4649342176504307\n",
      "    seekback_1to2 = -1.4852373350807009\n",
      "    seekback_3+ = -0.1506196767633789\n",
      "    jan = 4.461650442606083e-09\n",
      "    feb = 6.627517083498251e-09\n",
      "    march = 4.041352066256531e-09\n",
      "    april = 7.397575328485542e-09\n",
      "    may = 1.3581705879868018e-08\n",
      "    june = -0.12072149634450292\n",
      "    july = 0.10927890564280476\n",
      "    aug = 9.060008518041458e-09\n",
      "    sept = 6.627517083498251e-09\n",
      "    nov = 6.627517087324683e-09\n",
      "    afternoon = -0.006720246664237188\n",
      "    early_morn = -1.7301251131089899\n",
      "    morning = 0.9479264759830015\n",
      "    night = 0.21286834856749978\n",
      "    skip_v_soon = 2.614691134948267\n",
      "    skip_fairly_soon = 1.1603462868582122\n",
      "    paused_before_play = 0.12017616593394098\n",
      "    on_shuffle = -1.1246605332025628\n",
      "    premium = -0.6504086405004161\n",
      "    context_catalog = 0.39016532179632696\n",
      "    context_charts = -0.5561331523556794\n",
      "    context_editorial_playlist = 0.2930259742256885\n",
      "    context_personal_playlist = -0.679807541909373\n",
      "    context_radio = -1.5014104051287753\n",
      "    context_user_collec = 0.738179827408308\n",
      "    appload = -0.006597512853230096\n",
      "    start_backbutton = 5.908169174439731\n",
      "    start_clickrow = -0.998736822823158\n",
      "    start_endplay = 4.307490687453257e-08\n",
      "    start_fwdbutton = -0.22768850428433798\n",
      "    start_playbutton = -0.0005957748488876828\n",
      "    popup = 2.280899697070075e-09\n",
      "    start_remote = -0.0007895223544251036\n",
      "    start_trackdone = -1.6542596805982557\n",
      "    start_uriopen = -1.8717846036766256e-05\n",
      "    skipped = 1.1748083065276105\n",
      "For cluster 2: \n",
      "    no_seekfwd = -5.3772292775124875\n",
      "    seekfwd_1to2 = 5.4386753367262894\n",
      "    seekfwd_3+ = -0.11808533088004285\n",
      "    no_seekback = 1.7202097017706572\n",
      "    seekback_1to2 = -1.7787153286638775\n",
      "    seekback_3+ = -0.07628138454296188\n",
      "    jan = -1.522304781143926e-08\n",
      "    feb = -1.5516812301507187e-08\n",
      "    march = -1.5969814516660005e-08\n",
      "    april = -2.1071681721705343e-08\n",
      "    may = -3.9416892633523384e-08\n",
      "    june = -0.048687751124126835\n",
      "    july = 0.04407291146459814\n",
      "    aug = -2.6642820905532925e-08\n",
      "    sept = -1.5516812301507187e-08\n",
      "    nov = -1.5516812297433077e-08\n",
      "    afternoon = 1.3769949125035192\n",
      "    early_morn = -1.4717872263124803\n",
      "    morning = 0.456910698183556\n",
      "    night = -1.0094784517041626\n",
      "    skip_v_soon = -1.871233449354498\n",
      "    skip_fairly_soon = 0.1815281827540924\n",
      "    paused_before_play = 4.091199147458206e-08\n",
      "    on_shuffle = -0.2797724423400622\n",
      "    premium = 2.9723496344878435\n",
      "    context_catalog = 0.24234806045360383\n",
      "    context_charts = -0.8559190325418526\n",
      "    context_editorial_playlist = 0.5355839586470718\n",
      "    context_personal_playlist = -0.8580697052329327\n",
      "    context_radio = -2.1413518421165856\n",
      "    context_user_collec = 1.2138959572156183\n",
      "    appload = 8.315857555040559\n",
      "    start_backbutton = -0.4284993472226768\n",
      "    start_clickrow = -2.3479123778684867\n",
      "    start_endplay = -0.052158227274635816\n",
      "    start_fwdbutton = -1.48401306158391\n",
      "    start_playbutton = -7.835127155914226e-05\n",
      "    popup = -2.3871802342164213e-08\n",
      "    start_remote = -0.056523377773009274\n",
      "    start_trackdone = -2.1022005428751185\n",
      "    start_uriopen = -1.3392380695916834e-06\n",
      "    skipped = 6.881377696653872\n",
      "For cluster 3: \n",
      "    no_seekfwd = 0.7390120964265676\n",
      "    seekfwd_1to2 = -0.742185249270671\n",
      "    seekfwd_3+ = -0.018989860175705503\n",
      "    no_seekback = 0.4716173143515598\n",
      "    seekback_1to2 = -0.4946861443858104\n",
      "    seekback_3+ = -0.0005183771816716616\n",
      "    jan = 9.37121931686439e-09\n",
      "    feb = 7.606196494548824e-09\n",
      "    march = 7.101465605624446e-09\n",
      "    april = 9.930570538743415e-09\n",
      "    may = 1.717230693572399e-08\n",
      "    june = 5.4482537634643076e-08\n",
      "    july = -6.180950648253625e-08\n",
      "    aug = 1.2975411239703254e-08\n",
      "    sept = 7.606196494548824e-09\n",
      "    nov = 7.606196525716337e-09\n",
      "    afternoon = 0.16516959401519568\n",
      "    early_morn = -0.020079461081591494\n",
      "    morning = 0.5732094731710893\n",
      "    night = -0.648751872860652\n",
      "    skip_v_soon = 2.990477853198162\n",
      "    skip_fairly_soon = 0.4777766002962534\n",
      "    paused_before_play = 2.4812256007727894e-07\n",
      "    on_shuffle = -1.4398406158225436\n",
      "    premium = -0.9263045492715223\n",
      "    context_catalog = -1.2300942128014878\n",
      "    context_charts = -1.1983083433913526e-05\n",
      "    context_editorial_playlist = -0.026105688907616144\n",
      "    context_personal_playlist = -5.011848819077732e-06\n",
      "    context_radio = 6.784157764711629\n",
      "    context_user_collec = -3.491006767169699\n",
      "    appload = -1.9200802276431561\n",
      "    start_backbutton = -1.6390853755959427\n",
      "    start_clickrow = -1.9093919427799593\n",
      "    start_endplay = -0.04208151442055108\n",
      "    start_fwdbutton = 2.5656053228232\n",
      "    start_playbutton = -0.20426340092080483\n",
      "    popup = -2.7691831558669345e-07\n",
      "    start_remote = -5.736651528749416e-06\n",
      "    start_trackdone = 1.5716086461938996\n",
      "    start_uriopen = -3.994592480262497e-07\n",
      "    skipped = -1.4969864792326835\n",
      "For cluster 4: \n",
      "    no_seekfwd = 0.0650350906771309\n",
      "    seekfwd_1to2 = -0.06542342498174393\n",
      "    seekfwd_3+ = -0.0009423586800863917\n",
      "    no_seekback = 0.0607744226633212\n",
      "    seekback_1to2 = -0.06342541229025493\n",
      "    seekback_3+ = -0.0010004065899265864\n",
      "    jan = 1.1471556228411675e-08\n",
      "    feb = 1.4001433093638715e-08\n",
      "    march = 1.268622012001037e-08\n",
      "    april = 1.6620628508578567e-08\n",
      "    may = -3.7296485350798144e-08\n",
      "    june = -2.053769268482695e-05\n",
      "    july = 1.8636214164179788e-05\n",
      "    aug = -2.897637358583615e-07\n",
      "    sept = 1.4001433093638715e-08\n",
      "    nov = 1.4001433259904268e-08\n",
      "    afternoon = -3.1562357774324656\n",
      "    early_morn = -2.7166197531298725e-07\n",
      "    morning = 6.120455562962183\n",
      "    night = -1.7675756525755038\n",
      "    skip_v_soon = 1.627273727658985\n",
      "    skip_fairly_soon = -1.1373267799442492\n",
      "    paused_before_play = -2.6646045702314553e-08\n",
      "    on_shuffle = 0.31653959305473073\n",
      "    premium = 0.6081379141302229\n",
      "    context_catalog = 0.28985378381069826\n",
      "    context_charts = -0.0007385439092627794\n",
      "    context_editorial_playlist = 0.8444823387580339\n",
      "    context_personal_playlist = -0.0010282277113158468\n",
      "    context_radio = -0.6971746635162313\n",
      "    context_user_collec = -0.46582843070717384\n",
      "    appload = -1.0955626736347317\n"
     ]
    },
    {
     "name": "stdout",
     "output_type": "stream",
     "text": [
      "    start_backbutton = -0.8610794088239095\n",
      "    start_clickrow = 0.5354530808351617\n",
      "    start_endplay = -6.2047226451632766e-06\n",
      "    start_fwdbutton = 1.2860694287416286\n",
      "    start_playbutton = -0.13155830277131408\n",
      "    popup = -9.459201474474046e-07\n",
      "    start_remote = -0.0002710251611446685\n",
      "    start_trackdone = -0.5781850705405729\n",
      "    start_uriopen = -0.033653256992699034\n",
      "    skipped = -1.0891830448714037\n",
      "For cluster 5: \n",
      "    no_seekfwd = 0.06024220081779903\n",
      "    seekfwd_1to2 = -0.060679698437915\n",
      "    seekfwd_3+ = -0.0003532576340789105\n",
      "    no_seekback = 0.022416983794567604\n",
      "    seekback_1to2 = -0.02350295596780136\n",
      "    seekback_3+ = -5.521981805181894e-05\n",
      "    jan = 4.058020755422366e-09\n",
      "    feb = 4.0801001349650515e-09\n",
      "    march = 2.9054282004203263e-09\n",
      "    april = 3.2773942270354124e-09\n",
      "    may = -3.76848706940546e-09\n",
      "    june = -1.138235910692874e-06\n",
      "    july = 1.0273421525942734e-06\n",
      "    aug = 9.027309868990266e-09\n",
      "    sept = 4.0801001349650515e-09\n",
      "    nov = 4.0801001686833155e-09\n",
      "    afternoon = 0.12680413018017925\n",
      "    early_morn = -2.1317194331887834e-05\n",
      "    morning = -0.6101960226013015\n",
      "    night = 0.37800540448162634\n",
      "    skip_v_soon = 2.2619443258371206\n",
      "    skip_fairly_soon = -0.4141858490705684\n",
      "    paused_before_play = 6.397596941894124e-08\n",
      "    on_shuffle = 0.4741933697429877\n",
      "    premium = 0.3568078716077582\n",
      "    context_catalog = -0.9209343017552053\n",
      "    context_charts = -7.664193302141798e-06\n",
      "    context_editorial_playlist = 5.05845384413869\n",
      "    context_personal_playlist = -5.222210755878017e-06\n",
      "    context_radio = -0.0026539144563680088\n",
      "    context_user_collec = -3.323561061517099\n",
      "    appload = -1.8464399682361534\n",
      "    start_backbutton = -0.621279291130864\n",
      "    start_clickrow = 0.1874853770586767\n",
      "    start_endplay = -0.03308883480565841\n",
      "    start_fwdbutton = 1.1852322529064905\n",
      "    start_playbutton = -0.10841234825384423\n",
      "    popup = -1.0085680624493014e-05\n",
      "    start_remote = -0.05439688607736845\n",
      "    start_trackdone = 0.31831563706618987\n",
      "    start_uriopen = -0.04951621859462114\n",
      "    skipped = -0.5592501322638135\n",
      "For cluster 6: \n",
      "    no_seekfwd = 1.4938518722831946\n",
      "    seekfwd_1to2 = -1.4961402664886931\n",
      "    seekfwd_3+ = -0.06595074529258922\n",
      "    no_seekback = 0.8566425897670011\n",
      "    seekback_1to2 = -0.7347567181360279\n",
      "    seekback_3+ = -0.4761992214258077\n",
      "    jan = -1.1383761685726139e-09\n",
      "    feb = 6.895797088714276e-09\n",
      "    march = 4.290453582555422e-09\n",
      "    april = 6.411419212194063e-09\n",
      "    may = -0.03468034266606497\n",
      "    june = -0.08833558064879153\n",
      "    july = 0.08929107765844331\n",
      "    aug = 1.0251894194282019e-08\n",
      "    sept = 6.895797088714276e-09\n",
      "    nov = 6.895797102613107e-09\n",
      "    afternoon = 2.04548871878909\n",
      "    early_morn = -0.6091817677819353\n",
      "    morning = -2.4652411946357695\n",
      "    night = 0.23412081538930193\n",
      "    skip_v_soon = -2.230101840188042\n",
      "    skip_fairly_soon = -1.9971506294426715\n",
      "    paused_before_play = 0.0016670628016976449\n",
      "    on_shuffle = -1.6276186022914192\n",
      "    premium = 2.4428222538481688\n",
      "    context_catalog = -0.9008976785735777\n",
      "    context_charts = -0.09881255624586345\n",
      "    context_editorial_playlist = -2.5054840716762294\n",
      "    context_personal_playlist = -0.0765184679975012\n",
      "    context_radio = -1.7282074753285281\n",
      "    context_user_collec = 4.016884763982387\n",
      "    appload = -1.9587195989072963\n",
      "    start_backbutton = -0.0069204567880168065\n",
      "    start_clickrow = 6.299106826995431\n",
      "    start_endplay = -3.835697769329239e-07\n",
      "    start_fwdbutton = -4.4889563157622705\n",
      "    start_playbutton = -0.2343574353185915\n",
      "    popup = -4.327009140030001e-06\n",
      "    start_remote = -1.5848312604346926e-06\n",
      "    start_trackdone = -0.20341994263307964\n",
      "    start_uriopen = -0.010745314677600376\n",
      "    skipped = -3.070413361005723\n",
      "For cluster 7: \n",
      "    no_seekfwd = 0.7659564721345908\n",
      "    seekfwd_1to2 = -0.7679068745290445\n",
      "    seekfwd_3+ = -0.028624164811521573\n",
      "    no_seekback = 0.14397532496082027\n",
      "    seekback_1to2 = -0.12190131143121923\n",
      "    seekback_3+ = -0.08464446194429827\n",
      "    jan = 7.655554413413173e-09\n",
      "    feb = 1.2177359293871168e-08\n",
      "    march = 1.1857247319971838e-08\n",
      "    april = 1.5094073428481492e-08\n",
      "    may = -0.00022455895749362947\n",
      "    june = -2.237475375084887e-05\n",
      "    july = 8.064497623995577e-05\n",
      "    aug = 1.7993840154443432e-08\n",
      "    sept = 1.2177359293871168e-08\n",
      "    nov = 1.2177359294709962e-08\n",
      "    afternoon = 0.9328280158818636\n",
      "    early_morn = -0.007874630262759754\n",
      "    morning = -1.8581525258137528\n",
      "    night = 0.568478035269968\n",
      "    skip_v_soon = -4.025792833796309\n",
      "    skip_fairly_soon = -1.6774816928284624\n",
      "    paused_before_play = -1.0957544930325004e-09\n",
      "    on_shuffle = -0.6217544956320081\n",
      "    premium = 1.3876924736579053\n",
      "    context_catalog = 3.9059299147814994\n",
      "    context_charts = -0.0062222461948641715\n",
      "    context_editorial_playlist = -1.393632623811634\n",
      "    context_personal_playlist = -0.004355928186786631\n",
      "    context_radio = -0.9028488243837742\n",
      "    context_user_collec = -1.605882567538505\n",
      "    appload = -1.1636062921961632\n",
      "    start_backbutton = -0.06161187873615618\n",
      "    start_clickrow = 4.478108411952089\n",
      "    start_endplay = -0.025952384093017207\n",
      "    start_fwdbutton = -2.448151462848814\n",
      "    start_playbutton = -0.03295483933391887\n",
      "    popup = -0.016636473500610524\n",
      "    start_remote = -0.06842024134012638\n",
      "    start_trackdone = -1.0640119203533873\n",
      "    start_uriopen = -0.019962759529584706\n",
      "    skipped = -0.9077465559181984\n",
      "For cluster 8: \n",
      "    no_seekfwd = 0.7682233079701357\n",
      "    seekfwd_1to2 = -0.7744758864204838\n",
      "    seekfwd_3+ = -5.2680400540919234e-06\n",
      "    no_seekback = 0.05488575480167254\n",
      "    seekback_1to2 = -0.04236686178549663\n",
      "    seekback_3+ = -0.04417604705228859\n",
      "    jan = 6.209437090383607e-09\n",
      "    feb = 7.725908612702338e-09\n",
      "    march = 4.802373344605219e-09\n",
      "    april = -2.4890106026664967e-07\n",
      "    may = -4.413746067397666e-05\n",
      "    june = -0.00014883472761619267\n",
      "    july = 0.00014663315497332656\n",
      "    aug = 8.756938674178368e-09\n",
      "    sept = 7.725908612702338e-09\n",
      "    nov = 7.725908616105663e-09\n",
      "    afternoon = 1.67361142771122\n",
      "    early_morn = -0.0017313324644993191\n",
      "    morning = -1.5863617461585893\n",
      "    night = -0.4597217814024975\n",
      "    skip_v_soon = -2.3912686310566396\n",
      "    skip_fairly_soon = -3.467241118974595\n",
      "    paused_before_play = 5.682356848938732e-07\n",
      "    on_shuffle = -2.2562372938379394\n",
      "    premium = 2.107270959517283\n",
      "    context_catalog = 3.0432479916765454\n",
      "    context_charts = -0.036371899408870804\n",
      "    context_editorial_playlist = -1.6145770504983101\n",
      "    context_personal_playlist = -0.03384115630096607\n",
      "    context_radio = -0.16211677202516794\n",
      "    context_user_collec = -1.1704492066726917\n",
      "    appload = -1.2505596055860315\n",
      "    start_backbutton = -0.043157664770797674\n",
      "    start_clickrow = -0.15381051208282528\n",
      "    start_endplay = -0.026950230841250453\n",
      "    start_fwdbutton = -2.6662287174780315\n",
      "    start_playbutton = -0.0444586341454014\n",
      "    popup = -0.01703817575092636\n",
      "    start_remote = -0.0748399934731741\n",
      "    start_trackdone = 3.8464768831346268\n",
      "    start_uriopen = -0.02124002964867463\n",
      "    skipped = -0.37067727649391313\n",
      "For cluster 9: \n",
      "    no_seekfwd = 1.423942224513439\n",
      "    seekfwd_1to2 = -1.4355321170711908\n",
      "    seekfwd_3+ = -7.024045138783227e-06\n",
      "    no_seekback = 0.4257537390678118\n",
      "    seekback_1to2 = -0.35551909944659765\n",
      "    seekback_3+ = -0.2646937742372469\n",
      "    jan = 9.500836302696118e-09\n",
      "    feb = 1.3907670106972428e-08\n",
      "    march = -2.2646532014658737e-07\n",
      "    april = 8.697083366936226e-09\n",
      "    may = -0.013889106239040922\n",
      "    june = -0.0491823566149346\n",
      "    july = 0.04825654309715548\n",
      "    aug = 1.8545636161375462e-08\n",
      "    sept = 1.3907670106972428e-08\n",
      "    nov = 1.3907670114227676e-08\n",
      "    afternoon = 0.6483015639158936\n",
      "    early_morn = -0.40865076522363597\n",
      "    morning = -2.800400955485658\n",
      "    night = 1.9007182214333782\n",
      "    skip_v_soon = -5.051265221248484\n",
      "    skip_fairly_soon = -2.71006506647658\n",
      "    paused_before_play = 9.707790755028698e-05\n",
      "    on_shuffle = -1.745484150097519\n",
      "    premium = 0.49035783481305806\n",
      "    context_catalog = -2.157573432500859\n",
      "    context_charts = -0.01701289973786312\n",
      "    context_editorial_playlist = -1.7372263156716816\n",
      "    context_personal_playlist = -0.013920250273421775\n",
      "    context_radio = -0.538449127653414\n",
      "    context_user_collec = 3.6337803797475576\n",
      "    appload = -1.3493377581993238\n",
      "    start_backbutton = -0.004142261562553992\n",
      "    start_clickrow = -0.655058539550767\n",
      "    start_endplay = 9.884622831008414e-08\n",
      "    start_fwdbutton = -3.6518667703334597\n",
      "    start_playbutton = -0.07884131283447726\n",
      "    popup = -6.403425556961367e-09\n",
      "    start_remote = 2.0401366472259564e-07\n",
      "    start_trackdone = 5.404487992119586\n",
      "    start_uriopen = -0.046207073941363704\n",
      "    skipped = -0.6348356517337447\n",
      "For cluster 10: \n",
      "    no_seekfwd = 0.4147740480403928\n",
      "    seekfwd_1to2 = -0.4181503345783226\n",
      "    seekfwd_3+ = 6.676235700447707e-08\n",
      "    no_seekback = 0.05521283124715527\n",
      "    seekback_1to2 = -0.057915106507631854\n",
      "    seekback_3+ = -5.6107200728875934e-05\n",
      "    jan = 6.6771565535876844e-09\n",
      "    feb = 8.552913717249566e-09\n",
      "    march = -3.0047952477095612e-09\n",
      "    april = 9.230970075524537e-09\n",
      "    may = 1.746314332598917e-08\n",
      "    june = -0.002268975912807578\n",
      "    july = 0.0020538999955787176\n",
      "    aug = 1.1524822863894629e-08\n",
      "    sept = 8.552913717249566e-09\n",
      "    nov = 8.552913711640699e-09\n",
      "    afternoon = 1.8382459442119856\n",
      "    early_morn = -0.0002539259154270339\n",
      "    morning = -0.9094622859469599\n",
      "    night = -1.2077881895025542\n",
      "    skip_v_soon = 2.650815614113053\n",
      "    skip_fairly_soon = 6.010811796061196\n",
      "    paused_before_play = 0.00527203345905857\n",
      "    on_shuffle = 3.1292416289528275\n",
      "    premium = -1.5056476608736968\n",
      "    context_catalog = -1.9060038265733874\n",
      "    context_charts = -0.00023672671622888933\n",
      "    context_editorial_playlist = -0.579197771739564\n",
      "    context_personal_playlist = -0.00012822941870030362\n",
      "    context_radio = -5.25469764888958e-05\n",
      "    context_user_collec = 2.1060555950735536\n",
      "    appload = -0.4194030421119894\n",
      "    start_backbutton = -6.645870069001465e-06\n",
      "    start_clickrow = -2.4663383580452645\n",
      "    start_endplay = 6.653442656388494e-08\n",
      "    start_fwdbutton = 5.037099611839424\n",
      "    start_playbutton = -0.014109218624958734\n",
      "    popup = 1.0256317744325935e-08\n",
      "    start_remote = -0.00014712979237421577\n",
      "    start_trackdone = -2.3551104440965256\n",
      "    start_uriopen = -0.016626060238231842\n",
      "    skipped = 0.6358412652039774\n",
      "For cluster 11: \n",
      "    no_seekfwd = 0.33097587301638626\n",
      "    seekfwd_1to2 = -0.33365549867706634\n",
      "    seekfwd_3+ = -9.707634694678886e-05\n",
      "    no_seekback = 0.23289587998198874\n",
      "    seekback_1to2 = -0.2443761018693482\n",
      "    seekback_3+ = 1.8155837369360708e-07\n",
      "    jan = 4.113274506845662e-09\n",
      "    feb = 8.060102282581024e-09\n",
      "    march = 4.9643594141843635e-09\n",
      "    april = 8.81917250265186e-09\n",
      "    may = 1.648496772209788e-08\n",
      "    june = -0.0019952355640466034\n",
      "    july = 0.001806106328657425\n",
      "    aug = 9.465158878095713e-09\n",
      "    sept = 8.060102282581024e-09\n",
      "    nov = 8.06010228034221e-09\n",
      "    afternoon = -2.0785513046558504\n",
      "    early_morn = -0.0004271505887667313\n",
      "    morning = -1.0562754165007777\n",
      "    night = 3.122703583838172\n",
      "    skip_v_soon = 4.336779787915252\n",
      "    skip_fairly_soon = 4.464927556037062\n",
      "    paused_before_play = 1.1369820608483709e-06\n",
      "    on_shuffle = 4.282066053352028\n",
      "    premium = -1.3095201695810368\n",
      "    context_catalog = -1.9111860869244535\n",
      "    context_charts = -0.0001963921139203382\n",
      "    context_editorial_playlist = -0.9270065953278505\n",
      "    context_personal_playlist = -8.974895590960914e-05\n",
      "    context_radio = -9.745665751935448e-06\n",
      "    context_user_collec = 2.3934060622160342\n",
      "    appload = -0.3945925760905971\n",
      "    start_backbutton = -2.4970579508287233e-05\n",
      "    start_clickrow = -2.4862712345285005\n",
      "    start_endplay = 5.7749245455420934e-08\n",
      "    start_fwdbutton = 5.115892059084914\n",
      "    start_playbutton = -0.020379595006329514\n",
      "    popup = 1.0192988940675087e-08\n",
      "    start_remote = 1.556691818311197e-08\n",
      "    start_trackdone = -2.4323379692921283\n",
      "    start_uriopen = -0.019740840566904273\n",
      "    skipped = 0.586430872977539\n"
     ]
    }
   ],
   "source": [
    "#Okay, let's look at these coeffs in an easier to interpret format\n",
    "\n",
    "for cluster in range(len(cluster_clf1_fit.coef_)):\n",
    "    print('For cluster {}: '.format(cluster-1))\n",
    "    for coef in range(len(cluster_clf1_fit.coef_[cluster])):\n",
    "        print('   ', Xclusters_track1_dummies.columns[coef], '=', cluster_clf1_fit.coef_[cluster][coef])\n",
    "        "
   ]
  },
  {
   "cell_type": "code",
   "execution_count": 828,
   "metadata": {},
   "outputs": [
    {
     "name": "stdout",
     "output_type": "stream",
     "text": [
      "Cluster -1 Max Coef:  4.274683651433285 early_morn\n",
      "Cluster 0 Max Coef:  3.9926634830353347 seekback_1to2\n",
      "Cluster 1 Max Coef:  5.908169174439731 start_backbutton\n",
      "Cluster 2 Max Coef:  8.315857555040559 appload\n",
      "Cluster 3 Max Coef:  6.784157764711629 context_radio\n",
      "Cluster 4 Max Coef:  6.120455562962183 morning\n",
      "Cluster 5 Max Coef:  5.05845384413869 context_editorial_playlist\n",
      "Cluster 6 Max Coef:  6.299106826995431 start_clickrow\n",
      "Cluster 7 Max Coef:  4.478108411952089 start_clickrow\n",
      "Cluster 8 Max Coef:  3.8464768831346268 start_trackdone\n",
      "Cluster 9 Max Coef:  5.404487992119586 start_trackdone\n",
      "Cluster 10 Max Coef:  6.010811796061196 skip_fairly_soon\n",
      "Cluster 11 Max Coef:  5.115892059084914 start_fwdbutton\n"
     ]
    }
   ],
   "source": [
    "#  I want to see the maximum coefs for each cluster along with corresponding column names:\n",
    "for cluster in range(len(cluster_clf1_fit.coef_)):\n",
    "    max_seen = float(\"-inf\")\n",
    "    column_name = None\n",
    "    for index, coef in enumerate(cluster_clf1_fit.coef_[cluster]):\n",
    "        if coef <= max_seen: continue \n",
    "        column_name = Xclusters_track1_dummies.columns[index]\n",
    "        max_seen = coef\n",
    "    print('Cluster {} Max Coef: '.format(cluster-1), max_seen, column_name)"
   ]
  },
  {
   "cell_type": "code",
   "execution_count": 829,
   "metadata": {},
   "outputs": [
    {
     "name": "stdout",
     "output_type": "stream",
     "text": [
      "Cluster -1 Max Coef:  -4.287265195858187 premium\n",
      "Cluster 0 Max Coef:  3.9926634830353347 seekback_1to2\n",
      "Cluster 1 Max Coef:  5.908169174439731 start_backbutton\n",
      "Cluster 2 Max Coef:  8.315857555040559 appload\n",
      "Cluster 3 Max Coef:  6.784157764711629 context_radio\n",
      "Cluster 4 Max Coef:  6.120455562962183 morning\n",
      "Cluster 5 Max Coef:  5.05845384413869 context_editorial_playlist\n",
      "Cluster 6 Max Coef:  6.299106826995431 start_clickrow\n",
      "Cluster 7 Max Coef:  4.478108411952089 start_clickrow\n",
      "Cluster 8 Max Coef:  3.8464768831346268 start_trackdone\n",
      "Cluster 9 Max Coef:  5.404487992119586 start_trackdone\n",
      "Cluster 10 Max Coef:  6.010811796061196 skip_fairly_soon\n",
      "Cluster 11 Max Coef:  5.115892059084914 start_fwdbutton\n"
     ]
    }
   ],
   "source": [
    "# Print out absolute value maximum coefficients (whether pos or neg)\n",
    "for cluster in range(len(cluster_clf1_fit.coef_)):\n",
    "    max_seen = 0\n",
    "    column_name = None\n",
    "    for index, coef in enumerate(cluster_clf1_fit.coef_[cluster]):\n",
    "        abs_coef = abs(coef)\n",
    "        if abs_coef <= abs(max_seen): continue \n",
    "        column_name = Xclusters_track1_dummies.columns[index]\n",
    "        max_seen = coef\n",
    "    print('Cluster {} Max Coef: '.format(cluster-1), max_seen, column_name)"
   ]
  },
  {
   "cell_type": "code",
   "execution_count": 830,
   "metadata": {},
   "outputs": [
    {
     "name": "stdout",
     "output_type": "stream",
     "text": [
      "Cluster -1 Max Coef:  -4.287265195858187 premium\n",
      "Cluster 0 Max Coef:  -3.8040996339328217 no_seekback\n",
      "Cluster 1 Max Coef:  -1.7841707874805532 seekfwd_1to2\n",
      "Cluster 2 Max Coef:  -5.3772292775124875 no_seekfwd\n",
      "Cluster 3 Max Coef:  -3.491006767169699 context_user_collec\n",
      "Cluster 4 Max Coef:  -3.1562357774324656 afternoon\n",
      "Cluster 5 Max Coef:  -3.323561061517099 context_user_collec\n",
      "Cluster 6 Max Coef:  -4.4889563157622705 start_fwdbutton\n",
      "Cluster 7 Max Coef:  -4.025792833796309 skip_v_soon\n",
      "Cluster 8 Max Coef:  -3.467241118974595 skip_fairly_soon\n",
      "Cluster 9 Max Coef:  -5.051265221248484 skip_v_soon\n",
      "Cluster 10 Max Coef:  -2.4663383580452645 start_clickrow\n",
      "Cluster 11 Max Coef:  -2.4862712345285005 start_clickrow\n"
     ]
    }
   ],
   "source": [
    "# Print out minimum coefficients (which in this case actually means they are the strongest negative ones)\n",
    "for cluster in range(len(cluster_clf1_fit.coef_)):\n",
    "    min_seen = float(\"inf\")\n",
    "    column_name = None\n",
    "    for index, coef in enumerate(cluster_clf1_fit.coef_[cluster]):\n",
    "        if coef >= min_seen: continue \n",
    "        column_name = Xclusters_track1_dummies.columns[index]\n",
    "        min_seen = coef\n",
    "    print('Cluster {} Max Coef: '.format(cluster-1), min_seen, column_name)"
   ]
  },
  {
   "cell_type": "code",
   "execution_count": 831,
   "metadata": {
    "scrolled": true
   },
   "outputs": [
    {
     "data": {
      "text/plain": [
       "array([[1.52076956e-01, 6.17579569e+00, 1.68458152e+00, 1.81732559e-01,\n",
       "        4.09488606e+00, 3.00803014e+00, 9.99999947e-01, 9.99999918e-01,\n",
       "        1.00000019e+00, 1.00000018e+00, 1.05005038e+00, 1.36531364e+00,\n",
       "        7.43787381e-01, 1.00641990e+00, 9.99999918e-01, 9.99999918e-01,\n",
       "        6.89171689e-02, 7.18574037e+01, 6.51583744e+00, 3.04778230e-01,\n",
       "        2.93443752e+00, 1.76737424e+00, 8.80544904e-01, 4.02164504e+00,\n",
       "        1.37424569e-02, 1.00270100e+00, 4.96513157e+00, 3.65601389e+00,\n",
       "        5.43205921e+00, 6.44450462e+00, 4.45521090e-02, 1.66806344e+00,\n",
       "        1.37240823e+00, 6.92441288e-01, 1.27093487e+00, 1.41968899e+00,\n",
       "        2.58157761e+00, 1.03427176e+00, 1.52528946e+00, 4.35764423e-01,\n",
       "        1.24786327e+00, 6.50872282e-01],\n",
       "       [5.49383823e-01, 1.85708317e+00, 9.03596532e-01, 2.22792476e-02,\n",
       "        5.41990556e+01, 9.96963689e-01, 1.00000001e+00, 1.00000001e+00,\n",
       "        1.00000001e+00, 1.00000001e+00, 1.00000001e+00, 1.00000005e+00,\n",
       "        1.00099423e+00, 9.93621258e-01, 1.00000001e+00, 1.00000001e+00,\n",
       "        4.10209599e-01, 9.75748227e-01, 3.71861837e+00, 8.73359875e-01,\n",
       "        1.36854596e-01, 2.31903428e-01, 9.99999984e-01, 6.07524032e-01,\n",
       "        1.85204858e-01, 3.16593082e+00, 9.69692081e-01, 2.12827235e+00,\n",
       "        9.75750071e-01, 3.77905839e-01, 3.92829829e-01, 1.31625854e+01,\n",
       "        7.73875857e-02, 8.91275157e-01, 9.42221182e-01, 5.63588069e-01,\n",
       "        9.24602396e-01, 9.99992731e-01, 8.46378242e-01, 1.08251811e+00,\n",
       "        9.96286217e-01, 4.86789349e-01],\n",
       "       [6.03479954e+00, 1.67936258e-01, 8.29369236e-01, 4.32725857e+00,\n",
       "        2.26448590e-01, 8.60174781e-01, 1.00000000e+00, 1.00000001e+00,\n",
       "        1.00000000e+00, 1.00000001e+00, 1.00000001e+00, 8.86280758e-01,\n",
       "        1.11547342e+00, 1.00000001e+00, 1.00000001e+00, 1.00000001e+00,\n",
       "        9.93302284e-01, 1.77262231e-01, 2.58035368e+00, 1.23722176e+00,\n",
       "        1.36629957e+01, 3.19103810e+00, 1.12769550e+00, 3.24762695e-01,\n",
       "        5.21832491e-01, 1.47722499e+00, 5.73422118e-01, 1.34047761e+00,\n",
       "        5.06714504e-01, 2.22815678e-01, 2.09212402e+00, 9.93424203e-01,\n",
       "        3.68031736e+02, 3.68344432e-01, 1.00000004e+00, 7.96372288e-01,\n",
       "        9.99404403e-01, 1.00000000e+00, 9.99210789e-01, 1.91233577e-01,\n",
       "        9.99981282e-01, 3.23752227e+00],\n",
       "       [4.62060663e-03, 2.30137127e+02, 8.88620223e-01, 5.58569967e+00,\n",
       "        1.68854931e-01, 9.26555451e-01, 9.99999985e-01, 9.99999984e-01,\n",
       "        9.99999984e-01, 9.99999979e-01, 9.99999961e-01, 9.52478494e-01,\n",
       "        1.04505855e+00, 9.99999973e-01, 9.99999984e-01, 9.99999984e-01,\n",
       "        3.96297463e+00, 2.29514923e-01, 1.57918785e+00, 3.64408987e-01,\n",
       "        1.53933675e-01, 1.19904833e+00, 1.00000004e+00, 7.55955745e-01,\n",
       "        1.95377723e+01, 1.27423763e+00, 4.24892522e-01, 1.70844561e+00,\n",
       "        4.23979699e-01, 1.17495900e-01, 3.36657517e+00, 4.08818978e+03,\n",
       "        6.51486016e-01, 9.55684650e-02, 9.49178669e-01, 2.26725995e-01,\n",
       "        9.99921652e-01, 9.99999976e-01, 9.45044391e-01, 1.22187254e-01,\n",
       "        9.99998661e-01, 9.73967267e+02],\n",
       "       [2.09386595e+00, 4.76072441e-01, 9.81189311e-01, 1.60258398e+00,\n",
       "        6.09762255e-01, 9.99481757e-01, 1.00000001e+00, 1.00000001e+00,\n",
       "        1.00000001e+00, 1.00000001e+00, 1.00000002e+00, 1.00000005e+00,\n",
       "        9.99999938e-01, 1.00000001e+00, 1.00000001e+00, 1.00000001e+00,\n",
       "        1.17959315e+00, 9.80120789e-01, 1.77395137e+00, 5.22697763e-01,\n",
       "        1.98951872e+01, 1.61248521e+00, 1.00000025e+00, 2.36965524e-01,\n",
       "        3.96014462e-01, 2.92265041e-01, 9.99988017e-01, 9.74232119e-01,\n",
       "        9.99994988e-01, 8.83735460e+02, 3.04701803e-02, 1.46595201e-01,\n",
       "        1.94157542e-01, 1.48170455e-01, 9.58791622e-01, 1.30085303e+01,\n",
       "        8.15247606e-01, 9.99999723e-01, 9.99994263e-01, 4.81438661e+00,\n",
       "        9.99999601e-01, 2.23803582e-01],\n",
       "       [1.06719647e+00, 9.36670770e-01, 9.99058085e-01, 1.06265918e+00,\n",
       "        9.38544121e-01, 9.99000094e-01, 1.00000001e+00, 1.00000001e+00,\n",
       "        1.00000001e+00, 1.00000002e+00, 9.99999963e-01, 9.99979463e-01,\n",
       "        1.00001864e+00, 9.99999710e-01, 1.00000001e+00, 1.00000001e+00,\n",
       "        4.25857420e-02, 9.99999728e-01, 4.55071961e+02, 1.70746436e-01,\n",
       "        5.08997912e+00, 3.20675112e-01, 9.99999973e-01, 1.37237058e+00,\n",
       "        1.83700755e+00, 1.33623209e+00, 9.99261729e-01, 2.32677302e+00,\n",
       "        9.98972301e-01, 4.97990308e-01, 6.27614954e-01, 3.34351423e-01,\n",
       "        4.22705564e-01, 1.70822203e+00, 9.99993795e-01, 3.61853565e+00,\n",
       "        8.76728158e-01, 9.99999054e-01, 9.99729012e-01, 5.60915465e-01,\n",
       "        9.66906715e-01, 3.36491280e-01],\n",
       "       [1.06209376e+00, 9.41124635e-01, 9.99646805e-01, 1.02267013e+00,\n",
       "        9.76771087e-01, 9.99944782e-01, 1.00000000e+00, 1.00000000e+00,\n",
       "        1.00000000e+00, 1.00000000e+00, 9.99999996e-01, 9.99998862e-01,\n",
       "        1.00000103e+00, 1.00000001e+00, 1.00000000e+00, 1.00000000e+00,\n",
       "        1.13519465e+00, 9.99978683e-01, 5.43244370e-01, 1.45937083e+00,\n",
       "        9.60173994e+00, 6.60878116e-01, 1.00000006e+00, 1.60671765e+00,\n",
       "        1.42876134e+00, 3.98146878e-01, 9.99992336e-01, 1.57347045e+02,\n",
       "        9.99994778e-01, 9.97349604e-01, 3.60243183e-02, 1.57797933e-01,\n",
       "        5.37256690e-01, 1.20621261e+00, 9.67452612e-01, 3.27144654e+00,\n",
       "        8.97257538e-01, 9.99989914e-01, 9.47056158e-01, 1.37481013e+00,\n",
       "        9.51689723e-01, 5.71637556e-01],\n",
       "       [4.45421960e+00, 2.23993047e-01, 9.36176974e-01, 2.35523990e+00,\n",
       "        4.79622128e-01, 6.21139726e-01, 9.99999999e-01, 1.00000001e+00,\n",
       "        1.00000000e+00, 1.00000001e+00, 9.65914128e-01, 9.15453617e-01,\n",
       "        1.09339887e+00, 1.00000001e+00, 1.00000001e+00, 1.00000001e+00,\n",
       "        7.73293685e+00, 5.43795638e-01, 8.49883412e-02, 1.26379717e+00,\n",
       "        1.07517480e-01, 1.35721454e-01, 1.00166845e+00, 1.96396716e-01,\n",
       "        1.15054663e+01, 4.06204855e-01, 9.05912500e-01, 8.16360707e-02,\n",
       "        9.26335807e-01, 1.77602482e-01, 5.55278537e+01, 1.41038892e-01,\n",
       "        9.93103434e-01, 5.44085730e+02, 9.99999616e-01, 1.12323607e-02,\n",
       "        7.91079006e-01, 9.99995673e-01, 9.99998415e-01, 8.15935523e-01,\n",
       "        9.89312210e-01, 4.64019701e-02],\n",
       "       [2.15105081e+00, 4.63983228e-01, 9.71781626e-01, 1.15485561e+00,\n",
       "        8.85235727e-01, 9.18838909e-01, 1.00000001e+00, 1.00000001e+00,\n",
       "        1.00000001e+00, 1.00000002e+00, 9.99775466e-01, 9.99977625e-01,\n",
       "        1.00008065e+00, 1.00000002e+00, 1.00000001e+00, 1.00000001e+00,\n",
       "        2.54168695e+00, 9.92156293e-01, 1.55960497e-01, 1.76557786e+00,\n",
       "        1.78492670e-02, 1.86843914e-01, 9.99999999e-01, 5.37001444e-01,\n",
       "        4.00559636e+00, 4.96962717e+01, 9.93797072e-01, 2.48172149e-01,\n",
       "        9.95653545e-01, 4.05413062e-01, 2.00712335e-01, 3.12357694e-01,\n",
       "        9.40247746e-01, 8.80679268e+01, 9.74381485e-01, 8.64532509e-02,\n",
       "        9.67582255e-01, 9.83501148e-01, 9.33867941e-01, 3.45068642e-01,\n",
       "        9.80235177e-01, 4.03432313e-01],\n",
       "       [2.15593242e+00, 4.60945305e-01, 9.99994732e-01, 1.05641992e+00,\n",
       "        9.58518072e-01, 9.56785503e-01, 1.00000001e+00, 1.00000001e+00,\n",
       "        1.00000000e+00, 9.99999751e-01, 9.99955864e-01, 9.99851176e-01,\n",
       "        1.00014664e+00, 1.00000001e+00, 1.00000001e+00, 1.00000001e+00,\n",
       "        5.33138699e+00, 9.98270165e-01, 2.04668896e-01, 6.31459305e-01,\n",
       "        9.15135133e-02, 3.12029974e-02, 1.00000057e+00, 1.04743865e-01,\n",
       "        8.22576219e+00, 2.09732537e+01, 9.64281611e-01, 1.98974809e-01,\n",
       "        9.66725051e-01, 8.50341903e-01, 3.10227554e-01, 2.86344512e-01,\n",
       "        9.57760373e-01, 8.57434479e-01, 9.73409686e-01, 6.95138881e-02,\n",
       "        9.56515166e-01, 9.83106153e-01, 9.27891943e-01, 4.68277925e+01,\n",
       "        9.78983951e-01, 6.90266671e-01],\n",
       "       [4.15346209e+00, 2.37988692e-01, 9.99992976e-01, 1.53074377e+00,\n",
       "        7.00809559e-01, 7.67440924e-01, 1.00000001e+00, 1.00000001e+00,\n",
       "        9.99999774e-01, 1.00000001e+00, 9.86206902e-01, 9.52007509e-01,\n",
       "        1.04943985e+00, 1.00000002e+00, 1.00000001e+00, 1.00000001e+00,\n",
       "        1.91229017e+00, 6.64546274e-01, 6.07856854e-02, 6.69069812e+00,\n",
       "        6.40122935e-03, 6.65324775e-02, 1.00009708e+00, 1.74560455e-01,\n",
       "        1.63290042e+00, 1.15605305e-01, 9.83131002e-01, 1.76007915e-01,\n",
       "        9.86176188e-01, 5.83652722e-01, 3.78556552e+01, 2.59411997e-01,\n",
       "        9.95866306e-01, 5.19411656e-01, 1.00000010e+00, 2.59426546e-02,\n",
       "        9.24186569e-01, 9.99999994e-01, 1.00000020e+00, 2.22402320e+02,\n",
       "        9.54844218e-01, 5.30022589e-01],\n",
       "       [1.51402860e+00, 6.58263261e-01, 1.00000007e+00, 1.05676550e+00,\n",
       "        9.43730061e-01, 9.99943894e-01, 1.00000001e+00, 1.00000001e+00,\n",
       "        9.99999997e-01, 1.00000001e+00, 1.00000002e+00, 9.97733596e-01,\n",
       "        1.00205601e+00, 1.00000001e+00, 1.00000001e+00, 1.00000001e+00,\n",
       "        6.28550346e+00, 9.99746106e-01, 4.02740725e-01, 2.98857565e-01,\n",
       "        1.41655876e+01, 4.07814248e+02, 1.00528596e+00, 2.28566392e+01,\n",
       "        2.21873548e-01, 1.48673325e-01, 9.99763301e-01, 5.60347713e-01,\n",
       "        9.99871779e-01, 9.99947454e-01, 8.21577096e+00, 6.57439166e-01,\n",
       "        9.99993354e-01, 8.48951462e-02, 1.00000007e+00, 1.54022641e+02,\n",
       "        9.85989850e-01, 1.00000001e+00, 9.99852881e-01, 9.48830267e-02,\n",
       "        9.83511390e-01, 1.88861030e+00],\n",
       "       [1.39232620e+00, 7.16300506e-01, 9.99902928e-01, 1.26225005e+00,\n",
       "        7.83193019e-01, 1.00000018e+00, 1.00000000e+00, 1.00000001e+00,\n",
       "        1.00000000e+00, 1.00000001e+00, 1.00000002e+00, 9.98006754e-01,\n",
       "        1.00180774e+00, 1.00000001e+00, 1.00000001e+00, 1.00000001e+00,\n",
       "        1.25111329e-01, 9.99572941e-01, 3.47748620e-01, 2.27076889e+01,\n",
       "        7.64609221e+01, 8.69147329e+01, 1.00000114e+00, 7.23898469e+01,\n",
       "        2.69949555e-01, 1.47904855e-01, 9.99803627e-01, 3.95736539e-01,\n",
       "        9.99910255e-01, 9.99990254e-01, 1.09507294e+01, 6.73954569e-01,\n",
       "        9.99975030e-01, 8.32196955e-02, 1.00000006e+00, 1.66649376e+02,\n",
       "        9.79826665e-01, 1.00000001e+00, 1.00000002e+00, 8.78312456e-02,\n",
       "        9.80452734e-01, 1.79756123e+00]])"
      ]
     },
     "execution_count": 831,
     "metadata": {},
     "output_type": "execute_result"
    }
   ],
   "source": [
    "# Now we'll get the odds ratios for track1:\n",
    "\n",
    "t1_odds = np.exp(cluster_clf1_fit.coef_)\n",
    "t1_odds"
   ]
  },
  {
   "cell_type": "code",
   "execution_count": 832,
   "metadata": {},
   "outputs": [
    {
     "name": "stdout",
     "output_type": "stream",
     "text": [
      "Cluster -1 Max Odds Ratio:  71.85740372698724 early_morn\n",
      "Cluster 0 Max Odds Ratio:  54.19905555099232 seekback_1to2\n",
      "Cluster 1 Max Odds Ratio:  368.03173631604557 start_backbutton\n",
      "Cluster 2 Max Odds Ratio:  4088.189782271003 appload\n",
      "Cluster 3 Max Odds Ratio:  883.7354602234809 context_radio\n",
      "Cluster 4 Max Odds Ratio:  455.0719612150786 morning\n",
      "Cluster 5 Max Odds Ratio:  157.3470450936046 context_editorial_playlist\n",
      "Cluster 6 Max Odds Ratio:  544.0857303504048 start_clickrow\n",
      "Cluster 7 Max Odds Ratio:  88.06792678039766 start_clickrow\n",
      "Cluster 8 Max Odds Ratio:  46.827792482983284 start_trackdone\n",
      "Cluster 9 Max Odds Ratio:  222.40231958697484 start_trackdone\n",
      "Cluster 10 Max Odds Ratio:  407.81424793301414 skip_fairly_soon\n",
      "Cluster 11 Max Odds Ratio:  166.6493757854578 start_fwdbutton\n"
     ]
    }
   ],
   "source": [
    "# I want to print out the maximum odds ratios for each column:\n",
    "for cluster in range(len(t1_odds)):\n",
    "    max_seen = float(\"-inf\")\n",
    "    column_name = None\n",
    "    for index, oratio in enumerate(t1_odds[cluster]):\n",
    "        if oratio <= max_seen: continue \n",
    "        column_name = Xclusters_track1_dummies.columns[index]\n",
    "        max_seen = oratio\n",
    "    print('Cluster {} Max Odds Ratio: '.format(cluster-1), max_seen, column_name)"
   ]
  },
  {
   "cell_type": "code",
   "execution_count": 833,
   "metadata": {},
   "outputs": [],
   "source": [
    "# Now we'll run a logistic regression on the clusters for track10\n",
    "\n",
    "scaler = StandardScaler()\n",
    "X10 = scaler.fit_transform(Xclusters_track10_dummies)\n",
    "y10 = track10_hd_labels\n",
    "\n",
    "X10_train, X10_test, y10_train, y10_test = train_test_split(X10, y10, test_size=.2, random_state=60)"
   ]
  },
  {
   "cell_type": "code",
   "execution_count": 820,
   "metadata": {},
   "outputs": [
    {
     "data": {
      "text/plain": [
       "array([-1, 10,  5, ..., -1,  6,  7])"
      ]
     },
     "execution_count": 820,
     "metadata": {},
     "output_type": "execute_result"
    }
   ],
   "source": [
    "# track10_hd_labels"
   ]
  },
  {
   "cell_type": "code",
   "execution_count": 821,
   "metadata": {
    "scrolled": false
   },
   "outputs": [
    {
     "name": "stdout",
     "output_type": "stream",
     "text": [
      "<class 'pandas.core.frame.DataFrame'>\n",
      "Int64Index: 89672 entries, 0 to 58119\n",
      "Data columns (total 42 columns):\n",
      "no_seekfwd                    89672 non-null uint8\n",
      "seekfwd_1to2                  89672 non-null uint8\n",
      "seekfwd_3+                    89672 non-null uint8\n",
      "no_seekback                   89672 non-null uint8\n",
      "seekback_1to2                 89672 non-null uint8\n",
      "seekback_3+                   89672 non-null uint8\n",
      "jan                           89672 non-null uint8\n",
      "feb                           89672 non-null uint8\n",
      "march                         89672 non-null uint8\n",
      "april                         89672 non-null uint8\n",
      "may                           89672 non-null uint8\n",
      "june                          89672 non-null uint8\n",
      "july                          89672 non-null uint8\n",
      "aug                           89672 non-null uint8\n",
      "sept                          89672 non-null uint8\n",
      "nov                           89672 non-null uint8\n",
      "afternoon                     89672 non-null uint8\n",
      "early_morn                    89672 non-null uint8\n",
      "morning                       89672 non-null uint8\n",
      "night                         89672 non-null uint8\n",
      "skip_v_soon                   89672 non-null uint8\n",
      "skip_fairly_soon              89672 non-null uint8\n",
      "switched_context              89672 non-null uint8\n",
      "paused_before_play            89672 non-null uint8\n",
      "on_shuffle                    89672 non-null uint8\n",
      "premium                       89672 non-null uint8\n",
      "context_catalog               89672 non-null uint8\n",
      "context_charts                89672 non-null uint8\n",
      "context_editorial_playlist    89672 non-null uint8\n",
      "context_personal_playlist     89672 non-null uint8\n",
      "context_radio                 89672 non-null uint8\n",
      "context_user_collec           89672 non-null uint8\n",
      "appload                       89672 non-null uint8\n",
      "start_backbutton              89672 non-null uint8\n",
      "start_clickrow                89672 non-null uint8\n",
      "start_endplay                 89672 non-null uint8\n",
      "start_fwdbutton               89672 non-null uint8\n",
      "start_playbutton              89672 non-null uint8\n",
      "start_remote                  89672 non-null uint8\n",
      "start_trackdone               89672 non-null uint8\n",
      "start_uriopen                 89672 non-null uint8\n",
      "skipped                       89672 non-null uint8\n",
      "dtypes: uint8(42)\n",
      "memory usage: 6.8 MB\n"
     ]
    }
   ],
   "source": [
    "# Xclusters_track10_dummies.info()"
   ]
  },
  {
   "cell_type": "code",
   "execution_count": 834,
   "metadata": {},
   "outputs": [],
   "source": [
    "cluster_clf2 = LogisticRegression(multi_class ='multinomial', solver ='newton-cg')\n",
    "cluster_clf2_fit = cluster_clf2.fit(X10_train, y10_train)"
   ]
  },
  {
   "cell_type": "code",
   "execution_count": 835,
   "metadata": {},
   "outputs": [],
   "source": [
    "y10_pred = cluster_clf2_fit.predict(X10_test)"
   ]
  },
  {
   "cell_type": "code",
   "execution_count": 836,
   "metadata": {
    "scrolled": true
   },
   "outputs": [
    {
     "name": "stdout",
     "output_type": "stream",
     "text": [
      "[[8725    0    0    0    0    0    0    0    0    0    0    0    0    0]\n",
      " [ 365    0    0    0    0    0    0    0    0    0    0    0    0    0]\n",
      " [ 789    0    0    0    0    0    0    0    0    0    0    0    0    0]\n",
      " [ 659    0    0    0    0    0    0    0    0    0    0    0    0    0]\n",
      " [ 552    0    0    0    0    0    0    0    0    0    0    0    0    0]\n",
      " [ 415    0    0    0    0    0    0    0    0    0    0    0    0    0]\n",
      " [ 931    0    0    0    0    0    0    0    0    0    0    0    0    0]\n",
      " [1287    0    0    0    0    0    0    0    0    0    0    0    0    0]\n",
      " [ 381    0    0    0    0    0    0    0    0    0    0    0    0    0]\n",
      " [ 699    0    0    0    0    0    0    0    0    0    0    0    0    0]\n",
      " [ 881    0    0    0    0    0    0    0    0    0    0    0    0    0]\n",
      " [1041    0    0    0    0    0    0    0    0    0    0    0    0    0]\n",
      " [ 762    0    0    0    0    0    0    0    0    0    0    0    0    0]\n",
      " [ 448    0    0    0    0    0    0    0    0    0    0    0    0    0]]\n"
     ]
    }
   ],
   "source": [
    "# Now a confusion matrix for the track1 clusters' logistic regression\n",
    "cm2 = confusion_matrix(y10_test, y10_pred)\n",
    "print(cm2)"
   ]
  },
  {
   "cell_type": "code",
   "execution_count": 814,
   "metadata": {
    "scrolled": true
   },
   "outputs": [
    {
     "name": "stdout",
     "output_type": "stream",
     "text": [
      "[[-4.41540289e-03  3.82252311e-03  2.49802228e-03 -5.10462360e-03\n",
      "   1.41804133e-03  1.41090040e-02 -8.72984593e-03 -3.03266394e-06\n",
      "   2.69911027e-02  3.54694484e-02  4.15233480e-02  2.82424896e-05\n",
      "  -2.51020799e-02  2.82060705e-02  2.69585666e-02 -8.62181309e-03\n",
      "  -5.82052079e-03 -1.52580729e-03  9.06435247e-03 -1.19115762e-04\n",
      "  -1.93129441e-02  1.50321722e-02  8.34951790e-03 -8.27871357e-03\n",
      "  -7.13305451e-03 -8.37016141e-03 -7.75456034e-03  6.20821356e-03\n",
      "   6.31636184e-03 -5.04120087e-03 -7.88081985e-03  6.53674135e-03\n",
      "   2.22660535e-02 -4.61981797e-03 -8.08662499e-03 -1.46124671e-02\n",
      "   5.22180141e-03  2.06728460e-02  3.28385393e-02 -3.19003989e-03\n",
      "   6.88889178e-03 -4.63130943e-03]\n",
      " [ 9.99998839e-03 -1.75570634e-02  2.17230031e-02  3.47413383e-02\n",
      "  -4.23092654e-02  2.31014114e-02 -1.08261904e-04  1.04336686e-06\n",
      "  -1.36669767e-04 -1.54157524e-04 -2.60170905e-03 -7.99600274e-02\n",
      "   7.32777057e-02 -7.29151198e-04 -1.28254381e-04 -1.71455373e-04\n",
      "  -5.91538948e-04  4.71900485e-03  2.32673012e-02 -2.09417634e-02\n",
      "  -4.15392410e-02  1.45305401e-02  1.12932448e-02  2.58891676e-02\n",
      "  -1.97315495e-02 -2.59624765e-02  2.91810163e-02 -1.92851418e-02\n",
      "  -3.29853178e-02  1.08225015e-02 -1.56673691e-02  1.70861959e-02\n",
      "  -3.89919869e-02  8.07459969e-03 -2.54792233e-02 -4.53824225e-03\n",
      "   2.61545042e-02 -6.17290479e-02 -1.00378110e-01 -3.12086084e-04\n",
      "  -1.21369357e-01  5.77618659e-02]\n",
      " [-1.43295916e-03  1.80890049e-02 -5.10239519e-02  2.35948316e-05\n",
      "   7.84049493e-05 -3.75115963e-04 -3.10370327e-03 -6.17972236e-08\n",
      "  -2.77932380e-03 -3.96221995e-03  5.45984390e-02  4.40948408e-03\n",
      "  -1.56021899e-02 -7.63642200e-03 -2.77561507e-03 -2.94326015e-03\n",
      "   5.01732945e-03 -1.76397091e-02 -2.10438821e-02  2.22881634e-02\n",
      "  -3.26558365e-02  3.48519607e-03  1.71762477e-02  9.76088208e-03\n",
      "   1.55698826e-02 -4.57732491e-03  2.19144852e-02  1.37187376e-02\n",
      "   1.04276247e-02  4.24835197e-03 -6.15497302e-03 -2.63072654e-02\n",
      "  -1.59991597e-03  1.70033900e-02  2.77687973e-03  4.10242527e-02\n",
      "  -1.50498616e-02  4.71249524e-02 -1.21956618e-01  9.92017445e-03\n",
      "  -6.66362827e-03  2.60867159e-02]\n",
      " [-1.05624114e-02  7.24562029e-03  1.18165413e-02 -4.25513204e-03\n",
      "   2.75329509e-03  6.02974331e-03 -2.42744431e-03  2.85305691e-07\n",
      "  -2.35284237e-03 -2.02160664e-03 -1.65730056e-02  2.31675289e-02\n",
      "  -1.41923041e-02 -6.03098405e-03 -2.46380425e-03 -2.50793996e-03\n",
      "   1.05757572e-02 -7.16026998e-03 -1.54384594e-02  5.44130425e-03\n",
      "   4.37201299e-02  4.30039310e-02 -4.64251263e-02  2.41063345e-02\n",
      "  -2.60784834e-02  1.01376639e-02 -2.60801001e-02 -4.64465623e-02\n",
      "   2.86497712e-03  1.49625897e-02  9.21345078e-03  1.96660487e-02\n",
      "   1.09109367e-02  7.24756970e-03  3.57242073e-02 -6.52586306e-03\n",
      "  -4.42018700e-02  3.86491455e-02  6.11762363e-02  1.57339814e-02\n",
      "   2.50990878e-02 -5.17980674e-02]\n",
      " [-1.34663904e-02  1.09221620e-02  9.88302934e-03 -5.79005497e-03\n",
      "   3.07260677e-03  1.06628164e-02 -1.98345177e-03  4.49804281e-07\n",
      "  -1.52068850e-03 -2.46084641e-03 -1.30539871e-02  8.64555293e-03\n",
      "  -2.34220076e-03 -5.41722747e-03 -1.57523277e-03 -1.74285493e-03\n",
      "  -1.07424675e-02  2.28896103e-02  3.02021579e-03 -4.86907206e-03\n",
      "  -4.37376052e-02  5.41176278e-02  7.04586431e-03 -5.25449853e-03\n",
      "  -2.60316949e-04  1.28193580e-02  2.00409590e-02  2.46683205e-02\n",
      "   2.60354935e-03 -1.60988792e-02  9.88665726e-04 -2.11198389e-02\n",
      "  -3.15731716e-02  7.71805889e-03 -1.20388302e-02 -6.00558226e-03\n",
      "   2.55586198e-02  3.77491055e-02  4.54573051e-02 -2.49619387e-02\n",
      "   3.94728688e-03 -1.97831555e-02]\n",
      " [ 3.91391407e-02 -3.14852588e-02 -2.95219559e-02  4.65977939e-02\n",
      "   2.56749803e-03 -1.85377278e-01 -1.30880444e-04  8.67212934e-07\n",
      "  -1.50880777e-04 -1.71018888e-04 -2.96192338e-03 -8.17512202e-02\n",
      "   7.50088660e-02 -7.40462721e-04 -1.72833531e-04 -1.67084407e-04\n",
      "   8.26047450e-04  1.68970033e-02 -2.40374146e-02  8.13504972e-03\n",
      "  -2.47394537e-02  2.67402635e-02 -3.91601779e-02 -2.80215806e-02\n",
      "  -3.90197432e-02  1.37227466e-02 -1.45396113e-02 -4.66822742e-03\n",
      "   2.96744555e-02 -1.65540199e-02 -2.44307852e-02  1.03032187e-02\n",
      "  -4.05228068e-02  1.88798006e-02  1.22903266e-02 -3.70117919e-03\n",
      "  -5.03138786e-04 -6.04767398e-02 -9.86738679e-02 -6.22104268e-03\n",
      "   1.05866790e-02 -3.53616846e-02]\n",
      " [-1.01546506e-02  3.48105096e-03  2.20815922e-02 -1.12433584e-05\n",
      "   6.20175347e-03 -2.25792248e-02 -3.04264401e-03 -2.36938146e-07\n",
      "  -2.71787574e-03 -3.40896163e-03 -1.72521123e-02  1.77449841e-02\n",
      "  -8.57770579e-03 -6.91441633e-03 -2.61649701e-03 -2.92900315e-03\n",
      "   1.55412838e-02 -1.24807499e-02 -1.37721349e-03 -7.93646374e-03\n",
      "  -3.93665444e-02  4.33164245e-02  1.80150431e-02 -3.39135977e-02\n",
      "   1.67899811e-02  4.05776092e-03  1.94246069e-03 -8.11953384e-03\n",
      "  -5.65152882e-03  2.78564509e-02  1.16009033e-02 -1.03205056e-02\n",
      "   4.34183770e-03 -1.80919153e-02 -1.53115285e-03  4.11180266e-02\n",
      "   2.88957532e-04 -7.43194002e-02  3.33622138e-02  9.26048797e-03\n",
      "   2.22256812e-02 -6.11732958e-03]\n",
      " [ 1.38520587e-03  3.43078415e-03 -1.50279528e-02 -3.88806173e-03\n",
      "   2.14703647e-03  6.85462949e-03 -3.72969104e-03 -6.35702859e-07\n",
      "  -3.27520404e-03 -4.65482720e-03 -1.98037860e-02  2.40675199e-02\n",
      "  -1.28524689e-02 -8.73467905e-03 -3.26147332e-03 -3.64334296e-03\n",
      "  -7.22069189e-03 -7.86299518e-03  1.08401010e-02  3.81616706e-03\n",
      "   3.86818333e-03 -1.96237441e-03 -2.15264407e-02  3.42866517e-02\n",
      "   1.27632936e-02 -3.34602831e-03  7.83709721e-03  1.07587992e-02\n",
      "   3.21473646e-03  1.49302952e-02 -1.99943888e-03 -1.39108283e-02\n",
      "   6.83842050e-03 -1.00451178e-02  1.76134304e-02 -8.32517685e-03\n",
      "   2.28820507e-02 -7.73079104e-02  4.48623178e-02 -2.99469553e-02\n",
      "   8.72749480e-03 -3.02698464e-02]\n",
      " [-3.29649280e-03  9.51030001e-03 -1.86137036e-02 -7.27136318e-04\n",
      "  -1.41816619e-02  5.44760198e-02 -1.69109608e-03  9.94699778e-07\n",
      "  -1.73444905e-03 -2.65943553e-03 -1.39857034e-02  2.46380295e-02\n",
      "  -1.64978641e-02 -5.50870089e-03 -1.81156015e-03 -1.81610573e-03\n",
      "   6.92783861e-03  3.91058438e-02 -3.29916104e-02 -4.74147457e-03\n",
      "   1.16783564e-02 -3.75887437e-02 -1.54268822e-02  1.26794024e-02\n",
      "   6.46048928e-03  3.69337088e-02 -2.26352818e-02  2.92267276e-02\n",
      "  -2.43634449e-02 -2.49352867e-02  3.67743349e-04  3.72946096e-02\n",
      "  -3.97494644e-02 -1.96888532e-02  6.37255932e-02 -5.13874993e-03\n",
      "  -5.27294670e-03  5.72771377e-02 -1.02907878e-01 -1.37058876e-02\n",
      "   1.44376488e-02 -7.58164627e-03]\n",
      " [-1.37736554e-02  1.42698611e-02  5.75970938e-04 -2.27444531e-02\n",
      "   1.77311008e-02  2.12352485e-02 -3.52895941e-03  4.09760775e-08\n",
      "  -2.71435745e-03 -3.78845687e-03  5.42187756e-02  3.50213383e-03\n",
      "  -1.88501903e-02 -7.65761396e-03 -2.83666076e-03  3.52487259e-02\n",
      "  -1.95071156e-02 -1.37036423e-02  1.13598086e-02  2.01211455e-02\n",
      "   3.19947574e-02 -4.65455097e-02 -3.45522448e-02  1.91082289e-03\n",
      "  -3.38089476e-03 -5.50394780e-03  1.93995666e-02  7.14392675e-03\n",
      "   2.04706251e-03  3.64446797e-03 -2.07333101e-02 -4.95625109e-03\n",
      "   4.50862952e-02 -1.60009611e-02  1.28508190e-02 -7.20605970e-03\n",
      "  -3.17785859e-03  3.41272682e-02  4.73886026e-02 -3.21876867e-03\n",
      "  -3.83565940e-03  3.08789228e-02]\n",
      " [ 6.52300491e-03 -9.30323310e-03  7.55769218e-03 -1.65361265e-02\n",
      "   1.32987733e-02  1.39522676e-02  3.67761149e-02 -1.15863130e-07\n",
      "  -2.02734861e-03 -2.68213222e-03 -1.50520547e-02 -6.88907379e-04\n",
      "   2.68152208e-03 -6.03743139e-03 -2.02591404e-03 -2.26255743e-03\n",
      "   8.14920699e-03 -3.16030505e-02  8.76388723e-03  3.48734048e-03\n",
      "   6.85089455e-02 -7.80938189e-02 -1.31947717e-02  2.52210637e-03\n",
      "  -2.64557889e-03 -1.23983202e-03 -2.13833278e-02 -5.60963366e-04\n",
      "   1.28447456e-02  4.75420272e-03 -1.11938484e-02  1.37972635e-02\n",
      "   1.82553075e-02 -1.22513484e-03 -2.18356790e-02 -6.84900295e-03\n",
      "   1.13726649e-02  3.25592117e-02  3.98204893e-02 -3.36877145e-03\n",
      "  -6.83939546e-03  2.10353468e-02]\n",
      " [ 2.58387420e-03 -2.72794432e-03  4.88046062e-05 -1.06712224e-02\n",
      "   6.12263045e-03  1.79749027e-02 -4.06574575e-03 -4.31412681e-07\n",
      "  -3.55026028e-03 -4.58759497e-03 -2.00660521e-02  2.30990709e-02\n",
      "  -1.92116694e-02  3.89659661e-02 -3.45044852e-03 -3.86303432e-03\n",
      "  -4.68973835e-03 -1.64265427e-02 -1.64425757e-03  1.63573069e-02\n",
      "  -1.63417513e-03 -2.95043980e-02  2.41857408e-02 -2.74988296e-02\n",
      "   3.41910231e-02 -1.29727676e-02 -1.83920171e-02 -7.33256776e-03\n",
      "   1.54490174e-02  2.42083864e-02  1.94671419e-02 -1.63209857e-02\n",
      "   2.50289065e-02  1.97879540e-02 -2.89480409e-02 -7.56468509e-03\n",
      "  -2.90218816e-03 -7.64921747e-02  3.18558106e-02  6.22651586e-03\n",
      "   2.37440308e-02  2.08355345e-02]\n",
      " [-9.09008380e-03  4.01359945e-03  1.70055247e-02 -1.24996788e-02\n",
      "   7.58876267e-03  1.95335524e-02 -2.16205035e-03  1.75534933e-07\n",
      "  -1.84566880e-03 -2.01127516e-03 -1.38768182e-02  5.34142104e-03\n",
      "   9.33474130e-04 -5.44434060e-03 -1.81453786e-03 -2.17446100e-03\n",
      "  -1.61668850e-02  6.37830062e-03  2.10878530e-02 -3.51500447e-03\n",
      "   1.05972907e-02  1.76250951e-02  2.66454451e-02  1.01442480e-02\n",
      "   4.90655365e-03 -1.71642981e-02  2.76744770e-03 -1.19136950e-02\n",
      "  -1.66676704e-02 -1.16041345e-02  3.23351593e-02 -6.19896856e-03\n",
      "   1.05179307e-02 -1.12031650e-02 -1.55760980e-02 -6.60324434e-03\n",
      "  -3.96462150e-03  4.40138022e-02  5.15690635e-02  1.35511639e-02\n",
      "   1.53658276e-02 -3.47667795e-02]\n",
      " [ 6.56083235e-03 -1.37114063e-02  2.09973836e-02  8.65005840e-04\n",
      "  -6.48897608e-03  2.04020231e-02 -2.07234059e-03  6.57477428e-07\n",
      "  -2.18553357e-03 -2.90691545e-03 -1.51134108e-02  2.77561873e-02\n",
      "  -1.86728948e-02 -6.32060697e-03 -2.02573490e-03 -2.40581340e-03\n",
      "   1.77014946e-02  1.84130041e-02  9.12931830e-03 -3.75235832e-02\n",
      "   3.26181368e-02 -2.41564055e-02  5.75745398e-02 -1.83323956e-02\n",
      "   7.56839790e-03  1.46559841e-03  7.70186584e-03  6.60196630e-03\n",
      "  -5.77456860e-03 -3.11937251e-02  1.40874801e-02 -5.54943422e-03\n",
      "   9.19165741e-03  2.16359243e-03 -3.14856069e-02 -5.07202661e-03\n",
      "  -1.64061131e-02  3.81518040e-02  3.55858958e-02  3.02331668e-02\n",
      "   7.68541188e-03  3.37114326e-02]]\n",
      "[-1  0  1  2  3  4  5  6  7  8  9 10 11 12]\n"
     ]
    }
   ],
   "source": [
    "print(cluster_clf2_fit.coef_)\n",
    "print(cluster_clf2_fit.classes_)"
   ]
  },
  {
   "cell_type": "code",
   "execution_count": 808,
   "metadata": {},
   "outputs": [
    {
     "name": "stdout",
     "output_type": "stream",
     "text": [
      "For cluster -1: \n",
      "    no_seekfwd = -0.004415402886632337\n",
      "    seekfwd_1to2 = 0.003822523109801116\n",
      "    seekfwd_3+ = 0.0024980222815223414\n",
      "    no_seekback = -0.005104623596081216\n",
      "    seekback_1to2 = 0.0014180413332786782\n",
      "    seekback_3+ = 0.014109003958404538\n",
      "    jan = -0.00872984593168581\n",
      "    feb = -3.032663944623929e-06\n",
      "    march = 0.0269911027449358\n",
      "    april = 0.035469448420248774\n",
      "    may = 0.04152334798981754\n",
      "    june = 2.8242489632087233e-05\n",
      "    july = -0.025102079856237466\n",
      "    aug = 0.028206070469311815\n",
      "    sept = 0.026958566561161995\n",
      "    nov = -0.008621813089357886\n",
      "    afternoon = -0.00582052079141175\n",
      "    early_morn = -0.0015258072940813228\n",
      "    morning = 0.009064352472990256\n",
      "    night = -0.00011911576207420039\n",
      "    skip_v_soon = -0.019312944098743023\n",
      "    skip_fairly_soon = 0.01503217220739842\n",
      "    switched_context = 0.008349517904256558\n",
      "    paused_before_play = -0.008278713572397452\n",
      "    on_shuffle = -0.007133054510422039\n",
      "    premium = -0.008370161411441814\n",
      "    context_catalog = -0.00775456033827559\n",
      "    context_charts = 0.006208213555139026\n",
      "    context_editorial_playlist = 0.006316361838727386\n",
      "    context_personal_playlist = -0.005041200874445941\n",
      "    context_radio = -0.00788081984763224\n",
      "    context_user_collec = 0.006536741352404689\n",
      "    appload = 0.022266053454745444\n",
      "    start_backbutton = -0.004619817970445652\n",
      "    start_clickrow = -0.008086624988791454\n",
      "    start_endplay = -0.014612467136617293\n",
      "    start_fwdbutton = 0.005221801409921718\n",
      "    start_playbutton = 0.02067284601924095\n",
      "    start_remote = 0.03283853933698322\n",
      "    start_trackdone = -0.0031900398869643166\n",
      "    start_uriopen = 0.0068888917844693275\n",
      "    skipped = -0.004631309429482354\n",
      "For cluster 0: \n",
      "    no_seekfwd = 0.009999988393856723\n",
      "    seekfwd_1to2 = -0.01755706336856219\n",
      "    seekfwd_3+ = 0.02172300314061232\n",
      "    no_seekback = 0.03474133827687397\n",
      "    seekback_1to2 = -0.0423092654152235\n",
      "    seekback_3+ = 0.023101411382588352\n",
      "    jan = -0.0001082619039070045\n",
      "    feb = 1.0433668626359704e-06\n",
      "    march = -0.00013666976669548224\n",
      "    april = -0.00015415752384086894\n",
      "    may = -0.002601709049767013\n",
      "    june = -0.07996002741454382\n",
      "    july = 0.07327770574337121\n",
      "    aug = -0.0007291511977830343\n",
      "    sept = -0.00012825438060137825\n",
      "    nov = -0.0001714553730319798\n",
      "    afternoon = -0.0005915389477201041\n",
      "    early_morn = 0.004719004845927578\n",
      "    morning = 0.02326730122619106\n",
      "    night = -0.02094176343961112\n",
      "    skip_v_soon = -0.041539241017244696\n",
      "    skip_fairly_soon = 0.014530540108006577\n",
      "    switched_context = 0.011293244810592193\n",
      "    paused_before_play = 0.025889167576087672\n",
      "    on_shuffle = -0.019731549521812265\n",
      "    premium = -0.02596247648415499\n",
      "    context_catalog = 0.02918101627150219\n",
      "    context_charts = -0.01928514181607828\n",
      "    context_editorial_playlist = -0.03298531776533858\n",
      "    context_personal_playlist = 0.010822501472402025\n",
      "    context_radio = -0.015667369128662956\n",
      "    context_user_collec = 0.017086195858064798\n",
      "    appload = -0.038991986883346035\n",
      "    start_backbutton = 0.008074599689776361\n",
      "    start_clickrow = -0.025479223289412208\n",
      "    start_endplay = -0.004538242248180457\n",
      "    start_fwdbutton = 0.02615450418119548\n",
      "    start_playbutton = -0.06172904793937528\n",
      "    start_remote = -0.10037810986060201\n",
      "    start_trackdone = -0.00031208608372796314\n",
      "    start_uriopen = -0.12136935728227763\n",
      "    skipped = 0.05776186588601688\n",
      "For cluster 1: \n",
      "    no_seekfwd = -0.0014329591598991672\n",
      "    seekfwd_1to2 = 0.018089004941036074\n",
      "    seekfwd_3+ = -0.051023951904080066\n",
      "    no_seekback = 2.359483156745686e-05\n",
      "    seekback_1to2 = 7.84049492971221e-05\n",
      "    seekback_3+ = -0.0003751159633666751\n",
      "    jan = -0.0031037032727238277\n",
      "    feb = -6.179722357555515e-08\n",
      "    march = -0.0027793238022378866\n",
      "    april = -0.003962219947060052\n",
      "    may = 0.05459843899277006\n",
      "    june = 0.004409484082509659\n",
      "    july = -0.015602189935907205\n",
      "    aug = -0.007636422000887148\n",
      "    sept = -0.002775615072220041\n",
      "    nov = -0.0029432601523307167\n",
      "    afternoon = 0.005017329450749232\n",
      "    early_morn = -0.017639709099966313\n",
      "    morning = -0.021043882093576032\n",
      "    night = 0.022288163391469905\n",
      "    skip_v_soon = -0.03265583650095105\n",
      "    skip_fairly_soon = 0.0034851960674370953\n",
      "    switched_context = 0.017176247700796305\n",
      "    paused_before_play = 0.009760882081706888\n",
      "    on_shuffle = 0.015569882588747863\n",
      "    premium = -0.004577324912883522\n",
      "    context_catalog = 0.021914485185629835\n",
      "    context_charts = 0.013718737638209001\n",
      "    context_editorial_playlist = 0.010427624709403022\n",
      "    context_personal_playlist = 0.004248351974478413\n",
      "    context_radio = -0.006154973017095193\n",
      "    context_user_collec = -0.02630726536035989\n",
      "    appload = -0.0015999159733298721\n",
      "    start_backbutton = 0.017003390002295782\n",
      "    start_clickrow = 0.0027768797341268946\n",
      "    start_endplay = 0.04102425270346085\n",
      "    start_fwdbutton = -0.015049861622989753\n",
      "    start_playbutton = 0.04712495236871899\n",
      "    start_remote = -0.12195661841529126\n",
      "    start_trackdone = 0.009920174446022093\n",
      "    start_uriopen = -0.006663628267722241\n",
      "    skipped = 0.02608671593472515\n",
      "For cluster 2: \n",
      "    no_seekfwd = -0.0105624114136818\n",
      "    seekfwd_1to2 = 0.007245620290894895\n",
      "    seekfwd_3+ = 0.011816541311211928\n",
      "    no_seekback = -0.00425513204078333\n",
      "    seekback_1to2 = 0.002753295086006122\n",
      "    seekback_3+ = 0.006029743313913712\n",
      "    jan = -0.0024274443072481292\n",
      "    feb = 2.853056906799103e-07\n",
      "    march = -0.0023528423719753073\n",
      "    april = -0.0020216066400490307\n",
      "    may = -0.016573005563387404\n",
      "    june = 0.023167528903055085\n",
      "    july = -0.014192304119401127\n",
      "    aug = -0.0060309840483586995\n",
      "    sept = -0.002463804250874126\n",
      "    nov = -0.0025079399558314967\n",
      "    afternoon = 0.010575757245324101\n",
      "    early_morn = -0.00716026998112366\n",
      "    morning = -0.01543845943308034\n",
      "    night = 0.0054413042477988146\n",
      "    skip_v_soon = 0.04372012992251224\n",
      "    skip_fairly_soon = 0.0430039310130324\n",
      "    switched_context = -0.04642512628303302\n",
      "    paused_before_play = 0.024106334535309488\n",
      "    on_shuffle = -0.026078483391140852\n",
      "    premium = 0.01013766387053044\n",
      "    context_catalog = -0.026080100142454602\n",
      "    context_charts = -0.046446562301468784\n",
      "    context_editorial_playlist = 0.0028649771159770018\n",
      "    context_personal_playlist = 0.014962589705533822\n",
      "    context_radio = 0.009213450777624324\n",
      "    context_user_collec = 0.01966604871233988\n",
      "    appload = 0.010910936698180145\n",
      "    start_backbutton = 0.007247569703124814\n",
      "    start_clickrow = 0.03572420726535404\n",
      "    start_endplay = -0.0065258630555072505\n",
      "    start_fwdbutton = -0.04420187002658835\n",
      "    start_playbutton = 0.03864914545794653\n",
      "    start_remote = 0.06117623630232805\n",
      "    start_trackdone = 0.015733981351167887\n",
      "    start_uriopen = 0.025099087765576466\n",
      "    skipped = -0.05179806739961944\n",
      "For cluster 3: \n",
      "    no_seekfwd = -0.013466390355194518\n",
      "    seekfwd_1to2 = 0.010922162004088203\n",
      "    seekfwd_3+ = 0.009883029336740193\n",
      "    no_seekback = -0.005790054974462976\n",
      "    seekback_1to2 = 0.0030726067717588464\n",
      "    seekback_3+ = 0.010662816354550481\n",
      "    jan = -0.001983451768341525\n",
      "    feb = 4.4980428111315437e-07\n",
      "    march = -0.001520688496482786\n",
      "    april = -0.00246084640714728\n",
      "    may = -0.013053987089084942\n",
      "    june = 0.008645552933075262\n",
      "    july = -0.0023422007620042063\n",
      "    aug = -0.005417227465837411\n",
      "    sept = -0.0015752327720130518\n",
      "    nov = -0.0017428549315809795\n",
      "    afternoon = -0.010742467541492946\n",
      "    early_morn = 0.022889610267121902\n",
      "    morning = 0.003020215787365462\n",
      "    night = -0.004869072059831144\n",
      "    skip_v_soon = -0.043737605203841914\n",
      "    skip_fairly_soon = 0.05411762779486266\n",
      "    switched_context = 0.00704586431342607\n",
      "    paused_before_play = -0.00525449853322641\n",
      "    on_shuffle = -0.0002603169494055731\n",
      "    premium = 0.012819358021612241\n",
      "    context_catalog = 0.02004095903286839\n",
      "    context_charts = 0.024668320473624578\n",
      "    context_editorial_playlist = 0.002603549346670099\n",
      "    context_personal_playlist = -0.016098879191903146\n",
      "    context_radio = 0.000988665726019851\n",
      "    context_user_collec = -0.021119838873727276\n",
      "    appload = -0.03157317157156423\n",
      "    start_backbutton = 0.007718058894151224\n",
      "    start_clickrow = -0.012038830236216968\n",
      "    start_endplay = -0.00600558225665094\n",
      "    start_fwdbutton = 0.0255586197859204\n",
      "    start_playbutton = 0.0377491054792396\n",
      "    start_remote = 0.04545730507229257\n",
      "    start_trackdone = -0.024961938653281685\n",
      "    start_uriopen = 0.003947286878339188\n",
      "    skipped = -0.019783155488241916\n",
      "For cluster 4: \n",
      "    no_seekfwd = 0.0391391407010818\n",
      "    seekfwd_1to2 = -0.03148525884524317\n",
      "    seekfwd_3+ = -0.029521955882860128\n",
      "    no_seekback = 0.04659779392325158\n",
      "    seekback_1to2 = 0.0025674980296101447\n",
      "    seekback_3+ = -0.18537727786171943\n",
      "    jan = -0.0001308804438131155\n",
      "    feb = 8.672129342340111e-07\n",
      "    march = -0.00015088077670441527\n",
      "    april = -0.0001710188883654405\n",
      "    may = -0.002961923377300744\n",
      "    june = -0.08175122015082455\n",
      "    july = 0.07500886597112591\n",
      "    aug = -0.000740462721044742\n",
      "    sept = -0.00017283353070946398\n",
      "    nov = -0.00016708440691098268\n",
      "    afternoon = 0.000826047449533933\n",
      "    early_morn = 0.016897003299200682\n",
      "    morning = -0.02403741459181503\n",
      "    night = 0.008135049724750557\n",
      "    skip_v_soon = -0.024739453673858616\n",
      "    skip_fairly_soon = 0.026740263511029684\n",
      "    switched_context = -0.039160177909388035\n",
      "    paused_before_play = -0.028021580560522837\n",
      "    on_shuffle = -0.03901974318014485\n",
      "    premium = 0.013722746647607822\n",
      "    context_catalog = -0.014539611330416088\n",
      "    context_charts = -0.004668227418254911\n",
      "    context_editorial_playlist = 0.029674455462661405\n",
      "    context_personal_playlist = -0.016554019910337475\n",
      "    context_radio = -0.024430785177480773\n",
      "    context_user_collec = 0.01030321874205326\n",
      "    appload = -0.0405228068134417\n",
      "    start_backbutton = 0.018879800568203618\n",
      "    start_clickrow = 0.012290326555659653\n",
      "    start_endplay = -0.0037011791867587835\n",
      "    start_fwdbutton = -0.0005031387855186907\n",
      "    start_playbutton = -0.060476739810812856\n",
      "    start_remote = -0.09867386793558224\n",
      "    start_trackdone = -0.006221042679815704\n",
      "    start_uriopen = 0.010586678967710622\n",
      "    skipped = -0.035361684610369364\n",
      "For cluster 5: \n",
      "    no_seekfwd = -0.01015465060346484\n",
      "    seekfwd_1to2 = 0.003481050963775543\n",
      "    seekfwd_3+ = 0.022081592160542316\n",
      "    no_seekback = -1.1243358436978143e-05\n",
      "    seekback_1to2 = 0.006201753466864117\n",
      "    seekback_3+ = -0.022579224758827992\n",
      "    jan = -0.0030426440076893615\n",
      "    feb = -2.3693814605135868e-07\n",
      "    march = -0.002717875743134863\n",
      "    april = -0.0034089616258460814\n",
      "    may = -0.017252112272926515\n",
      "    june = 0.017744984072425776\n",
      "    july = -0.008577705791981109\n",
      "    aug = -0.006914416329838866\n",
      "    sept = -0.002616497010469693\n",
      "    nov = -0.0029290031496514587\n",
      "    afternoon = 0.015541283774689609\n",
      "    early_morn = -0.012480749912419799\n",
      "    morning = -0.0013772134900626469\n",
      "    night = -0.0079364637359092\n",
      "    skip_v_soon = -0.039366544371107495\n",
      "    skip_fairly_soon = 0.04331642449996252\n",
      "    switched_context = 0.018015043139719307\n",
      "    paused_before_play = -0.03391359773566428\n",
      "    on_shuffle = 0.016789981075904598\n",
      "    premium = 0.004057760915590198\n",
      "    context_catalog = 0.001942460693304942\n",
      "    context_charts = -0.008119533840344697\n",
      "    context_editorial_playlist = -0.005651528818683708\n",
      "    context_personal_playlist = 0.027856450851355175\n",
      "    context_radio = 0.011600903330063582\n",
      "    context_user_collec = -0.010320505578907326\n",
      "    appload = 0.004341837697679815\n",
      "    start_backbutton = -0.01809191526903576\n",
      "    start_clickrow = -0.0015311528501375433\n",
      "    start_endplay = 0.04111802664412354\n",
      "    start_fwdbutton = 0.0002889575324376383\n",
      "    start_playbutton = -0.07431940020806319\n",
      "    start_remote = 0.03336221376025009\n",
      "    start_trackdone = 0.009260487972275992\n",
      "    start_uriopen = 0.022225681170571773\n",
      "    skipped = -0.006117329582479931\n",
      "For cluster 6: \n",
      "    no_seekfwd = 0.001385205874447723\n",
      "    seekfwd_1to2 = 0.0034307841538600754\n",
      "    seekfwd_3+ = -0.015027952807305804\n",
      "    no_seekback = -0.0038880617272192184\n",
      "    seekback_1to2 = 0.002147036473008917\n",
      "    seekback_3+ = 0.006854629488652097\n",
      "    jan = -0.003729691041243503\n",
      "    feb = -6.357028591424388e-07\n",
      "    march = -0.003275204035002204\n",
      "    april = -0.004654827195333209\n",
      "    may = -0.019803785981165004\n",
      "    june = 0.024067519908497086\n",
      "    july = -0.012852468854896873\n",
      "    aug = -0.008734679054865762\n",
      "    sept = -0.0032614733200896505\n",
      "    nov = -0.003643342962376922\n",
      "    afternoon = -0.007220691888593931\n",
      "    early_morn = -0.007862995183794195\n",
      "    morning = 0.010840101014286539\n",
      "    night = 0.003816167055407204\n",
      "    skip_v_soon = 0.0038681833315582373\n",
      "    skip_fairly_soon = -0.001962374410178035\n",
      "    switched_context = -0.021526440713491673\n",
      "    paused_before_play = 0.03428665172010551\n",
      "    on_shuffle = 0.01276329361827224\n",
      "    premium = -0.003346028306294458\n",
      "    context_catalog = 0.007837097214853737\n",
      "    context_charts = 0.010758799153435465\n",
      "    context_editorial_playlist = 0.0032147364616801413\n",
      "    context_personal_playlist = 0.014930295164656302\n",
      "    context_radio = -0.001999438875132457\n",
      "    context_user_collec = -0.013910828319720472\n",
      "    appload = 0.0068384204961845965\n",
      "    start_backbutton = -0.01004511784908208\n",
      "    start_clickrow = 0.017613430405579278\n",
      "    start_endplay = -0.008325176852899555\n",
      "    start_fwdbutton = 0.0228820507364695\n",
      "    start_playbutton = -0.07730791042071716\n",
      "    start_remote = 0.04486231779392105\n",
      "    start_trackdone = -0.02994695525592702\n",
      "    start_uriopen = 0.00872749480490067\n",
      "    skipped = -0.030269846354787452\n",
      "For cluster 7: \n",
      "    no_seekfwd = -0.0032964927967912504\n",
      "    seekfwd_1to2 = 0.009510300007316922\n",
      "    seekfwd_3+ = -0.018613703615723665\n",
      "    no_seekback = -0.0007271363182548695\n",
      "    seekback_1to2 = -0.0141816618694479\n",
      "    seekback_3+ = 0.054476019823176194\n",
      "    jan = -0.0016910960765539758\n",
      "    feb = 9.94699777574658e-07\n",
      "    march = -0.0017344490469974176\n",
      "    april = -0.0026594355314402585\n",
      "    may = -0.013985703425657367\n",
      "    june = 0.024638029545667045\n",
      "    july = -0.016497864119919214\n",
      "    aug = -0.00550870088605819\n",
      "    sept = -0.0018115601458794767\n",
      "    nov = -0.0018161057310619848\n",
      "    afternoon = 0.006927838613284918\n",
      "    early_morn = 0.03910584375950163\n",
      "    morning = -0.032991610432300734\n",
      "    night = -0.004741474569642793\n",
      "    skip_v_soon = 0.011678356360203233\n",
      "    skip_fairly_soon = -0.037588743664160776\n",
      "    switched_context = -0.01542688223141418\n",
      "    paused_before_play = 0.012679402384905083\n",
      "    on_shuffle = 0.006460489279697601\n",
      "    premium = 0.036933708788394366\n",
      "    context_catalog = -0.02263528175072043\n",
      "    context_charts = 0.02922672761275753\n",
      "    context_editorial_playlist = -0.02436344488958713\n",
      "    context_personal_playlist = -0.0249352866768463\n",
      "    context_radio = 0.00036774334937667523\n",
      "    context_user_collec = 0.03729460955810235\n",
      "    appload = -0.039749464373148954\n",
      "    start_backbutton = -0.019688853241847885\n",
      "    start_clickrow = 0.06372559321644178\n",
      "    start_endplay = -0.005138749928717755\n",
      "    start_fwdbutton = -0.005272946700612144\n",
      "    start_playbutton = 0.05727713765599213\n",
      "    start_remote = -0.10290787797404297\n",
      "    start_trackdone = -0.01370588759228887\n",
      "    start_uriopen = 0.014437648791440398\n",
      "    skipped = -0.007581646265688418\n",
      "For cluster 8: \n",
      "    no_seekfwd = -0.013773655410297342\n",
      "    seekfwd_1to2 = 0.014269861064809531\n",
      "    seekfwd_3+ = 0.0005759709382100387\n",
      "    no_seekback = -0.022744453122751446\n",
      "    seekback_1to2 = 0.017731100804396608\n",
      "    seekback_3+ = 0.021235248547378686\n",
      "    jan = -0.0035289594122501116\n",
      "    feb = 4.097607746368153e-08\n",
      "    march = -0.002714357450605912\n",
      "    april = -0.003788456865353447\n",
      "    may = 0.054218775590222215\n",
      "    june = 0.003502133829106606\n",
      "    july = -0.01885019026711039\n",
      "    aug = -0.007657613960581405\n",
      "    sept = -0.002836660763753364\n",
      "    nov = 0.035248725900493785\n",
      "    afternoon = -0.019507115589135354\n",
      "    early_morn = -0.013703642264571653\n",
      "    morning = 0.011359808569171853\n",
      "    night = 0.02012114549724586\n",
      "    skip_v_soon = 0.03199475739865926\n",
      "    skip_fairly_soon = -0.046545509711841127\n",
      "    switched_context = -0.03455224484653801\n",
      "    paused_before_play = 0.001910822889219733\n",
      "    on_shuffle = -0.0033808947645228523\n",
      "    premium = -0.005503947797467555\n",
      "    context_catalog = 0.019399566609592182\n",
      "    context_charts = 0.007143926751720851\n",
      "    context_editorial_playlist = 0.002047062512673921\n",
      "    context_personal_playlist = 0.0036444679691510205\n",
      "    context_radio = -0.020733310083187198\n",
      "    context_user_collec = -0.00495625109259495\n",
      "    appload = 0.04508629523662511\n",
      "    start_backbutton = -0.016000961068724295\n",
      "    start_clickrow = 0.012850818977523095\n",
      "    start_endplay = -0.0072060597008636535\n",
      "    start_fwdbutton = -0.003177858590562533\n",
      "    start_playbutton = 0.03412726822723786\n",
      "    start_remote = 0.04738860262047637\n",
      "    start_trackdone = -0.0032187686734465922\n",
      "    start_uriopen = -0.003835659397506219\n",
      "    skipped = 0.030878922826259442\n",
      "For cluster 9: \n",
      "    no_seekfwd = 0.006523004911387119\n",
      "    seekfwd_1to2 = -0.009303233103701736\n",
      "    seekfwd_3+ = 0.007557692180544108\n",
      "    no_seekback = -0.016536126520054328\n",
      "    seekback_1to2 = 0.013298773325828685\n",
      "    seekback_3+ = 0.013952267621377202\n",
      "    jan = 0.036776114856132726\n",
      "    feb = -1.1586312999560782e-07\n",
      "    march = -0.0020273486133929666\n",
      "    april = -0.002682132216437366\n",
      "    may = -0.01505205472814052\n",
      "    june = -0.0006889073789977364\n",
      "    july = 0.0026815220771684435\n",
      "    aug = -0.006037431387787262\n",
      "    sept = -0.002025914037686845\n",
      "    nov = -0.002262557430776541\n",
      "    afternoon = 0.008149206989077808\n",
      "    early_morn = -0.031603050533938304\n",
      "    morning = 0.008763887228822802\n",
      "    night = 0.00348734047587173\n",
      "    skip_v_soon = 0.06850894548576854\n",
      "    skip_fairly_soon = -0.0780938189432446\n",
      "    switched_context = -0.013194771659867741\n",
      "    paused_before_play = 0.0025221063741886853\n",
      "    on_shuffle = -0.0026455788901530706\n",
      "    premium = -0.0012398320177270067\n",
      "    context_catalog = -0.021383327848568955\n",
      "    context_charts = -0.0005609633661382517\n",
      "    context_editorial_playlist = 0.0128447455779163\n",
      "    context_personal_playlist = 0.004754202722942395\n",
      "    context_radio = -0.011193848382951807\n",
      "    context_user_collec = 0.01379726348726654\n",
      "    appload = 0.018255307471278383\n",
      "    start_backbutton = -0.001225134840984635\n",
      "    start_clickrow = -0.021835678961047586\n",
      "    start_endplay = -0.006849002946673286\n",
      "    start_fwdbutton = 0.011372664853913472\n",
      "    start_playbutton = 0.03255921168397197\n",
      "    start_remote = 0.03982048934680952\n",
      "    start_trackdone = -0.0033687714512667557\n",
      "    start_uriopen = -0.0068393954571378075\n",
      "    skipped = 0.02103534678946554\n",
      "For cluster 10: \n",
      "    no_seekfwd = 0.002583874199514835\n",
      "    seekfwd_1to2 = -0.0027279443150820502\n",
      "    seekfwd_3+ = 4.880460622735648e-05\n",
      "    no_seekback = -0.01067122242744626\n",
      "    seekback_1to2 = 0.006122630453814748\n",
      "    seekback_3+ = 0.017974902654991787\n",
      "    jan = -0.004065745750442001\n",
      "    feb = -4.314126810257718e-07\n",
      "    march = -0.003550260276020238\n",
      "    april = -0.004587594969295652\n",
      "    may = -0.020066052073231144\n",
      "    june = 0.023099070863887686\n",
      "    july = -0.0192116694017393\n",
      "    aug = 0.03896596614791819\n",
      "    sept = -0.0034504485167652296\n",
      "    nov = -0.0038630343181083114\n",
      "    afternoon = -0.004689738353795612\n",
      "    early_morn = -0.016426542658481678\n",
      "    morning = -0.0016442575658221822\n",
      "    night = 0.016357306860225164\n",
      "    skip_v_soon = -0.0016341751333964563\n",
      "    skip_fairly_soon = -0.029504398028103052\n",
      "    switched_context = 0.024185740820297057\n",
      "    paused_before_play = -0.027498829562347706\n",
      "    on_shuffle = 0.03419102310040696\n",
      "    premium = -0.012972767579336254\n",
      "    context_catalog = -0.01839201714008087\n",
      "    context_charts = -0.0073325677564462025\n",
      "    context_editorial_playlist = 0.015449017414129435\n",
      "    context_personal_playlist = 0.024208386394450266\n"
     ]
    },
    {
     "name": "stdout",
     "output_type": "stream",
     "text": [
      "    context_radio = 0.019467141906669462\n",
      "    context_user_collec = -0.016320985696168192\n",
      "    appload = 0.025028906492917707\n",
      "    start_backbutton = 0.019787953951635042\n",
      "    start_clickrow = -0.028948040908078534\n",
      "    start_endplay = -0.007564685086557398\n",
      "    start_fwdbutton = -0.0029021881580022293\n",
      "    start_playbutton = -0.07649217472029012\n",
      "    start_remote = 0.03185581062435563\n",
      "    start_trackdone = 0.006226515862318551\n",
      "    start_uriopen = 0.02374403075685717\n",
      "    skipped = 0.020835534520494213\n",
      "For cluster 11: \n",
      "    no_seekfwd = -0.00909008380182723\n",
      "    seekfwd_1to2 = 0.0040135994450453275\n",
      "    seekfwd_3+ = 0.017005524672310916\n",
      "    no_seekback = -0.012499678785714043\n",
      "    seekback_1to2 = 0.007588762672370598\n",
      "    seekback_3+ = 0.019533552382522218\n",
      "    jan = -0.0021620503535942125\n",
      "    feb = 1.75534933383388e-07\n",
      "    march = -0.001845668800217498\n",
      "    april = -0.002011275160753275\n",
      "    may = -0.01387681818996663\n",
      "    june = 0.005341421043792467\n",
      "    july = 0.0009334741300585288\n",
      "    aug = -0.005444340597922564\n",
      "    sept = -0.0018145378619585056\n",
      "    nov = -0.002174460995946514\n",
      "    afternoon = -0.016166884976426935\n",
      "    early_morn = 0.006378300623622012\n",
      "    morning = 0.02108785300537884\n",
      "    night = -0.0035150044720846695\n",
      "    skip_v_soon = 0.010597290738312903\n",
      "    skip_fairly_soon = 0.017625095102707777\n",
      "    switched_context = 0.026645445109921555\n",
      "    paused_before_play = 0.010144247956205981\n",
      "    on_shuffle = 0.004906553650056684\n",
      "    premium = -0.017164298141189714\n",
      "    context_catalog = 0.002767447699190773\n",
      "    context_charts = -0.011913694988199284\n",
      "    context_editorial_playlist = -0.016667670364302507\n",
      "    context_personal_playlist = -0.011604134481551166\n",
      "    context_radio = 0.03233515928982405\n",
      "    context_user_collec = -0.0061989685646807275\n",
      "    appload = 0.010517930654212516\n",
      "    start_backbutton = -0.01120316499440882\n",
      "    start_clickrow = -0.015576097979205778\n",
      "    start_endplay = -0.006603244338508\n",
      "    start_fwdbutton = -0.003964621498645728\n",
      "    start_playbutton = 0.044013802240284235\n",
      "    start_remote = 0.05156906354394538\n",
      "    start_trackdone = 0.01355116388130852\n",
      "    start_uriopen = 0.015365827600759226\n",
      "    skipped = -0.034766779456722526\n",
      "For cluster 12: \n",
      "    no_seekfwd = 0.0065608323481552815\n",
      "    seekfwd_1to2 = -0.01371140634871563\n",
      "    seekfwd_3+ = 0.020997383582053837\n",
      "    no_seekback = 0.0008650058399233991\n",
      "    seekback_1to2 = -0.006488976081458965\n",
      "    seekback_3+ = 0.02040202305639082\n",
      "    jan = -0.0020723405867789013\n",
      "    feb = 6.574774283133898e-07\n",
      "    march = -0.0021855335655821743\n",
      "    april = -0.002906915449376794\n",
      "    may = -0.015113410822148447\n",
      "    june = 0.02775618727274174\n",
      "    july = -0.01867289481283392\n",
      "    aug = -0.006320606966243061\n",
      "    sept = -0.00202573489826532\n",
      "    nov = -0.002405813403389179\n",
      "    afternoon = 0.017701494565543197\n",
      "    early_morn = 0.01841300413286568\n",
      "    morning = 0.009129318302924575\n",
      "    night = -0.03752358321387912\n",
      "    skip_v_soon = 0.032618136761117654\n",
      "    skip_fairly_soon = -0.024156405548011916\n",
      "    switched_context = 0.05757453984422139\n",
      "    paused_before_play = -0.018332395553542824\n",
      "    on_shuffle = 0.007568397896340012\n",
      "    premium = 0.0014655984067936227\n",
      "    context_catalog = 0.00770186584480823\n",
      "    context_charts = 0.006601966302288694\n",
      "    context_editorial_playlist = -0.005774568601782552\n",
      "    context_personal_playlist = -0.031193725119859378\n",
      "    context_radio = 0.014087480131956267\n",
      "    context_user_collec = -0.005549434224803784\n",
      "    appload = 0.009191657412578064\n",
      "    start_backbutton = 0.002163592425555832\n",
      "    start_clickrow = -0.03148560694236841\n",
      "    start_endplay = -0.005072026609717499\n",
      "    start_fwdbutton = -0.01640611311827769\n",
      "    start_playbutton = 0.03815180396659772\n",
      "    start_remote = 0.035585895784134416\n",
      "    start_trackdone = 0.030233166764028013\n",
      "    start_uriopen = 0.007685411883402346\n",
      "    skipped = 0.03371143262946722\n"
     ]
    }
   ],
   "source": [
    "#Okay, let's look at these coeffs in an easier to interpret format\n",
    "\n",
    "for cluster in range(len(cluster_clf2_fit.coef_)):\n",
    "    print('For cluster {}: '.format(cluster-1))\n",
    "    for coef in range(len(cluster_clf2_fit.coef_[cluster])):\n",
    "        print('   ', Xclusters_track10_dummies.columns[coef], '=', cluster_clf2_fit.coef_[cluster][coef])\n",
    "        "
   ]
  },
  {
   "cell_type": "code",
   "execution_count": 819,
   "metadata": {},
   "outputs": [
    {
     "name": "stdout",
     "output_type": "stream",
     "text": [
      "Cluster -1 Max Coef:  0.04152334798981754 may\n",
      "Cluster 0 Max Coef:  0.07327770574337121 july\n",
      "Cluster 1 Max Coef:  0.05459843899277006 may\n",
      "Cluster 2 Max Coef:  0.06117623630232805 start_remote\n",
      "Cluster 3 Max Coef:  0.05411762779486266 skip_fairly_soon\n",
      "Cluster 4 Max Coef:  0.07500886597112591 july\n",
      "Cluster 5 Max Coef:  0.04331642449996252 skip_fairly_soon\n",
      "Cluster 6 Max Coef:  0.04486231779392105 start_remote\n",
      "Cluster 7 Max Coef:  0.06372559321644178 start_clickrow\n",
      "Cluster 8 Max Coef:  0.054218775590222215 may\n",
      "Cluster 9 Max Coef:  0.06850894548576854 skip_v_soon\n",
      "Cluster 10 Max Coef:  0.03896596614791819 aug\n",
      "Cluster 11 Max Coef:  0.05156906354394538 start_remote\n",
      "Cluster 12 Max Coef:  0.05757453984422139 switched_context\n"
     ]
    }
   ],
   "source": [
    "#  I want to see the maximum coefs for each cluster along with corresponding column names:\n",
    "for cluster in range(len(cluster_clf2_fit.coef_)):\n",
    "    max_seen = float(\"-inf\")\n",
    "    column_name = None\n",
    "    for index, coef in enumerate(cluster_clf2_fit.coef_[cluster]):\n",
    "        if coef <= max_seen: continue \n",
    "        column_name = Xclusters_track10_dummies.columns[index]\n",
    "        max_seen = coef\n",
    "    print('Cluster {} Max Coef: '.format(cluster-1), max_seen, column_name)"
   ]
  },
  {
   "cell_type": "code",
   "execution_count": null,
   "metadata": {},
   "outputs": [],
   "source": [
    "# Print out absolute value maximum coefficients (whether pos or neg)\n",
    "for cluster in range(len(cluster_clf2_fit.coef_)):\n",
    "    max_seen = 0\n",
    "    column_name = None\n",
    "    for index, coef in enumerate(cluster_clf2_fit.coef_[cluster]):\n",
    "        abs_coef = abs(coef)\n",
    "        if abs_coef <= abs(max_seen): continue \n",
    "        column_name = Xclusters_track10_dummies.columns[index]\n",
    "        max_seen = coef\n",
    "    print('Cluster {} Max Coef: '.format(cluster-1), max_seen, column_name)"
   ]
  },
  {
   "cell_type": "code",
   "execution_count": null,
   "metadata": {},
   "outputs": [],
   "source": [
    "# Print out minimum coefficients (which in this case actually means they are the strongest negative ones)\n",
    "for cluster in range(len(cluster_clf2_fit.coef_)):\n",
    "    min_seen = float(\"inf\")\n",
    "    column_name = None\n",
    "    for index, coef in enumerate(cluster_clf2_fit.coef_[cluster]):\n",
    "        if coef >= min_seen: continue \n",
    "        column_name = Xclusters_track10_dummies.columns[index]\n",
    "        min_seen = coef\n",
    "    print('Cluster {} Max Coef: '.format(cluster-1), min_seen, column_name)"
   ]
  },
  {
   "cell_type": "code",
   "execution_count": null,
   "metadata": {},
   "outputs": [],
   "source": [
    "# Now we'll get the odds ratios for track10\n",
    "\n",
    "t10_odds = np.exp(cluster_clf2_fit.coef_)\n",
    "t10_odds"
   ]
  },
  {
   "cell_type": "code",
   "execution_count": null,
   "metadata": {},
   "outputs": [],
   "source": [
    "# I want to print out the maximum odds ratios for each column:\n",
    "for cluster in range(len(t10_odds)):\n",
    "    max_seen = float(\"-inf\")\n",
    "    column_name = None\n",
    "    for index, oratio in enumerate(t10_odds[cluster]):\n",
    "        if oratio <= max_seen: continue \n",
    "        column_name = Xclusters_track10_dummies.columns[index]\n",
    "        max_seen = oratio\n",
    "    print('Cluster {} Max Odds Ratio: '.format(cluster-1), max_seen, column_name)"
   ]
  },
  {
   "cell_type": "code",
   "execution_count": null,
   "metadata": {},
   "outputs": [],
   "source": [
    "# Now we'll run a logistic regression on the clusters for track20\n",
    "scaler = StandardScaler()\n",
    "X20 = scaler.fit_transform(Xclusters_track20_dummies)\n",
    "y = track20_hd_labels\n",
    "\n",
    "X_train, X_test, y_train, y_test = train_test_split(X, y, test_size=.2, random_state=60)"
   ]
  },
  {
   "cell_type": "code",
   "execution_count": null,
   "metadata": {},
   "outputs": [],
   "source": [
    "cluster_clf3 = LogisticRegression(multi_class ='multinomial', solver ='newton-cg')\n",
    "cluster_clf3_fit = cluster_clf.fit(X_train, y_train)"
   ]
  },
  {
   "cell_type": "code",
   "execution_count": null,
   "metadata": {},
   "outputs": [],
   "source": [
    "y_pred = cluster_clf3_fit.predict(X_test)"
   ]
  },
  {
   "cell_type": "code",
   "execution_count": null,
   "metadata": {},
   "outputs": [],
   "source": [
    "# Now a confusion matrix for the track1 clusters' logistic regression\n",
    "cm3 = confusion_matrix(y_test, y_pred)\n",
    "print(cm3)"
   ]
  },
  {
   "cell_type": "code",
   "execution_count": null,
   "metadata": {
    "scrolled": true
   },
   "outputs": [],
   "source": [
    "print(cluster_clf3_fit.coef_)\n",
    "print(cluster_clf3_fit.classes_)"
   ]
  },
  {
   "cell_type": "code",
   "execution_count": null,
   "metadata": {},
   "outputs": [],
   "source": [
    "#Okay, let's look at these coeffs in an easier to interpret format\n",
    "\n",
    "for cluster in range(len(cluster_clf3_fit.coef_)):\n",
    "    print('For cluster {}: '.format(cluster-1))\n",
    "    for coef in range(len(cluster_clf3_fit.coef_[cluster])):\n",
    "        print('   ', Xclusters_track20_dummies.columns[coef], '=', cluster_clf3_fit.coef_[cluster][coef])"
   ]
  },
  {
   "cell_type": "code",
   "execution_count": null,
   "metadata": {},
   "outputs": [],
   "source": [
    "# I want to print out the actual column names for the max coefficients :\n",
    "for cluster in range(len(cluster_clf3_fit.coef_)):\n",
    "    max_seen = float(\"-inf\")\n",
    "    column_name = None\n",
    "    for index, coef in enumerate(cluster_clf3_fit.coef_[cluster]):\n",
    "        if coef <= max_seen: continue \n",
    "        column_name = Xclusters_track20_dummies.columns[index]\n",
    "        max_seen = coef\n",
    "    print('Cluster {} Max Coef: '.format(cluster-1), max_seen, column_name)"
   ]
  },
  {
   "cell_type": "code",
   "execution_count": null,
   "metadata": {},
   "outputs": [],
   "source": [
    "# Print out absolute value maximum coefficients (whether pos or neg)\n",
    "for cluster in range(len(cluster_clf3_fit.coef_)):\n",
    "    max_seen = 0\n",
    "    column_name = None\n",
    "    for index, coef in enumerate(cluster_clf3_fit.coef_[cluster]):\n",
    "        abs_coef = abs(coef)\n",
    "        if abs_coef <= abs(max_seen): continue \n",
    "        column_name = Xclusters_track20_dummies.columns[index]\n",
    "        max_seen = coef\n",
    "    print('Cluster {} Max Coef: '.format(cluster-1), max_seen, column_name)"
   ]
  },
  {
   "cell_type": "code",
   "execution_count": null,
   "metadata": {},
   "outputs": [],
   "source": [
    "# Print out minimum coefficients (which in this case actually means they are the strongest negative ones)\n",
    "for cluster in range(len(cluster_clf3_fit.coef_)):\n",
    "    min_seen = float(\"inf\")\n",
    "    column_name = None\n",
    "    for index, coef in enumerate(cluster_clf3_fit.coef_[cluster]):\n",
    "        if coef >= min_seen: continue \n",
    "        column_name = Xclusters_track20_dummies.columns[index]\n",
    "        min_seen = coef\n",
    "    print('Cluster {} Max Coef: '.format(cluster-1), min_seen, column_name)"
   ]
  },
  {
   "cell_type": "code",
   "execution_count": null,
   "metadata": {},
   "outputs": [],
   "source": [
    "# Now get odds ratios for track20\n",
    "\n",
    "t20_odds = np.exp(cluster_clf2_fit.coef_)\n",
    "t20_odds"
   ]
  },
  {
   "cell_type": "code",
   "execution_count": null,
   "metadata": {},
   "outputs": [],
   "source": [
    "# I want to print out the maximum odds ratios for each column:\n",
    "for cluster in range(len(t20_odds)):\n",
    "    max_seen = float(\"-inf\")\n",
    "    column_name = None\n",
    "    for index, oratio in enumerate(t20_odds[cluster]):\n",
    "        if oratio <= max_seen: continue \n",
    "        column_name = Xclusters_track20_dummies.columns[index]\n",
    "        max_seen = oratio\n",
    "    print('Cluster {} Max Odds Ratio: '.format(cluster-1), max_seen, column_name)"
   ]
  },
  {
   "cell_type": "code",
   "execution_count": null,
   "metadata": {},
   "outputs": [],
   "source": [
    "# First checking length of cluster labels array is same length as track1 df\n",
    "print(len(track1_hd_labels))"
   ]
  },
  {
   "cell_type": "code",
   "execution_count": null,
   "metadata": {},
   "outputs": [],
   "source": [
    "# Placing each observation's cluster assignment in the df \n",
    "Xclusters_track1_dummies['hd_clusters'] = pd.Series(track1_hd_labels, index=Xclusters_track1_dummies.index)"
   ]
  },
  {
   "cell_type": "code",
   "execution_count": null,
   "metadata": {},
   "outputs": [],
   "source": [
    "# See the cluster breakdown\n",
    "print(Xclusters_track1_dummies['hd_clusters'].unique())\n",
    "print(Xclusters_track1_dummies['hd_clusters'].value_counts())"
   ]
  },
  {
   "cell_type": "markdown",
   "metadata": {},
   "source": [
    "Now we'll add the clusters as an array back into the track1 df so we can investigate them further"
   ]
  },
  {
   "cell_type": "markdown",
   "metadata": {},
   "source": [
    "Next up, let's do some barplots with the clusters to investigate a bit more what they mean.\n",
    "\n",
    "I'll choose 6 variables to look at with the barplots. I can always do more later if I need to.\n",
    "\n",
    "1. premium\n",
    "2. skipped\n",
    "3. reason_start_num\n",
    "4. on_shuffle\n",
    "5. context\n",
    "6. hour_of_day"
   ]
  },
  {
   "cell_type": "code",
   "execution_count": null,
   "metadata": {},
   "outputs": [],
   "source": [
    "# Plot clusters with premium\n",
    "sns.catplot(x='hd_clusters', y='premium', kind='bar', palette='Greens_r', data=Xclusters_track1_dummies)\n",
    "plt.title('Relationship between Clusters & Premium Membership')\n",
    "plt.xlabel('Clusters')\n",
    "plt.ylabel('Premium Membership')\n",
    "plt.gcf().set_size_inches(15,10)\n",
    "plt.show()"
   ]
  },
  {
   "cell_type": "code",
   "execution_count": null,
   "metadata": {
    "scrolled": false
   },
   "outputs": [],
   "source": [
    "# Plot clusters with skipped\n",
    "sns.catplot(x='hd_clusters', y='skipped', kind='bar', palette='Greens_r', data=Xclusters_track1_dummies)\n",
    "plt.title('Relationship between Clusters & Skipped')\n",
    "plt.xlabel('Clusters')\n",
    "plt.ylabel('Skipped')\n",
    "plt.gcf().set_size_inches(15,10)\n",
    "plt.show()"
   ]
  },
  {
   "cell_type": "code",
   "execution_count": null,
   "metadata": {
    "scrolled": false
   },
   "outputs": [],
   "source": [
    "# Let's see what a non-binary dummy var looks like\n",
    "sns.catplot(x='hd_clusters', y='night', kind='bar', palette='Greens_r', data=Xclusters_track1_dummies)\n",
    "plt.title('Relationship between Clusters & Night-time Listening')\n",
    "plt.xlabel('Clusters')\n",
    "plt.ylabel('Night-time Listening')\n",
    "plt.gcf().set_size_inches(15,10)\n",
    "plt.show()"
   ]
  },
  {
   "cell_type": "markdown",
   "metadata": {},
   "source": [
    "That's interesting. It looks like Cluster 11 had many more incidences of night-time listening sessions than the others. I will keep the dataframe the dummies dataframe then, rather than using the df that existed pre-one-hot encoding. Looking specifically at each dummy value seems like it may be more illuminating."
   ]
  },
  {
   "cell_type": "code",
   "execution_count": null,
   "metadata": {
    "scrolled": true
   },
   "outputs": [],
   "source": [
    "# Let's look at all of the vars in the dummies here, and then later we can choose which will go in the presentation\n",
    "for col in Xclusters_track1_dummies:\n",
    "    sns.catplot(x='hd_clusters', y=col, kind='bar', palette='Greens_r', data=Xclusters_track1_dummies)\n",
    "    plt.title('Relationship between Clusters & {}'.format(col))\n",
    "    plt.xlabel('Clusters')\n",
    "    plt.ylabel('{}'.format(col))\n",
    "    plt.gcf().set_size_inches(15,10)\n",
    "    plt.show()"
   ]
  },
  {
   "cell_type": "markdown",
   "metadata": {},
   "source": [
    "Now we'll add the clusters as an array back into the track10 df so we can investigate them further"
   ]
  },
  {
   "cell_type": "code",
   "execution_count": null,
   "metadata": {
    "scrolled": true
   },
   "outputs": [],
   "source": [
    "# First checking length of cluster labels array is same length as track10 df\n",
    "print(len(track10_hd_labels))"
   ]
  },
  {
   "cell_type": "code",
   "execution_count": null,
   "metadata": {},
   "outputs": [],
   "source": [
    "# Placing each observation's cluster assignment in the df \n",
    "Xclusters_track10_dummies['hd_clusters'] = pd.Series(track10_hd_labels, index=Xclusters_track10_dummies.index)"
   ]
  },
  {
   "cell_type": "code",
   "execution_count": null,
   "metadata": {},
   "outputs": [],
   "source": [
    "# Look at the new column; make sure it's okay\n",
    "Xclusters_track10_dummies.head(20)"
   ]
  },
  {
   "cell_type": "code",
   "execution_count": null,
   "metadata": {},
   "outputs": [],
   "source": [
    "# See the cluster breakdown\n",
    "print(Xclusters_track10_dummies['hd_clusters'].unique())\n",
    "print(Xclusters_track10_dummies['hd_clusters'].value_counts())"
   ]
  },
  {
   "cell_type": "markdown",
   "metadata": {},
   "source": [
    "Next up, let's do some barplots with the clusters to investigate a bit more what they mean."
   ]
  },
  {
   "cell_type": "code",
   "execution_count": null,
   "metadata": {
    "scrolled": true
   },
   "outputs": [],
   "source": [
    "# Let's look at all of the vars in the dummies here, and later we can choose which will go in the presentation\n",
    "for col in Xclusters_track10_dummies:\n",
    "    sns.catplot(x='hd_clusters', y=col, kind='bar', palette='Greens_r', data=Xclusters_track10_dummies)\n",
    "    plt.title('Relationship between Clusters & {}'.format(col))\n",
    "    plt.xlabel('Clusters')\n",
    "    plt.ylabel('{}'.format(col))\n",
    "    plt.gcf().set_size_inches(15,10)\n",
    "    plt.show()"
   ]
  },
  {
   "cell_type": "markdown",
   "metadata": {},
   "source": [
    "Now we'll add the clusters as an array back into the track20 df so we can investigate them further"
   ]
  },
  {
   "cell_type": "code",
   "execution_count": null,
   "metadata": {},
   "outputs": [],
   "source": [
    "# First checking length of cluster labels array is same length as track10 df\n",
    "print(len(track20_hd_labels))"
   ]
  },
  {
   "cell_type": "code",
   "execution_count": null,
   "metadata": {},
   "outputs": [],
   "source": [
    "# Placing each observation's cluster assignment in the df \n",
    "Xclusters_track20_dummies['hd_clusters'] = pd.Series(track20_hd_labels, index=Xclusters_track20_dummies.index)"
   ]
  },
  {
   "cell_type": "code",
   "execution_count": null,
   "metadata": {},
   "outputs": [],
   "source": [
    "# Look at the new column; make sure it's okay\n",
    "Xclusters_track20_dummies.head(20)"
   ]
  },
  {
   "cell_type": "code",
   "execution_count": null,
   "metadata": {},
   "outputs": [],
   "source": [
    "# See the cluster breakdown\n",
    "print(Xclusters_track20_dummies['hd_clusters'].unique())\n",
    "print(Xclusters_track20_dummies['hd_clusters'].value_counts())"
   ]
  },
  {
   "cell_type": "markdown",
   "metadata": {},
   "source": [
    "Next up, let's do some barplots with the clusters to investigate a bit more what they mean."
   ]
  },
  {
   "cell_type": "code",
   "execution_count": null,
   "metadata": {
    "scrolled": true
   },
   "outputs": [],
   "source": [
    "# Let's look at all of the vars in the dummies here, and later we can choose which will go in the presentation\n",
    "for col in Xclusters_track20_dummies:\n",
    "    sns.catplot(x='hd_clusters', y=col, kind='bar', palette='Greens_r', data=Xclusters_track20_dummies)\n",
    "    plt.title('Relationship between Clusters & {}'.format(col))\n",
    "    plt.xlabel('Clusters')\n",
    "    plt.ylabel('{}'.format(col))\n",
    "    plt.gcf().set_size_inches(15,10)\n",
    "    plt.show()"
   ]
  },
  {
   "cell_type": "code",
   "execution_count": null,
   "metadata": {},
   "outputs": [],
   "source": [
    "# metrics: AUC score;\n",
    "# for regression: loss function; F1 score\n",
    "# use train val & test set: parfit"
   ]
  },
  {
   "cell_type": "code",
   "execution_count": null,
   "metadata": {},
   "outputs": [],
   "source": [
    "#CREATE THE SEPARATED ANALYSIS SPECIFIC DATASETS SO THAT THE OUTCOME VARIABLE IS ALONE AND READY FOR THE ANALYSIS\n",
    "# track1_sl = Xclusters_track1_dummies.drop(columns='skipped')\n",
    "# X, y = track1_sl.iloc[:,:],Xclusters_track1_dummies.iloc[:,41]"
   ]
  },
  {
   "cell_type": "code",
   "execution_count": null,
   "metadata": {},
   "outputs": [],
   "source": [
    "# Split into train, val, & test sets\n",
    "# X_train, X_test, y_train, y_test = train_test_split(X, y, test_size=0.2, random_state=968)\n",
    "# X_train, X_val, y_train, y_val = train_test_split(X_train, y_train, test_size=0.25, random_state=987)"
   ]
  },
  {
   "cell_type": "code",
   "execution_count": null,
   "metadata": {},
   "outputs": [],
   "source": [
    "# grid1 = {\n",
    "#     'max_iter': [50, 55, 60, 65, 70, 75, 80, 85, 90, 95, 100, 200, 500, 700, 900, 1100],\n",
    "#     'n_jobs': [-1],\n",
    "#     'random_state': [4218]\n",
    "# }\n",
    "# paramGrid = ParameterGrid(grid2)\n",
    "# best_model, best_score, all_models, all_scores = bestFit(LogisticRegression(),paramGrid,\n",
    "#                                                     y_train, y_train, X_val, X_val,\n",
    "#                                                     metric=log_loss, greater_is_better=False,\n",
    "#                                                     scoreLabel='log_loss')\n",
    "# print(best_model, best_score)"
   ]
  },
  {
   "cell_type": "code",
   "execution_count": 779,
   "metadata": {},
   "outputs": [
    {
     "data": {
      "text/plain": [
       "array([ 1, -1,  8, ...,  0,  3,  8])"
      ]
     },
     "execution_count": 779,
     "metadata": {},
     "output_type": "execute_result"
    }
   ],
   "source": [
    "# pipe1 = Pipeline([('scaler', scaler), ('regression', cluster_clf1_fit)])\n",
    "\n",
    "# pipe_pred = pipe1.predict(X1_test)\n",
    "# pipe_pred"
   ]
  }
 ],
 "metadata": {
  "kernelspec": {
   "display_name": "Python 3",
   "language": "python",
   "name": "python3"
  },
  "language_info": {
   "codemirror_mode": {
    "name": "ipython",
    "version": 3
   },
   "file_extension": ".py",
   "mimetype": "text/x-python",
   "name": "python",
   "nbconvert_exporter": "python",
   "pygments_lexer": "ipython3",
   "version": "3.7.4-final"
  }
 },
 "nbformat": 4,
 "nbformat_minor": 2
}